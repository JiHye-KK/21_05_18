{
 "cells": [
  {
   "cell_type": "markdown",
   "metadata": {},
   "source": [
    "# 프로그래밍3 프로젝트\n",
    "산업데이터사이언스학부 201904200 김지혜"
   ]
  },
  {
   "cell_type": "markdown",
   "metadata": {},
   "source": [
    "### 1. 데이터에 대한 설명"
   ]
  },
  {
   "cell_type": "code",
   "execution_count": 1,
   "metadata": {},
   "outputs": [],
   "source": [
    "import pandas as pd\n",
    "import numpy as np\n",
    "import matplotlib.pyplot as plt\n",
    "import seaborn as sns"
   ]
  },
  {
   "cell_type": "code",
   "execution_count": 2,
   "metadata": {},
   "outputs": [
    {
     "data": {
      "text/html": [
       "<div>\n",
       "<style scoped>\n",
       "    .dataframe tbody tr th:only-of-type {\n",
       "        vertical-align: middle;\n",
       "    }\n",
       "\n",
       "    .dataframe tbody tr th {\n",
       "        vertical-align: top;\n",
       "    }\n",
       "\n",
       "    .dataframe thead th {\n",
       "        text-align: right;\n",
       "    }\n",
       "</style>\n",
       "<table border=\"1\" class=\"dataframe\">\n",
       "  <thead>\n",
       "    <tr style=\"text-align: right;\">\n",
       "      <th></th>\n",
       "      <th>분류군</th>\n",
       "      <th>등급</th>\n",
       "      <th>국명</th>\n",
       "      <th>학명</th>\n",
       "      <th>고유종</th>\n",
       "      <th>국가적색목록</th>\n",
       "      <th>세계자연보전연맹</th>\n",
       "    </tr>\n",
       "  </thead>\n",
       "  <tbody>\n",
       "    <tr>\n",
       "      <th>0</th>\n",
       "      <td>포유류</td>\n",
       "      <td>I</td>\n",
       "      <td>늑대</td>\n",
       "      <td>Canis lupus coreanus</td>\n",
       "      <td>NaN</td>\n",
       "      <td>RE</td>\n",
       "      <td>LC</td>\n",
       "    </tr>\n",
       "    <tr>\n",
       "      <th>1</th>\n",
       "      <td>포유류</td>\n",
       "      <td>I</td>\n",
       "      <td>대륙사슴</td>\n",
       "      <td>Cervus nippon hortulorum</td>\n",
       "      <td>NaN</td>\n",
       "      <td>RE</td>\n",
       "      <td>LC</td>\n",
       "    </tr>\n",
       "    <tr>\n",
       "      <th>2</th>\n",
       "      <td>포유류</td>\n",
       "      <td>I</td>\n",
       "      <td>반달가슴곰</td>\n",
       "      <td>Ursus thibetanus ussuricus</td>\n",
       "      <td>NaN</td>\n",
       "      <td>EN</td>\n",
       "      <td>VU</td>\n",
       "    </tr>\n",
       "    <tr>\n",
       "      <th>3</th>\n",
       "      <td>포유류</td>\n",
       "      <td>I</td>\n",
       "      <td>붉은박쥐</td>\n",
       "      <td>Myotis rufoniger</td>\n",
       "      <td>NaN</td>\n",
       "      <td>VU</td>\n",
       "      <td>LC</td>\n",
       "    </tr>\n",
       "    <tr>\n",
       "      <th>4</th>\n",
       "      <td>포유류</td>\n",
       "      <td>I</td>\n",
       "      <td>사향노루</td>\n",
       "      <td>Moschus moschiferus</td>\n",
       "      <td>NaN</td>\n",
       "      <td>CR</td>\n",
       "      <td>VU</td>\n",
       "    </tr>\n",
       "    <tr>\n",
       "      <th>...</th>\n",
       "      <td>...</td>\n",
       "      <td>...</td>\n",
       "      <td>...</td>\n",
       "      <td>...</td>\n",
       "      <td>...</td>\n",
       "      <td>...</td>\n",
       "      <td>...</td>\n",
       "    </tr>\n",
       "    <tr>\n",
       "      <th>262</th>\n",
       "      <td>식물</td>\n",
       "      <td>II</td>\n",
       "      <td>홍월귤</td>\n",
       "      <td>Arctous alpinus var. japonicus</td>\n",
       "      <td>NaN</td>\n",
       "      <td>VU</td>\n",
       "      <td>NaN</td>\n",
       "    </tr>\n",
       "    <tr>\n",
       "      <th>263</th>\n",
       "      <td>식물</td>\n",
       "      <td>II</td>\n",
       "      <td>황근</td>\n",
       "      <td>Hibiscus hamabo</td>\n",
       "      <td>NaN</td>\n",
       "      <td>VU</td>\n",
       "      <td>NaN</td>\n",
       "    </tr>\n",
       "    <tr>\n",
       "      <th>264</th>\n",
       "      <td>해조류</td>\n",
       "      <td>II</td>\n",
       "      <td>그물공말</td>\n",
       "      <td>Dictyosphaeria cavernosa</td>\n",
       "      <td>NaN</td>\n",
       "      <td>NaN</td>\n",
       "      <td>NaN</td>\n",
       "    </tr>\n",
       "    <tr>\n",
       "      <th>265</th>\n",
       "      <td>해조류</td>\n",
       "      <td>II</td>\n",
       "      <td>삼나무말</td>\n",
       "      <td>Coccophora langsdorfii</td>\n",
       "      <td>NaN</td>\n",
       "      <td>NaN</td>\n",
       "      <td>NaN</td>\n",
       "    </tr>\n",
       "    <tr>\n",
       "      <th>266</th>\n",
       "      <td>고등균류</td>\n",
       "      <td>II</td>\n",
       "      <td>화경버섯</td>\n",
       "      <td>Lampteromyces japonicus</td>\n",
       "      <td>NaN</td>\n",
       "      <td>NaN</td>\n",
       "      <td>NaN</td>\n",
       "    </tr>\n",
       "  </tbody>\n",
       "</table>\n",
       "<p>267 rows × 7 columns</p>\n",
       "</div>"
      ],
      "text/plain": [
       "      분류군  등급     국명                              학명  고유종 국가적색목록 세계자연보전연맹\n",
       "0     포유류   I     늑대            Canis lupus coreanus  NaN     RE       LC\n",
       "1     포유류   I   대륙사슴        Cervus nippon hortulorum  NaN     RE       LC\n",
       "2     포유류   I  반달가슴곰      Ursus thibetanus ussuricus  NaN     EN       VU\n",
       "3     포유류   I   붉은박쥐               Myotis rufoniger   NaN     VU       LC\n",
       "4     포유류   I   사향노루            Moschus moschiferus   NaN     CR       VU\n",
       "..    ...  ..    ...                             ...  ...    ...      ...\n",
       "262    식물  II    홍월귤  Arctous alpinus var. japonicus  NaN     VU      NaN\n",
       "263    식물  II     황근                 Hibiscus hamabo  NaN     VU      NaN\n",
       "264   해조류  II   그물공말        Dictyosphaeria cavernosa  NaN    NaN      NaN\n",
       "265   해조류  II   삼나무말          Coccophora langsdorfii  NaN    NaN      NaN\n",
       "266  고등균류  II   화경버섯         Lampteromyces japonicus  NaN    NaN      NaN\n",
       "\n",
       "[267 rows x 7 columns]"
      ]
     },
     "execution_count": 2,
     "metadata": {},
     "output_type": "execute_result"
    }
   ],
   "source": [
    "species = pd.read_csv('data/Endangered_Species.csv', encoding='cp949')\n",
    "species"
   ]
  },
  {
   "cell_type": "code",
   "execution_count": 3,
   "metadata": {},
   "outputs": [
    {
     "data": {
      "text/plain": [
       "Index(['분류군', '등급', '국명', '학명', '고유종', '국가적색목록', '세계자연보전연맹'], dtype='object')"
      ]
     },
     "execution_count": 3,
     "metadata": {},
     "output_type": "execute_result"
    }
   ],
   "source": [
    "species.columns"
   ]
  },
  {
   "cell_type": "code",
   "execution_count": 4,
   "metadata": {},
   "outputs": [
    {
     "data": {
      "text/plain": [
       "LC    63\n",
       "VU    24\n",
       "EN    16\n",
       "NT     7\n",
       "CR     3\n",
       "DD     3\n",
       "Name: 세계자연보전연맹, dtype: int64"
      ]
     },
     "execution_count": 4,
     "metadata": {},
     "output_type": "execute_result"
    }
   ],
   "source": [
    "species.세계자연보전연맹.value_counts()"
   ]
  },
  {
   "cell_type": "markdown",
   "metadata": {},
   "source": [
    "##### CR(위급) - EN(위기) - VU(취약) - NT(준위협) - LC(관심대상) - DD(정보부족) - NE(미평가) + RE(지역절멸)"
   ]
  },
  {
   "cell_type": "markdown",
   "metadata": {},
   "source": [
    "### 2. 데이터 탐색 및 분석 포인트 설명"
   ]
  },
  {
   "cell_type": "code",
   "execution_count": 5,
   "metadata": {},
   "outputs": [
    {
     "data": {
      "text/plain": [
       "분류군         object\n",
       "등급          object\n",
       "국명          object\n",
       "학명          object\n",
       "고유종         object\n",
       "국가적색목록      object\n",
       "세계자연보전연맹    object\n",
       "dtype: object"
      ]
     },
     "execution_count": 5,
     "metadata": {},
     "output_type": "execute_result"
    }
   ],
   "source": [
    "species.dtypes"
   ]
  },
  {
   "cell_type": "code",
   "execution_count": 6,
   "metadata": {},
   "outputs": [
    {
     "name": "stdout",
     "output_type": "stream",
     "text": [
      "<class 'pandas.core.frame.DataFrame'>\n",
      "RangeIndex: 267 entries, 0 to 266\n",
      "Data columns (total 7 columns):\n",
      " #   Column    Non-Null Count  Dtype \n",
      "---  ------    --------------  ----- \n",
      " 0   분류군       267 non-null    object\n",
      " 1   등급        267 non-null    object\n",
      " 2   국명        267 non-null    object\n",
      " 3   학명        267 non-null    object\n",
      " 4   고유종       46 non-null     object\n",
      " 5   국가적색목록    237 non-null    object\n",
      " 6   세계자연보전연맹  116 non-null    object\n",
      "dtypes: object(7)\n",
      "memory usage: 14.7+ KB\n"
     ]
    }
   ],
   "source": [
    "species.info()"
   ]
  },
  {
   "cell_type": "code",
   "execution_count": 7,
   "metadata": {},
   "outputs": [
    {
     "data": {
      "text/html": [
       "<div>\n",
       "<style scoped>\n",
       "    .dataframe tbody tr th:only-of-type {\n",
       "        vertical-align: middle;\n",
       "    }\n",
       "\n",
       "    .dataframe tbody tr th {\n",
       "        vertical-align: top;\n",
       "    }\n",
       "\n",
       "    .dataframe thead th {\n",
       "        text-align: right;\n",
       "    }\n",
       "</style>\n",
       "<table border=\"1\" class=\"dataframe\">\n",
       "  <thead>\n",
       "    <tr style=\"text-align: right;\">\n",
       "      <th></th>\n",
       "      <th>count</th>\n",
       "      <th>unique</th>\n",
       "      <th>top</th>\n",
       "      <th>freq</th>\n",
       "    </tr>\n",
       "  </thead>\n",
       "  <tbody>\n",
       "    <tr>\n",
       "      <th>분류군</th>\n",
       "      <td>267</td>\n",
       "      <td>9</td>\n",
       "      <td>식물</td>\n",
       "      <td>88</td>\n",
       "    </tr>\n",
       "    <tr>\n",
       "      <th>등급</th>\n",
       "      <td>267</td>\n",
       "      <td>2</td>\n",
       "      <td>II</td>\n",
       "      <td>207</td>\n",
       "    </tr>\n",
       "    <tr>\n",
       "      <th>국명</th>\n",
       "      <td>267</td>\n",
       "      <td>267</td>\n",
       "      <td>작은관코박쥐</td>\n",
       "      <td>1</td>\n",
       "    </tr>\n",
       "    <tr>\n",
       "      <th>학명</th>\n",
       "      <td>267</td>\n",
       "      <td>267</td>\n",
       "      <td>Mankyua chejuense</td>\n",
       "      <td>1</td>\n",
       "    </tr>\n",
       "    <tr>\n",
       "      <th>고유종</th>\n",
       "      <td>46</td>\n",
       "      <td>1</td>\n",
       "      <td>Y</td>\n",
       "      <td>46</td>\n",
       "    </tr>\n",
       "    <tr>\n",
       "      <th>국가적색목록</th>\n",
       "      <td>237</td>\n",
       "      <td>7</td>\n",
       "      <td>VU</td>\n",
       "      <td>99</td>\n",
       "    </tr>\n",
       "    <tr>\n",
       "      <th>세계자연보전연맹</th>\n",
       "      <td>116</td>\n",
       "      <td>6</td>\n",
       "      <td>LC</td>\n",
       "      <td>63</td>\n",
       "    </tr>\n",
       "  </tbody>\n",
       "</table>\n",
       "</div>"
      ],
      "text/plain": [
       "         count unique                top freq\n",
       "분류군        267      9                 식물   88\n",
       "등급         267      2                 II  207\n",
       "국명         267    267             작은관코박쥐    1\n",
       "학명         267    267  Mankyua chejuense    1\n",
       "고유종         46      1                  Y   46\n",
       "국가적색목록     237      7                 VU   99\n",
       "세계자연보전연맹   116      6                 LC   63"
      ]
     },
     "execution_count": 7,
     "metadata": {},
     "output_type": "execute_result"
    }
   ],
   "source": [
    "species.describe().T"
   ]
  },
  {
   "cell_type": "code",
   "execution_count": 8,
   "metadata": {},
   "outputs": [
    {
     "data": {
      "text/plain": [
       "VU    0.417722\n",
       "EN    0.329114\n",
       "CR    0.143460\n",
       "RE    0.037975\n",
       "LC    0.033755\n",
       "NE    0.021097\n",
       "NT    0.016878\n",
       "Name: 국가적색목록, dtype: float64"
      ]
     },
     "execution_count": 8,
     "metadata": {},
     "output_type": "execute_result"
    }
   ],
   "source": [
    "species.국가적색목록.value_counts(normalize=True)"
   ]
  },
  {
   "cell_type": "code",
   "execution_count": 9,
   "metadata": {},
   "outputs": [
    {
     "data": {
      "text/plain": [
       "LC    0.543103\n",
       "VU    0.206897\n",
       "EN    0.137931\n",
       "NT    0.060345\n",
       "CR    0.025862\n",
       "DD    0.025862\n",
       "Name: 세계자연보전연맹, dtype: float64"
      ]
     },
     "execution_count": 9,
     "metadata": {},
     "output_type": "execute_result"
    }
   ],
   "source": [
    "species.세계자연보전연맹.value_counts(normalize=True)"
   ]
  },
  {
   "cell_type": "code",
   "execution_count": 10,
   "metadata": {},
   "outputs": [
    {
     "data": {
      "text/plain": [
       "분류군           0\n",
       "등급            0\n",
       "국명            0\n",
       "학명            0\n",
       "고유종         221\n",
       "국가적색목록       30\n",
       "세계자연보전연맹    151\n",
       "dtype: int64"
      ]
     },
     "execution_count": 10,
     "metadata": {},
     "output_type": "execute_result"
    }
   ],
   "source": [
    "species.isna().sum()"
   ]
  },
  {
   "cell_type": "markdown",
   "metadata": {},
   "source": [
    "### 3. 데이터 분석"
   ]
  },
  {
   "cell_type": "code",
   "execution_count": 11,
   "metadata": {},
   "outputs": [],
   "source": [
    "species.고유종 = species.고유종.fillna('N')"
   ]
  },
  {
   "cell_type": "code",
   "execution_count": 12,
   "metadata": {},
   "outputs": [],
   "source": [
    "species.국가적색목록 = species.국가적색목록.fillna('NE')\n",
    "species.세계자연보전연맹 = species.세계자연보전연맹.fillna('NE')"
   ]
  },
  {
   "cell_type": "code",
   "execution_count": 13,
   "metadata": {},
   "outputs": [
    {
     "data": {
      "text/plain": [
       "분류군         0\n",
       "등급          0\n",
       "국명          0\n",
       "학명          0\n",
       "고유종         0\n",
       "국가적색목록      0\n",
       "세계자연보전연맹    0\n",
       "dtype: int64"
      ]
     },
     "execution_count": 13,
     "metadata": {},
     "output_type": "execute_result"
    }
   ],
   "source": [
    "species.isna().sum()"
   ]
  },
  {
   "cell_type": "code",
   "execution_count": 14,
   "metadata": {},
   "outputs": [
    {
     "name": "stdout",
     "output_type": "stream",
     "text": [
      "<class 'pandas.core.frame.DataFrame'>\n",
      "RangeIndex: 267 entries, 0 to 266\n",
      "Data columns (total 7 columns):\n",
      " #   Column    Non-Null Count  Dtype \n",
      "---  ------    --------------  ----- \n",
      " 0   분류군       267 non-null    object\n",
      " 1   등급        267 non-null    object\n",
      " 2   국명        267 non-null    object\n",
      " 3   학명        267 non-null    object\n",
      " 4   고유종       267 non-null    object\n",
      " 5   국가적색목록    267 non-null    object\n",
      " 6   세계자연보전연맹  267 non-null    object\n",
      "dtypes: object(7)\n",
      "memory usage: 14.7+ KB\n"
     ]
    }
   ],
   "source": [
    "species.info()"
   ]
  },
  {
   "cell_type": "code",
   "execution_count": 15,
   "metadata": {},
   "outputs": [
    {
     "data": {
      "text/plain": [
       "Index         128\n",
       "분류군         23302\n",
       "등급          15693\n",
       "국명          24316\n",
       "학명          20492\n",
       "고유종         15486\n",
       "국가적색목록      15753\n",
       "세계자연보전연맹    15753\n",
       "dtype: int64"
      ]
     },
     "execution_count": 15,
     "metadata": {},
     "output_type": "execute_result"
    }
   ],
   "source": [
    "species.memory_usage(deep=True)"
   ]
  },
  {
   "cell_type": "code",
   "execution_count": 16,
   "metadata": {},
   "outputs": [
    {
     "data": {
      "text/html": [
       "<div>\n",
       "<style scoped>\n",
       "    .dataframe tbody tr th:only-of-type {\n",
       "        vertical-align: middle;\n",
       "    }\n",
       "\n",
       "    .dataframe tbody tr th {\n",
       "        vertical-align: top;\n",
       "    }\n",
       "\n",
       "    .dataframe thead th {\n",
       "        text-align: right;\n",
       "    }\n",
       "</style>\n",
       "<table border=\"1\" class=\"dataframe\">\n",
       "  <thead>\n",
       "    <tr style=\"text-align: right;\">\n",
       "      <th></th>\n",
       "      <th>count</th>\n",
       "      <th>unique</th>\n",
       "      <th>top</th>\n",
       "      <th>freq</th>\n",
       "    </tr>\n",
       "  </thead>\n",
       "  <tbody>\n",
       "    <tr>\n",
       "      <th>분류군</th>\n",
       "      <td>267</td>\n",
       "      <td>9</td>\n",
       "      <td>식물</td>\n",
       "      <td>88</td>\n",
       "    </tr>\n",
       "    <tr>\n",
       "      <th>등급</th>\n",
       "      <td>267</td>\n",
       "      <td>2</td>\n",
       "      <td>II</td>\n",
       "      <td>207</td>\n",
       "    </tr>\n",
       "    <tr>\n",
       "      <th>국명</th>\n",
       "      <td>267</td>\n",
       "      <td>267</td>\n",
       "      <td>작은관코박쥐</td>\n",
       "      <td>1</td>\n",
       "    </tr>\n",
       "    <tr>\n",
       "      <th>학명</th>\n",
       "      <td>267</td>\n",
       "      <td>267</td>\n",
       "      <td>Mankyua chejuense</td>\n",
       "      <td>1</td>\n",
       "    </tr>\n",
       "    <tr>\n",
       "      <th>고유종</th>\n",
       "      <td>267</td>\n",
       "      <td>2</td>\n",
       "      <td>N</td>\n",
       "      <td>221</td>\n",
       "    </tr>\n",
       "    <tr>\n",
       "      <th>국가적색목록</th>\n",
       "      <td>267</td>\n",
       "      <td>7</td>\n",
       "      <td>VU</td>\n",
       "      <td>99</td>\n",
       "    </tr>\n",
       "    <tr>\n",
       "      <th>세계자연보전연맹</th>\n",
       "      <td>267</td>\n",
       "      <td>7</td>\n",
       "      <td>NE</td>\n",
       "      <td>151</td>\n",
       "    </tr>\n",
       "  </tbody>\n",
       "</table>\n",
       "</div>"
      ],
      "text/plain": [
       "         count unique                top freq\n",
       "분류군        267      9                 식물   88\n",
       "등급         267      2                 II  207\n",
       "국명         267    267             작은관코박쥐    1\n",
       "학명         267    267  Mankyua chejuense    1\n",
       "고유종        267      2                  N  221\n",
       "국가적색목록     267      7                 VU   99\n",
       "세계자연보전연맹   267      7                 NE  151"
      ]
     },
     "execution_count": 16,
     "metadata": {},
     "output_type": "execute_result"
    }
   ],
   "source": [
    "species.describe().T"
   ]
  },
  {
   "cell_type": "code",
   "execution_count": 17,
   "metadata": {},
   "outputs": [
    {
     "data": {
      "text/plain": [
       "식물       88\n",
       "조류       63\n",
       "무척추동물    32\n",
       "어류       27\n",
       "곤충류      26\n",
       "포유류      20\n",
       "양서파충류     8\n",
       "해조류       2\n",
       "고등균류      1\n",
       "Name: 분류군, dtype: int64"
      ]
     },
     "execution_count": 17,
     "metadata": {},
     "output_type": "execute_result"
    }
   ],
   "source": [
    "species.분류군.value_counts()"
   ]
  },
  {
   "cell_type": "code",
   "execution_count": 18,
   "metadata": {},
   "outputs": [],
   "source": [
    "species['분류군'] = species['분류군'].astype('category')"
   ]
  },
  {
   "cell_type": "code",
   "execution_count": 19,
   "metadata": {},
   "outputs": [
    {
     "name": "stdout",
     "output_type": "stream",
     "text": [
      "<class 'pandas.core.frame.DataFrame'>\n",
      "RangeIndex: 267 entries, 0 to 266\n",
      "Data columns (total 7 columns):\n",
      " #   Column    Non-Null Count  Dtype   \n",
      "---  ------    --------------  -----   \n",
      " 0   분류군       267 non-null    category\n",
      " 1   등급        267 non-null    object  \n",
      " 2   국명        267 non-null    object  \n",
      " 3   학명        267 non-null    object  \n",
      " 4   고유종       267 non-null    object  \n",
      " 5   국가적색목록    267 non-null    object  \n",
      " 6   세계자연보전연맹  267 non-null    object  \n",
      "dtypes: category(1), object(6)\n",
      "memory usage: 13.3+ KB\n"
     ]
    }
   ],
   "source": [
    "species.info()"
   ]
  },
  {
   "cell_type": "code",
   "execution_count": null,
   "metadata": {},
   "outputs": [],
   "source": []
  },
  {
   "cell_type": "code",
   "execution_count": 20,
   "metadata": {},
   "outputs": [
    {
     "data": {
      "text/html": [
       "<div>\n",
       "<style scoped>\n",
       "    .dataframe tbody tr th:only-of-type {\n",
       "        vertical-align: middle;\n",
       "    }\n",
       "\n",
       "    .dataframe tbody tr th {\n",
       "        vertical-align: top;\n",
       "    }\n",
       "\n",
       "    .dataframe thead th {\n",
       "        text-align: right;\n",
       "    }\n",
       "</style>\n",
       "<table border=\"1\" class=\"dataframe\">\n",
       "  <thead>\n",
       "    <tr style=\"text-align: right;\">\n",
       "      <th></th>\n",
       "      <th>분류군</th>\n",
       "      <th>국명</th>\n",
       "      <th>국가적색목록</th>\n",
       "      <th>세계자연보전연맹</th>\n",
       "    </tr>\n",
       "  </thead>\n",
       "  <tbody>\n",
       "    <tr>\n",
       "      <th>0</th>\n",
       "      <td>포유류</td>\n",
       "      <td>늑대</td>\n",
       "      <td>RE</td>\n",
       "      <td>LC</td>\n",
       "    </tr>\n",
       "    <tr>\n",
       "      <th>1</th>\n",
       "      <td>포유류</td>\n",
       "      <td>대륙사슴</td>\n",
       "      <td>RE</td>\n",
       "      <td>LC</td>\n",
       "    </tr>\n",
       "    <tr>\n",
       "      <th>2</th>\n",
       "      <td>포유류</td>\n",
       "      <td>반달가슴곰</td>\n",
       "      <td>EN</td>\n",
       "      <td>VU</td>\n",
       "    </tr>\n",
       "    <tr>\n",
       "      <th>3</th>\n",
       "      <td>포유류</td>\n",
       "      <td>붉은박쥐</td>\n",
       "      <td>VU</td>\n",
       "      <td>LC</td>\n",
       "    </tr>\n",
       "    <tr>\n",
       "      <th>4</th>\n",
       "      <td>포유류</td>\n",
       "      <td>사향노루</td>\n",
       "      <td>CR</td>\n",
       "      <td>VU</td>\n",
       "    </tr>\n",
       "    <tr>\n",
       "      <th>...</th>\n",
       "      <td>...</td>\n",
       "      <td>...</td>\n",
       "      <td>...</td>\n",
       "      <td>...</td>\n",
       "    </tr>\n",
       "    <tr>\n",
       "      <th>262</th>\n",
       "      <td>식물</td>\n",
       "      <td>홍월귤</td>\n",
       "      <td>VU</td>\n",
       "      <td>NE</td>\n",
       "    </tr>\n",
       "    <tr>\n",
       "      <th>263</th>\n",
       "      <td>식물</td>\n",
       "      <td>황근</td>\n",
       "      <td>VU</td>\n",
       "      <td>NE</td>\n",
       "    </tr>\n",
       "    <tr>\n",
       "      <th>264</th>\n",
       "      <td>해조류</td>\n",
       "      <td>그물공말</td>\n",
       "      <td>NE</td>\n",
       "      <td>NE</td>\n",
       "    </tr>\n",
       "    <tr>\n",
       "      <th>265</th>\n",
       "      <td>해조류</td>\n",
       "      <td>삼나무말</td>\n",
       "      <td>NE</td>\n",
       "      <td>NE</td>\n",
       "    </tr>\n",
       "    <tr>\n",
       "      <th>266</th>\n",
       "      <td>고등균류</td>\n",
       "      <td>화경버섯</td>\n",
       "      <td>NE</td>\n",
       "      <td>NE</td>\n",
       "    </tr>\n",
       "  </tbody>\n",
       "</table>\n",
       "<p>267 rows × 4 columns</p>\n",
       "</div>"
      ],
      "text/plain": [
       "      분류군     국명 국가적색목록 세계자연보전연맹\n",
       "0     포유류     늑대     RE       LC\n",
       "1     포유류   대륙사슴     RE       LC\n",
       "2     포유류  반달가슴곰     EN       VU\n",
       "3     포유류   붉은박쥐     VU       LC\n",
       "4     포유류   사향노루     CR       VU\n",
       "..    ...    ...    ...      ...\n",
       "262    식물    홍월귤     VU       NE\n",
       "263    식물     황근     VU       NE\n",
       "264   해조류   그물공말     NE       NE\n",
       "265   해조류   삼나무말     NE       NE\n",
       "266  고등균류   화경버섯     NE       NE\n",
       "\n",
       "[267 rows x 4 columns]"
      ]
     },
     "execution_count": 20,
     "metadata": {},
     "output_type": "execute_result"
    }
   ],
   "source": [
    "species[['분류군', '국명', '국가적색목록', '세계자연보전연맹']]"
   ]
  },
  {
   "cell_type": "code",
   "execution_count": 21,
   "metadata": {},
   "outputs": [],
   "source": [
    "plt.rcParams['font.family'] = 'Malgun Gothic'"
   ]
  },
  {
   "cell_type": "code",
   "execution_count": 22,
   "metadata": {},
   "outputs": [
    {
     "data": {
      "text/plain": [
       "<BarContainer object of 9 artists>"
      ]
     },
     "execution_count": 22,
     "metadata": {},
     "output_type": "execute_result"
    },
    {
     "data": {
      "image/png": "[encoded data removed]",
      "text/plain": [
       "<Figure size 720x576 with 1 Axes>"
      ]
     },
     "metadata": {
      "needs_background": "light"
     },
     "output_type": "display_data"
    }
   ],
   "source": [
    "fig, ax = plt.subplots(figsize=(10, 8))\n",
    "\n",
    "plt.bar(species.분류군.value_counts().index, species.분류군.value_counts())"
   ]
  },
  {
   "cell_type": "code",
   "execution_count": 23,
   "metadata": {},
   "outputs": [
    {
     "name": "stderr",
     "output_type": "stream",
     "text": [
      "C:\\Users\\user\\anaconda3\\lib\\site-packages\\seaborn\\_decorators.py:36: FutureWarning: Pass the following variables as keyword args: x, y. From version 0.12, the only valid positional argument will be `data`, and passing other arguments without an explicit keyword will result in an error or misinterpretation.\n",
      "  warnings.warn(\n"
     ]
    },
    {
     "data": {
      "text/plain": [
       "<AxesSubplot:ylabel='국가적색목록'>"
      ]
     },
     "execution_count": 23,
     "metadata": {},
     "output_type": "execute_result"
    },
    {
     "data": {
      "image/png": "[encoded data removed]",
      "text/plain": [
       "<Figure size 720x576 with 1 Axes>"
      ]
     },
     "metadata": {
      "needs_background": "light"
     },
     "output_type": "display_data"
    }
   ],
   "source": [
    "fig, ax = plt.subplots(figsize=(10, 8))\n",
    "\n",
    "sns.barplot(species.국가적색목록.value_counts().index, species.국가적색목록.value_counts())"
   ]
  },
  {
   "cell_type": "code",
   "execution_count": 24,
   "metadata": {},
   "outputs": [
    {
     "name": "stderr",
     "output_type": "stream",
     "text": [
      "C:\\Users\\user\\anaconda3\\lib\\site-packages\\seaborn\\_decorators.py:36: FutureWarning: Pass the following variables as keyword args: x, y. From version 0.12, the only valid positional argument will be `data`, and passing other arguments without an explicit keyword will result in an error or misinterpretation.\n",
      "  warnings.warn(\n"
     ]
    },
    {
     "data": {
      "text/plain": [
       "<AxesSubplot:ylabel='세계자연보전연맹'>"
      ]
     },
     "execution_count": 24,
     "metadata": {},
     "output_type": "execute_result"
    },
    {
     "data": {
      "image/png": "[encoded data removed]",
      "text/plain": [
       "<Figure size 720x576 with 1 Axes>"
      ]
     },
     "metadata": {
      "needs_background": "light"
     },
     "output_type": "display_data"
    }
   ],
   "source": [
    "fig, ax = plt.subplots(figsize=(10, 8))\n",
    "\n",
    "sns.barplot(species.세계자연보전연맹.value_counts().index, species.세계자연보전연맹.value_counts())"
   ]
  },
  {
   "cell_type": "code",
   "execution_count": 27,
   "metadata": {},
   "outputs": [
    {
     "data": {
      "text/plain": [
       "<AxesSubplot:xlabel='count', ylabel='분류군'>"
      ]
     },
     "execution_count": 27,
     "metadata": {},
     "output_type": "execute_result"
    },
    {
     "data": {
      "image/png": "[encoded data removed]",
      "text/plain": [
       "<Figure size 864x720 with 1 Axes>"
      ]
     },
     "metadata": {
      "needs_background": "light"
     },
     "output_type": "display_data"
    }
   ],
   "source": [
    "fig, ax = plt.subplots(figsize=(12, 10))\n",
    "\n",
    "sns.countplot(y='분류군',\n",
    "              data=species,\n",
    "              hue='국가적색목록'\n",
    ")"
   ]
  },
  {
   "cell_type": "code",
   "execution_count": 28,
   "metadata": {},
   "outputs": [
    {
     "data": {
      "text/plain": [
       "<AxesSubplot:xlabel='count', ylabel='분류군'>"
      ]
     },
     "execution_count": 28,
     "metadata": {},
     "output_type": "execute_result"
    },
    {
     "data": {
      "image/png": "[encoded data removed]",
      "text/plain": [
       "<Figure size 864x720 with 1 Axes>"
      ]
     },
     "metadata": {
      "needs_background": "light"
     },
     "output_type": "display_data"
    }
   ],
   "source": [
    "fig, ax = plt.subplots(figsize=(12, 10))\n",
    "\n",
    "sns.countplot(y='분류군',\n",
    "              data=species,\n",
    "              hue='세계자연보전연맹'\n",
    ")"
   ]
  },
  {
   "cell_type": "code",
   "execution_count": null,
   "metadata": {},
   "outputs": [],
   "source": []
  },
  {
   "cell_type": "code",
   "execution_count": 29,
   "metadata": {},
   "outputs": [],
   "source": [
    "a1 = species['국가적색목록'] == 'RE'\n",
    "a2 = species['국가적색목록'] == 'CR'\n",
    "a3 = species['국가적색목록'] == 'EN'\n",
    "\n",
    "a = a1 | a2 | a3"
   ]
  },
  {
   "cell_type": "code",
   "execution_count": 30,
   "metadata": {},
   "outputs": [],
   "source": [
    "b1 = species['국가적색목록'] == 'VU'\n",
    "b2 = species['국가적색목록'] == 'NT'\n",
    "b3 = species['국가적색목록'] == 'LC'\n",
    "\n",
    "b = b1 | b2 | b3"
   ]
  },
  {
   "cell_type": "code",
   "execution_count": 37,
   "metadata": {},
   "outputs": [
    {
     "name": "stdout",
     "output_type": "stream",
     "text": [
      "121 111\n"
     ]
    }
   ],
   "source": [
    "print(a.sum(), b.sum())"
   ]
  },
  {
   "cell_type": "code",
   "execution_count": null,
   "metadata": {},
   "outputs": [],
   "source": []
  },
  {
   "cell_type": "code",
   "execution_count": 39,
   "metadata": {},
   "outputs": [
    {
     "data": {
      "text/html": [
       "<div>\n",
       "<style scoped>\n",
       "    .dataframe tbody tr th:only-of-type {\n",
       "        vertical-align: middle;\n",
       "    }\n",
       "\n",
       "    .dataframe tbody tr th {\n",
       "        vertical-align: top;\n",
       "    }\n",
       "\n",
       "    .dataframe thead th {\n",
       "        text-align: right;\n",
       "    }\n",
       "</style>\n",
       "<table border=\"1\" class=\"dataframe\">\n",
       "  <thead>\n",
       "    <tr style=\"text-align: right;\">\n",
       "      <th></th>\n",
       "      <th>국명</th>\n",
       "      <th>variable</th>\n",
       "      <th>value</th>\n",
       "    </tr>\n",
       "  </thead>\n",
       "  <tbody>\n",
       "    <tr>\n",
       "      <th>0</th>\n",
       "      <td>늑대</td>\n",
       "      <td>국가적색목록</td>\n",
       "      <td>RE</td>\n",
       "    </tr>\n",
       "    <tr>\n",
       "      <th>1</th>\n",
       "      <td>대륙사슴</td>\n",
       "      <td>국가적색목록</td>\n",
       "      <td>RE</td>\n",
       "    </tr>\n",
       "    <tr>\n",
       "      <th>2</th>\n",
       "      <td>반달가슴곰</td>\n",
       "      <td>국가적색목록</td>\n",
       "      <td>EN</td>\n",
       "    </tr>\n",
       "    <tr>\n",
       "      <th>3</th>\n",
       "      <td>붉은박쥐</td>\n",
       "      <td>국가적색목록</td>\n",
       "      <td>VU</td>\n",
       "    </tr>\n",
       "    <tr>\n",
       "      <th>4</th>\n",
       "      <td>사향노루</td>\n",
       "      <td>국가적색목록</td>\n",
       "      <td>CR</td>\n",
       "    </tr>\n",
       "    <tr>\n",
       "      <th>...</th>\n",
       "      <td>...</td>\n",
       "      <td>...</td>\n",
       "      <td>...</td>\n",
       "    </tr>\n",
       "    <tr>\n",
       "      <th>529</th>\n",
       "      <td>홍월귤</td>\n",
       "      <td>세계자연보전연맹</td>\n",
       "      <td>NE</td>\n",
       "    </tr>\n",
       "    <tr>\n",
       "      <th>530</th>\n",
       "      <td>황근</td>\n",
       "      <td>세계자연보전연맹</td>\n",
       "      <td>NE</td>\n",
       "    </tr>\n",
       "    <tr>\n",
       "      <th>531</th>\n",
       "      <td>그물공말</td>\n",
       "      <td>세계자연보전연맹</td>\n",
       "      <td>NE</td>\n",
       "    </tr>\n",
       "    <tr>\n",
       "      <th>532</th>\n",
       "      <td>삼나무말</td>\n",
       "      <td>세계자연보전연맹</td>\n",
       "      <td>NE</td>\n",
       "    </tr>\n",
       "    <tr>\n",
       "      <th>533</th>\n",
       "      <td>화경버섯</td>\n",
       "      <td>세계자연보전연맹</td>\n",
       "      <td>NE</td>\n",
       "    </tr>\n",
       "  </tbody>\n",
       "</table>\n",
       "<p>534 rows × 3 columns</p>\n",
       "</div>"
      ],
      "text/plain": [
       "        국명  variable value\n",
       "0       늑대    국가적색목록    RE\n",
       "1     대륙사슴    국가적색목록    RE\n",
       "2    반달가슴곰    국가적색목록    EN\n",
       "3     붉은박쥐    국가적색목록    VU\n",
       "4     사향노루    국가적색목록    CR\n",
       "..     ...       ...   ...\n",
       "529    홍월귤  세계자연보전연맹    NE\n",
       "530     황근  세계자연보전연맹    NE\n",
       "531   그물공말  세계자연보전연맹    NE\n",
       "532   삼나무말  세계자연보전연맹    NE\n",
       "533   화경버섯  세계자연보전연맹    NE\n",
       "\n",
       "[534 rows x 3 columns]"
      ]
     },
     "execution_count": 39,
     "metadata": {},
     "output_type": "execute_result"
    }
   ],
   "source": [
    "species.melt(id_vars=['국명'], value_vars=['국가적색목록', '세계자연보전연맹'])"
   ]
  },
  {
   "cell_type": "code",
   "execution_count": 40,
   "metadata": {},
   "outputs": [
    {
     "name": "stdout",
     "output_type": "stream",
     "text": [
      "('고등균류', 'II')\n"
     ]
    },
    {
     "data": {
      "text/html": [
       "<div>\n",
       "<style scoped>\n",
       "    .dataframe tbody tr th:only-of-type {\n",
       "        vertical-align: middle;\n",
       "    }\n",
       "\n",
       "    .dataframe tbody tr th {\n",
       "        vertical-align: top;\n",
       "    }\n",
       "\n",
       "    .dataframe thead th {\n",
       "        text-align: right;\n",
       "    }\n",
       "</style>\n",
       "<table border=\"1\" class=\"dataframe\">\n",
       "  <thead>\n",
       "    <tr style=\"text-align: right;\">\n",
       "      <th></th>\n",
       "      <th>분류군</th>\n",
       "      <th>등급</th>\n",
       "      <th>국명</th>\n",
       "      <th>학명</th>\n",
       "      <th>고유종</th>\n",
       "      <th>국가적색목록</th>\n",
       "      <th>세계자연보전연맹</th>\n",
       "    </tr>\n",
       "  </thead>\n",
       "  <tbody>\n",
       "    <tr>\n",
       "      <th>266</th>\n",
       "      <td>고등균류</td>\n",
       "      <td>II</td>\n",
       "      <td>화경버섯</td>\n",
       "      <td>Lampteromyces japonicus</td>\n",
       "      <td>N</td>\n",
       "      <td>NE</td>\n",
       "      <td>NE</td>\n",
       "    </tr>\n",
       "  </tbody>\n",
       "</table>\n",
       "</div>"
      ],
      "text/plain": [
       "      분류군  등급    국명                       학명 고유종 국가적색목록 세계자연보전연맹\n",
       "266  고등균류  II  화경버섯  Lampteromyces japonicus   N     NE       NE"
      ]
     },
     "metadata": {},
     "output_type": "display_data"
    },
    {
     "name": "stdout",
     "output_type": "stream",
     "text": [
      "('곤충류', 'I')\n"
     ]
    },
    {
     "data": {
      "text/html": [
       "<div>\n",
       "<style scoped>\n",
       "    .dataframe tbody tr th:only-of-type {\n",
       "        vertical-align: middle;\n",
       "    }\n",
       "\n",
       "    .dataframe tbody tr th {\n",
       "        vertical-align: top;\n",
       "    }\n",
       "\n",
       "    .dataframe thead th {\n",
       "        text-align: right;\n",
       "    }\n",
       "</style>\n",
       "<table border=\"1\" class=\"dataframe\">\n",
       "  <thead>\n",
       "    <tr style=\"text-align: right;\">\n",
       "      <th></th>\n",
       "      <th>분류군</th>\n",
       "      <th>등급</th>\n",
       "      <th>국명</th>\n",
       "      <th>학명</th>\n",
       "      <th>고유종</th>\n",
       "      <th>국가적색목록</th>\n",
       "      <th>세계자연보전연맹</th>\n",
       "    </tr>\n",
       "  </thead>\n",
       "  <tbody>\n",
       "    <tr>\n",
       "      <th>118</th>\n",
       "      <td>곤충류</td>\n",
       "      <td>I</td>\n",
       "      <td>붉은점모시나비</td>\n",
       "      <td>Parnassius bremeri</td>\n",
       "      <td>N</td>\n",
       "      <td>VU</td>\n",
       "      <td>NE</td>\n",
       "    </tr>\n",
       "    <tr>\n",
       "      <th>119</th>\n",
       "      <td>곤충류</td>\n",
       "      <td>I</td>\n",
       "      <td>비단벌레</td>\n",
       "      <td>Chrysochroa coreana</td>\n",
       "      <td>N</td>\n",
       "      <td>VU</td>\n",
       "      <td>NE</td>\n",
       "    </tr>\n",
       "    <tr>\n",
       "      <th>120</th>\n",
       "      <td>곤충류</td>\n",
       "      <td>I</td>\n",
       "      <td>산굴뚝나비</td>\n",
       "      <td>Hipparchia autonoe</td>\n",
       "      <td>N</td>\n",
       "      <td>EN</td>\n",
       "      <td>NE</td>\n",
       "    </tr>\n",
       "  </tbody>\n",
       "</table>\n",
       "</div>"
      ],
      "text/plain": [
       "     분류군 등급       국명                   학명 고유종 국가적색목록 세계자연보전연맹\n",
       "118  곤충류  I  붉은점모시나비   Parnassius bremeri   N     VU       NE\n",
       "119  곤충류  I     비단벌레  Chrysochroa coreana   N     VU       NE\n",
       "120  곤충류  I    산굴뚝나비   Hipparchia autonoe   N     EN       NE"
      ]
     },
     "metadata": {},
     "output_type": "display_data"
    },
    {
     "name": "stdout",
     "output_type": "stream",
     "text": [
      "('곤충류', 'II')\n"
     ]
    },
    {
     "data": {
      "text/html": [
       "<div>\n",
       "<style scoped>\n",
       "    .dataframe tbody tr th:only-of-type {\n",
       "        vertical-align: middle;\n",
       "    }\n",
       "\n",
       "    .dataframe tbody tr th {\n",
       "        vertical-align: top;\n",
       "    }\n",
       "\n",
       "    .dataframe thead th {\n",
       "        text-align: right;\n",
       "    }\n",
       "</style>\n",
       "<table border=\"1\" class=\"dataframe\">\n",
       "  <thead>\n",
       "    <tr style=\"text-align: right;\">\n",
       "      <th></th>\n",
       "      <th>분류군</th>\n",
       "      <th>등급</th>\n",
       "      <th>국명</th>\n",
       "      <th>학명</th>\n",
       "      <th>고유종</th>\n",
       "      <th>국가적색목록</th>\n",
       "      <th>세계자연보전연맹</th>\n",
       "    </tr>\n",
       "  </thead>\n",
       "  <tbody>\n",
       "    <tr>\n",
       "      <th>124</th>\n",
       "      <td>곤충류</td>\n",
       "      <td>II</td>\n",
       "      <td>깊은산부전나비</td>\n",
       "      <td>Protantigius superans</td>\n",
       "      <td>N</td>\n",
       "      <td>VU</td>\n",
       "      <td>NE</td>\n",
       "    </tr>\n",
       "    <tr>\n",
       "      <th>125</th>\n",
       "      <td>곤충류</td>\n",
       "      <td>II</td>\n",
       "      <td>꼬마잠자리</td>\n",
       "      <td>Nannophya pygmaea</td>\n",
       "      <td>N</td>\n",
       "      <td>VU</td>\n",
       "      <td>LC</td>\n",
       "    </tr>\n",
       "    <tr>\n",
       "      <th>126</th>\n",
       "      <td>곤충류</td>\n",
       "      <td>II</td>\n",
       "      <td>노란잔산잠자리</td>\n",
       "      <td>Macromia daimoji</td>\n",
       "      <td>N</td>\n",
       "      <td>EN</td>\n",
       "      <td>NE</td>\n",
       "    </tr>\n",
       "  </tbody>\n",
       "</table>\n",
       "</div>"
      ],
      "text/plain": [
       "     분류군  등급       국명                     학명 고유종 국가적색목록 세계자연보전연맹\n",
       "124  곤충류  II  깊은산부전나비  Protantigius superans   N     VU       NE\n",
       "125  곤충류  II    꼬마잠자리      Nannophya pygmaea   N     VU       LC\n",
       "126  곤충류  II  노란잔산잠자리       Macromia daimoji   N     EN       NE"
      ]
     },
     "metadata": {},
     "output_type": "display_data"
    },
    {
     "name": "stdout",
     "output_type": "stream",
     "text": [
      "('무척추동물', 'I')\n"
     ]
    },
    {
     "data": {
      "text/html": [
       "<div>\n",
       "<style scoped>\n",
       "    .dataframe tbody tr th:only-of-type {\n",
       "        vertical-align: middle;\n",
       "    }\n",
       "\n",
       "    .dataframe tbody tr th {\n",
       "        vertical-align: top;\n",
       "    }\n",
       "\n",
       "    .dataframe thead th {\n",
       "        text-align: right;\n",
       "    }\n",
       "</style>\n",
       "<table border=\"1\" class=\"dataframe\">\n",
       "  <thead>\n",
       "    <tr style=\"text-align: right;\">\n",
       "      <th></th>\n",
       "      <th>분류군</th>\n",
       "      <th>등급</th>\n",
       "      <th>국명</th>\n",
       "      <th>학명</th>\n",
       "      <th>고유종</th>\n",
       "      <th>국가적색목록</th>\n",
       "      <th>세계자연보전연맹</th>\n",
       "    </tr>\n",
       "  </thead>\n",
       "  <tbody>\n",
       "    <tr>\n",
       "      <th>144</th>\n",
       "      <td>무척추동물</td>\n",
       "      <td>I</td>\n",
       "      <td>귀이빨대칭이</td>\n",
       "      <td>Cristaria plicata</td>\n",
       "      <td>N</td>\n",
       "      <td>VU</td>\n",
       "      <td>DD</td>\n",
       "    </tr>\n",
       "    <tr>\n",
       "      <th>145</th>\n",
       "      <td>무척추동물</td>\n",
       "      <td>I</td>\n",
       "      <td>나팔고둥</td>\n",
       "      <td>Charonia lampas sauliae</td>\n",
       "      <td>N</td>\n",
       "      <td>VU</td>\n",
       "      <td>NE</td>\n",
       "    </tr>\n",
       "    <tr>\n",
       "      <th>146</th>\n",
       "      <td>무척추동물</td>\n",
       "      <td>I</td>\n",
       "      <td>남방방게</td>\n",
       "      <td>Pseudohelice subquadrata</td>\n",
       "      <td>N</td>\n",
       "      <td>NE</td>\n",
       "      <td>NE</td>\n",
       "    </tr>\n",
       "  </tbody>\n",
       "</table>\n",
       "</div>"
      ],
      "text/plain": [
       "       분류군 등급      국명                        학명 고유종 국가적색목록 세계자연보전연맹\n",
       "144  무척추동물  I  귀이빨대칭이         Cristaria plicata   N     VU       DD\n",
       "145  무척추동물  I    나팔고둥   Charonia lampas sauliae   N     VU       NE\n",
       "146  무척추동물  I    남방방게  Pseudohelice subquadrata   N     NE       NE"
      ]
     },
     "metadata": {},
     "output_type": "display_data"
    },
    {
     "name": "stdout",
     "output_type": "stream",
     "text": [
      "('무척추동물', 'II')\n"
     ]
    },
    {
     "data": {
      "text/html": [
       "<div>\n",
       "<style scoped>\n",
       "    .dataframe tbody tr th:only-of-type {\n",
       "        vertical-align: middle;\n",
       "    }\n",
       "\n",
       "    .dataframe tbody tr th {\n",
       "        vertical-align: top;\n",
       "    }\n",
       "\n",
       "    .dataframe thead th {\n",
       "        text-align: right;\n",
       "    }\n",
       "</style>\n",
       "<table border=\"1\" class=\"dataframe\">\n",
       "  <thead>\n",
       "    <tr style=\"text-align: right;\">\n",
       "      <th></th>\n",
       "      <th>분류군</th>\n",
       "      <th>등급</th>\n",
       "      <th>국명</th>\n",
       "      <th>학명</th>\n",
       "      <th>고유종</th>\n",
       "      <th>국가적색목록</th>\n",
       "      <th>세계자연보전연맹</th>\n",
       "    </tr>\n",
       "  </thead>\n",
       "  <tbody>\n",
       "    <tr>\n",
       "      <th>148</th>\n",
       "      <td>무척추동물</td>\n",
       "      <td>II</td>\n",
       "      <td>갯게</td>\n",
       "      <td>Chasmagnathus convexus</td>\n",
       "      <td>N</td>\n",
       "      <td>NE</td>\n",
       "      <td>NE</td>\n",
       "    </tr>\n",
       "    <tr>\n",
       "      <th>149</th>\n",
       "      <td>무척추동물</td>\n",
       "      <td>II</td>\n",
       "      <td>거제외줄달팽이</td>\n",
       "      <td>Satsuma myomphala</td>\n",
       "      <td>N</td>\n",
       "      <td>CR</td>\n",
       "      <td>NE</td>\n",
       "    </tr>\n",
       "    <tr>\n",
       "      <th>150</th>\n",
       "      <td>무척추동물</td>\n",
       "      <td>II</td>\n",
       "      <td>검붉은수지맨드라미</td>\n",
       "      <td>Dendronephthya suensoni</td>\n",
       "      <td>N</td>\n",
       "      <td>NE</td>\n",
       "      <td>NE</td>\n",
       "    </tr>\n",
       "  </tbody>\n",
       "</table>\n",
       "</div>"
      ],
      "text/plain": [
       "       분류군  등급         국명                       학명 고유종 국가적색목록 세계자연보전연맹\n",
       "148  무척추동물  II         갯게   Chasmagnathus convexus   N     NE       NE\n",
       "149  무척추동물  II    거제외줄달팽이        Satsuma myomphala   N     CR       NE\n",
       "150  무척추동물  II  검붉은수지맨드라미  Dendronephthya suensoni   N     NE       NE"
      ]
     },
     "metadata": {},
     "output_type": "display_data"
    },
    {
     "name": "stdout",
     "output_type": "stream",
     "text": [
      "('식물', 'I')\n"
     ]
    },
    {
     "data": {
      "text/html": [
       "<div>\n",
       "<style scoped>\n",
       "    .dataframe tbody tr th:only-of-type {\n",
       "        vertical-align: middle;\n",
       "    }\n",
       "\n",
       "    .dataframe tbody tr th {\n",
       "        vertical-align: top;\n",
       "    }\n",
       "\n",
       "    .dataframe thead th {\n",
       "        text-align: right;\n",
       "    }\n",
       "</style>\n",
       "<table border=\"1\" class=\"dataframe\">\n",
       "  <thead>\n",
       "    <tr style=\"text-align: right;\">\n",
       "      <th></th>\n",
       "      <th>분류군</th>\n",
       "      <th>등급</th>\n",
       "      <th>국명</th>\n",
       "      <th>학명</th>\n",
       "      <th>고유종</th>\n",
       "      <th>국가적색목록</th>\n",
       "      <th>세계자연보전연맹</th>\n",
       "    </tr>\n",
       "  </thead>\n",
       "  <tbody>\n",
       "    <tr>\n",
       "      <th>176</th>\n",
       "      <td>식물</td>\n",
       "      <td>I</td>\n",
       "      <td>광릉요강꽃</td>\n",
       "      <td>Cypripedium japonicum</td>\n",
       "      <td>N</td>\n",
       "      <td>CR</td>\n",
       "      <td>EN</td>\n",
       "    </tr>\n",
       "    <tr>\n",
       "      <th>177</th>\n",
       "      <td>식물</td>\n",
       "      <td>I</td>\n",
       "      <td>금자란</td>\n",
       "      <td>Gastrochilus fuscopunctatus</td>\n",
       "      <td>N</td>\n",
       "      <td>EN</td>\n",
       "      <td>NE</td>\n",
       "    </tr>\n",
       "    <tr>\n",
       "      <th>178</th>\n",
       "      <td>식물</td>\n",
       "      <td>I</td>\n",
       "      <td>나도풍란</td>\n",
       "      <td>Sedirea japonica</td>\n",
       "      <td>N</td>\n",
       "      <td>CR</td>\n",
       "      <td>NE</td>\n",
       "    </tr>\n",
       "  </tbody>\n",
       "</table>\n",
       "</div>"
      ],
      "text/plain": [
       "    분류군 등급     국명                           학명 고유종 국가적색목록 세계자연보전연맹\n",
       "176  식물  I  광릉요강꽃        Cypripedium japonicum   N     CR       EN\n",
       "177  식물  I    금자란  Gastrochilus fuscopunctatus   N     EN       NE\n",
       "178  식물  I   나도풍란             Sedirea japonica   N     CR       NE"
      ]
     },
     "metadata": {},
     "output_type": "display_data"
    },
    {
     "name": "stdout",
     "output_type": "stream",
     "text": [
      "('식물', 'II')\n"
     ]
    },
    {
     "data": {
      "text/html": [
       "<div>\n",
       "<style scoped>\n",
       "    .dataframe tbody tr th:only-of-type {\n",
       "        vertical-align: middle;\n",
       "    }\n",
       "\n",
       "    .dataframe tbody tr th {\n",
       "        vertical-align: top;\n",
       "    }\n",
       "\n",
       "    .dataframe thead th {\n",
       "        text-align: right;\n",
       "    }\n",
       "</style>\n",
       "<table border=\"1\" class=\"dataframe\">\n",
       "  <thead>\n",
       "    <tr style=\"text-align: right;\">\n",
       "      <th></th>\n",
       "      <th>분류군</th>\n",
       "      <th>등급</th>\n",
       "      <th>국명</th>\n",
       "      <th>학명</th>\n",
       "      <th>고유종</th>\n",
       "      <th>국가적색목록</th>\n",
       "      <th>세계자연보전연맹</th>\n",
       "    </tr>\n",
       "  </thead>\n",
       "  <tbody>\n",
       "    <tr>\n",
       "      <th>187</th>\n",
       "      <td>식물</td>\n",
       "      <td>II</td>\n",
       "      <td>가는동자꽃</td>\n",
       "      <td>Lychnis kiusiana</td>\n",
       "      <td>N</td>\n",
       "      <td>NE</td>\n",
       "      <td>NE</td>\n",
       "    </tr>\n",
       "    <tr>\n",
       "      <th>188</th>\n",
       "      <td>식물</td>\n",
       "      <td>II</td>\n",
       "      <td>가시연</td>\n",
       "      <td>Euryale ferox</td>\n",
       "      <td>N</td>\n",
       "      <td>VU</td>\n",
       "      <td>LC</td>\n",
       "    </tr>\n",
       "    <tr>\n",
       "      <th>189</th>\n",
       "      <td>식물</td>\n",
       "      <td>II</td>\n",
       "      <td>가시오갈피나무</td>\n",
       "      <td>Eleutherococcus senticosus</td>\n",
       "      <td>N</td>\n",
       "      <td>VU</td>\n",
       "      <td>NE</td>\n",
       "    </tr>\n",
       "  </tbody>\n",
       "</table>\n",
       "</div>"
      ],
      "text/plain": [
       "    분류군  등급       국명                          학명 고유종 국가적색목록 세계자연보전연맹\n",
       "187  식물  II    가는동자꽃            Lychnis kiusiana   N     NE       NE\n",
       "188  식물  II      가시연               Euryale ferox   N     VU       LC\n",
       "189  식물  II  가시오갈피나무  Eleutherococcus senticosus   N     VU       NE"
      ]
     },
     "metadata": {},
     "output_type": "display_data"
    },
    {
     "name": "stdout",
     "output_type": "stream",
     "text": [
      "('양서파충류', 'I')\n"
     ]
    },
    {
     "data": {
      "text/html": [
       "<div>\n",
       "<style scoped>\n",
       "    .dataframe tbody tr th:only-of-type {\n",
       "        vertical-align: middle;\n",
       "    }\n",
       "\n",
       "    .dataframe tbody tr th {\n",
       "        vertical-align: top;\n",
       "    }\n",
       "\n",
       "    .dataframe thead th {\n",
       "        text-align: right;\n",
       "    }\n",
       "</style>\n",
       "<table border=\"1\" class=\"dataframe\">\n",
       "  <thead>\n",
       "    <tr style=\"text-align: right;\">\n",
       "      <th></th>\n",
       "      <th>분류군</th>\n",
       "      <th>등급</th>\n",
       "      <th>국명</th>\n",
       "      <th>학명</th>\n",
       "      <th>고유종</th>\n",
       "      <th>국가적색목록</th>\n",
       "      <th>세계자연보전연맹</th>\n",
       "    </tr>\n",
       "  </thead>\n",
       "  <tbody>\n",
       "    <tr>\n",
       "      <th>83</th>\n",
       "      <td>양서파충류</td>\n",
       "      <td>I</td>\n",
       "      <td>비바리뱀</td>\n",
       "      <td>Sibynophis chinensis</td>\n",
       "      <td>N</td>\n",
       "      <td>EN</td>\n",
       "      <td>LC</td>\n",
       "    </tr>\n",
       "    <tr>\n",
       "      <th>84</th>\n",
       "      <td>양서파충류</td>\n",
       "      <td>I</td>\n",
       "      <td>수원청개구리</td>\n",
       "      <td>Hyla suweonensis</td>\n",
       "      <td>Y</td>\n",
       "      <td>EN</td>\n",
       "      <td>EN</td>\n",
       "    </tr>\n",
       "  </tbody>\n",
       "</table>\n",
       "</div>"
      ],
      "text/plain": [
       "      분류군 등급      국명                    학명 고유종 국가적색목록 세계자연보전연맹\n",
       "83  양서파충류  I    비바리뱀  Sibynophis chinensis   N     EN       LC\n",
       "84  양서파충류  I  수원청개구리      Hyla suweonensis   Y     EN       EN"
      ]
     },
     "metadata": {},
     "output_type": "display_data"
    },
    {
     "name": "stdout",
     "output_type": "stream",
     "text": [
      "('양서파충류', 'II')\n"
     ]
    },
    {
     "data": {
      "text/html": [
       "<div>\n",
       "<style scoped>\n",
       "    .dataframe tbody tr th:only-of-type {\n",
       "        vertical-align: middle;\n",
       "    }\n",
       "\n",
       "    .dataframe tbody tr th {\n",
       "        vertical-align: top;\n",
       "    }\n",
       "\n",
       "    .dataframe thead th {\n",
       "        text-align: right;\n",
       "    }\n",
       "</style>\n",
       "<table border=\"1\" class=\"dataframe\">\n",
       "  <thead>\n",
       "    <tr style=\"text-align: right;\">\n",
       "      <th></th>\n",
       "      <th>분류군</th>\n",
       "      <th>등급</th>\n",
       "      <th>국명</th>\n",
       "      <th>학명</th>\n",
       "      <th>고유종</th>\n",
       "      <th>국가적색목록</th>\n",
       "      <th>세계자연보전연맹</th>\n",
       "    </tr>\n",
       "  </thead>\n",
       "  <tbody>\n",
       "    <tr>\n",
       "      <th>85</th>\n",
       "      <td>양서파충류</td>\n",
       "      <td>II</td>\n",
       "      <td>고리도룡뇽</td>\n",
       "      <td>Hynobius yangi</td>\n",
       "      <td>Y</td>\n",
       "      <td>EN</td>\n",
       "      <td>EN</td>\n",
       "    </tr>\n",
       "    <tr>\n",
       "      <th>86</th>\n",
       "      <td>양서파충류</td>\n",
       "      <td>II</td>\n",
       "      <td>구렁이</td>\n",
       "      <td>Elaphe schrenckii</td>\n",
       "      <td>N</td>\n",
       "      <td>EN</td>\n",
       "      <td>NE</td>\n",
       "    </tr>\n",
       "    <tr>\n",
       "      <th>87</th>\n",
       "      <td>양서파충류</td>\n",
       "      <td>II</td>\n",
       "      <td>금개구리</td>\n",
       "      <td>Pelophylax chosenicus</td>\n",
       "      <td>Y</td>\n",
       "      <td>VU</td>\n",
       "      <td>VU</td>\n",
       "    </tr>\n",
       "  </tbody>\n",
       "</table>\n",
       "</div>"
      ],
      "text/plain": [
       "      분류군  등급     국명                     학명 고유종 국가적색목록 세계자연보전연맹\n",
       "85  양서파충류  II  고리도룡뇽         Hynobius yangi   Y     EN       EN\n",
       "86  양서파충류  II    구렁이      Elaphe schrenckii   N     EN       NE\n",
       "87  양서파충류  II   금개구리  Pelophylax chosenicus   Y     VU       VU"
      ]
     },
     "metadata": {},
     "output_type": "display_data"
    },
    {
     "name": "stdout",
     "output_type": "stream",
     "text": [
      "('어류', 'I')\n"
     ]
    },
    {
     "data": {
      "text/html": [
       "<div>\n",
       "<style scoped>\n",
       "    .dataframe tbody tr th:only-of-type {\n",
       "        vertical-align: middle;\n",
       "    }\n",
       "\n",
       "    .dataframe tbody tr th {\n",
       "        vertical-align: top;\n",
       "    }\n",
       "\n",
       "    .dataframe thead th {\n",
       "        text-align: right;\n",
       "    }\n",
       "</style>\n",
       "<table border=\"1\" class=\"dataframe\">\n",
       "  <thead>\n",
       "    <tr style=\"text-align: right;\">\n",
       "      <th></th>\n",
       "      <th>분류군</th>\n",
       "      <th>등급</th>\n",
       "      <th>국명</th>\n",
       "      <th>학명</th>\n",
       "      <th>고유종</th>\n",
       "      <th>국가적색목록</th>\n",
       "      <th>세계자연보전연맹</th>\n",
       "    </tr>\n",
       "  </thead>\n",
       "  <tbody>\n",
       "    <tr>\n",
       "      <th>91</th>\n",
       "      <td>어류</td>\n",
       "      <td>I</td>\n",
       "      <td>감돌고기</td>\n",
       "      <td>Pseudopungtungia nigra</td>\n",
       "      <td>Y</td>\n",
       "      <td>EN</td>\n",
       "      <td>NE</td>\n",
       "    </tr>\n",
       "    <tr>\n",
       "      <th>92</th>\n",
       "      <td>어류</td>\n",
       "      <td>I</td>\n",
       "      <td>꼬치동자개</td>\n",
       "      <td>Pseudobagrus brevicorpus</td>\n",
       "      <td>Y</td>\n",
       "      <td>EN</td>\n",
       "      <td>NE</td>\n",
       "    </tr>\n",
       "    <tr>\n",
       "      <th>93</th>\n",
       "      <td>어류</td>\n",
       "      <td>I</td>\n",
       "      <td>남방동사리</td>\n",
       "      <td>Odontobutis obscura</td>\n",
       "      <td>N</td>\n",
       "      <td>CR</td>\n",
       "      <td>NE</td>\n",
       "    </tr>\n",
       "  </tbody>\n",
       "</table>\n",
       "</div>"
      ],
      "text/plain": [
       "   분류군 등급     국명                        학명 고유종 국가적색목록 세계자연보전연맹\n",
       "91  어류  I   감돌고기    Pseudopungtungia nigra   Y     EN       NE\n",
       "92  어류  I  꼬치동자개  Pseudobagrus brevicorpus   Y     EN       NE\n",
       "93  어류  I  남방동사리       Odontobutis obscura   N     CR       NE"
      ]
     },
     "metadata": {},
     "output_type": "display_data"
    },
    {
     "name": "stdout",
     "output_type": "stream",
     "text": [
      "('어류', 'II')\n"
     ]
    },
    {
     "data": {
      "text/html": [
       "<div>\n",
       "<style scoped>\n",
       "    .dataframe tbody tr th:only-of-type {\n",
       "        vertical-align: middle;\n",
       "    }\n",
       "\n",
       "    .dataframe tbody tr th {\n",
       "        vertical-align: top;\n",
       "    }\n",
       "\n",
       "    .dataframe thead th {\n",
       "        text-align: right;\n",
       "    }\n",
       "</style>\n",
       "<table border=\"1\" class=\"dataframe\">\n",
       "  <thead>\n",
       "    <tr style=\"text-align: right;\">\n",
       "      <th></th>\n",
       "      <th>분류군</th>\n",
       "      <th>등급</th>\n",
       "      <th>국명</th>\n",
       "      <th>학명</th>\n",
       "      <th>고유종</th>\n",
       "      <th>국가적색목록</th>\n",
       "      <th>세계자연보전연맹</th>\n",
       "    </tr>\n",
       "  </thead>\n",
       "  <tbody>\n",
       "    <tr>\n",
       "      <th>102</th>\n",
       "      <td>어류</td>\n",
       "      <td>II</td>\n",
       "      <td>가는돌고기</td>\n",
       "      <td>Pseudopungtungia tenuicorpa</td>\n",
       "      <td>Y</td>\n",
       "      <td>NT</td>\n",
       "      <td>NE</td>\n",
       "    </tr>\n",
       "    <tr>\n",
       "      <th>103</th>\n",
       "      <td>어류</td>\n",
       "      <td>II</td>\n",
       "      <td>가시고기</td>\n",
       "      <td>Pungitius sinensis</td>\n",
       "      <td>N</td>\n",
       "      <td>VU</td>\n",
       "      <td>VU</td>\n",
       "    </tr>\n",
       "    <tr>\n",
       "      <th>104</th>\n",
       "      <td>어류</td>\n",
       "      <td>II</td>\n",
       "      <td>꺽저기</td>\n",
       "      <td>Coreoperca kawamebari</td>\n",
       "      <td>N</td>\n",
       "      <td>EN</td>\n",
       "      <td>NE</td>\n",
       "    </tr>\n",
       "  </tbody>\n",
       "</table>\n",
       "</div>"
      ],
      "text/plain": [
       "    분류군  등급     국명                           학명 고유종 국가적색목록 세계자연보전연맹\n",
       "102  어류  II  가는돌고기  Pseudopungtungia tenuicorpa   Y     NT       NE\n",
       "103  어류  II   가시고기           Pungitius sinensis   N     VU       VU\n",
       "104  어류  II    꺽저기        Coreoperca kawamebari   N     EN       NE"
      ]
     },
     "metadata": {},
     "output_type": "display_data"
    },
    {
     "name": "stdout",
     "output_type": "stream",
     "text": [
      "('조류', 'I')\n"
     ]
    },
    {
     "data": {
      "text/html": [
       "<div>\n",
       "<style scoped>\n",
       "    .dataframe tbody tr th:only-of-type {\n",
       "        vertical-align: middle;\n",
       "    }\n",
       "\n",
       "    .dataframe tbody tr th {\n",
       "        vertical-align: top;\n",
       "    }\n",
       "\n",
       "    .dataframe thead th {\n",
       "        text-align: right;\n",
       "    }\n",
       "</style>\n",
       "<table border=\"1\" class=\"dataframe\">\n",
       "  <thead>\n",
       "    <tr style=\"text-align: right;\">\n",
       "      <th></th>\n",
       "      <th>분류군</th>\n",
       "      <th>등급</th>\n",
       "      <th>국명</th>\n",
       "      <th>학명</th>\n",
       "      <th>고유종</th>\n",
       "      <th>국가적색목록</th>\n",
       "      <th>세계자연보전연맹</th>\n",
       "    </tr>\n",
       "  </thead>\n",
       "  <tbody>\n",
       "    <tr>\n",
       "      <th>20</th>\n",
       "      <td>조류</td>\n",
       "      <td>I</td>\n",
       "      <td>검독수리</td>\n",
       "      <td>Aquila chrysaetos</td>\n",
       "      <td>N</td>\n",
       "      <td>EN</td>\n",
       "      <td>LC</td>\n",
       "    </tr>\n",
       "    <tr>\n",
       "      <th>21</th>\n",
       "      <td>조류</td>\n",
       "      <td>I</td>\n",
       "      <td>넓적부리도요</td>\n",
       "      <td>Eurynorhynchus pygmeus</td>\n",
       "      <td>N</td>\n",
       "      <td>CR</td>\n",
       "      <td>CR</td>\n",
       "    </tr>\n",
       "    <tr>\n",
       "      <th>22</th>\n",
       "      <td>조류</td>\n",
       "      <td>I</td>\n",
       "      <td>노랑부리백로</td>\n",
       "      <td>Egretta eulophotes</td>\n",
       "      <td>N</td>\n",
       "      <td>EN</td>\n",
       "      <td>VU</td>\n",
       "    </tr>\n",
       "  </tbody>\n",
       "</table>\n",
       "</div>"
      ],
      "text/plain": [
       "   분류군 등급      국명                       학명 고유종 국가적색목록 세계자연보전연맹\n",
       "20  조류  I    검독수리       Aquila chrysaetos    N     EN       LC\n",
       "21  조류  I  넓적부리도요  Eurynorhynchus pygmeus    N     CR       CR\n",
       "22  조류  I  노랑부리백로      Egretta eulophotes    N     EN       VU"
      ]
     },
     "metadata": {},
     "output_type": "display_data"
    },
    {
     "name": "stdout",
     "output_type": "stream",
     "text": [
      "('조류', 'II')\n"
     ]
    },
    {
     "data": {
      "text/html": [
       "<div>\n",
       "<style scoped>\n",
       "    .dataframe tbody tr th:only-of-type {\n",
       "        vertical-align: middle;\n",
       "    }\n",
       "\n",
       "    .dataframe tbody tr th {\n",
       "        vertical-align: top;\n",
       "    }\n",
       "\n",
       "    .dataframe thead th {\n",
       "        text-align: right;\n",
       "    }\n",
       "</style>\n",
       "<table border=\"1\" class=\"dataframe\">\n",
       "  <thead>\n",
       "    <tr style=\"text-align: right;\">\n",
       "      <th></th>\n",
       "      <th>분류군</th>\n",
       "      <th>등급</th>\n",
       "      <th>국명</th>\n",
       "      <th>학명</th>\n",
       "      <th>고유종</th>\n",
       "      <th>국가적색목록</th>\n",
       "      <th>세계자연보전연맹</th>\n",
       "    </tr>\n",
       "  </thead>\n",
       "  <tbody>\n",
       "    <tr>\n",
       "      <th>34</th>\n",
       "      <td>조류</td>\n",
       "      <td>II</td>\n",
       "      <td>개리</td>\n",
       "      <td>Anser cygnoides</td>\n",
       "      <td>N</td>\n",
       "      <td>EN</td>\n",
       "      <td>VU</td>\n",
       "    </tr>\n",
       "    <tr>\n",
       "      <th>35</th>\n",
       "      <td>조류</td>\n",
       "      <td>II</td>\n",
       "      <td>검은머리갈매기</td>\n",
       "      <td>Larus saundersi</td>\n",
       "      <td>N</td>\n",
       "      <td>EN</td>\n",
       "      <td>VU</td>\n",
       "    </tr>\n",
       "    <tr>\n",
       "      <th>36</th>\n",
       "      <td>조류</td>\n",
       "      <td>II</td>\n",
       "      <td>검은머리물떼새</td>\n",
       "      <td>Haematopus ostralegus</td>\n",
       "      <td>N</td>\n",
       "      <td>VU</td>\n",
       "      <td>LC</td>\n",
       "    </tr>\n",
       "  </tbody>\n",
       "</table>\n",
       "</div>"
      ],
      "text/plain": [
       "   분류군  등급       국명                      학명 고유종 국가적색목록 세계자연보전연맹\n",
       "34  조류  II       개리        Anser cygnoides    N     EN       VU\n",
       "35  조류  II  검은머리갈매기        Larus saundersi    N     EN       VU\n",
       "36  조류  II  검은머리물떼새  Haematopus ostralegus    N     VU       LC"
      ]
     },
     "metadata": {},
     "output_type": "display_data"
    },
    {
     "name": "stdout",
     "output_type": "stream",
     "text": [
      "('포유류', 'I')\n"
     ]
    },
    {
     "data": {
      "text/html": [
       "<div>\n",
       "<style scoped>\n",
       "    .dataframe tbody tr th:only-of-type {\n",
       "        vertical-align: middle;\n",
       "    }\n",
       "\n",
       "    .dataframe tbody tr th {\n",
       "        vertical-align: top;\n",
       "    }\n",
       "\n",
       "    .dataframe thead th {\n",
       "        text-align: right;\n",
       "    }\n",
       "</style>\n",
       "<table border=\"1\" class=\"dataframe\">\n",
       "  <thead>\n",
       "    <tr style=\"text-align: right;\">\n",
       "      <th></th>\n",
       "      <th>분류군</th>\n",
       "      <th>등급</th>\n",
       "      <th>국명</th>\n",
       "      <th>학명</th>\n",
       "      <th>고유종</th>\n",
       "      <th>국가적색목록</th>\n",
       "      <th>세계자연보전연맹</th>\n",
       "    </tr>\n",
       "  </thead>\n",
       "  <tbody>\n",
       "    <tr>\n",
       "      <th>0</th>\n",
       "      <td>포유류</td>\n",
       "      <td>I</td>\n",
       "      <td>늑대</td>\n",
       "      <td>Canis lupus coreanus</td>\n",
       "      <td>N</td>\n",
       "      <td>RE</td>\n",
       "      <td>LC</td>\n",
       "    </tr>\n",
       "    <tr>\n",
       "      <th>1</th>\n",
       "      <td>포유류</td>\n",
       "      <td>I</td>\n",
       "      <td>대륙사슴</td>\n",
       "      <td>Cervus nippon hortulorum</td>\n",
       "      <td>N</td>\n",
       "      <td>RE</td>\n",
       "      <td>LC</td>\n",
       "    </tr>\n",
       "    <tr>\n",
       "      <th>2</th>\n",
       "      <td>포유류</td>\n",
       "      <td>I</td>\n",
       "      <td>반달가슴곰</td>\n",
       "      <td>Ursus thibetanus ussuricus</td>\n",
       "      <td>N</td>\n",
       "      <td>EN</td>\n",
       "      <td>VU</td>\n",
       "    </tr>\n",
       "  </tbody>\n",
       "</table>\n",
       "</div>"
      ],
      "text/plain": [
       "   분류군 등급     국명                          학명 고유종 국가적색목록 세계자연보전연맹\n",
       "0  포유류  I     늑대        Canis lupus coreanus   N     RE       LC\n",
       "1  포유류  I   대륙사슴    Cervus nippon hortulorum   N     RE       LC\n",
       "2  포유류  I  반달가슴곰  Ursus thibetanus ussuricus   N     EN       VU"
      ]
     },
     "metadata": {},
     "output_type": "display_data"
    },
    {
     "name": "stdout",
     "output_type": "stream",
     "text": [
      "('포유류', 'II')\n"
     ]
    },
    {
     "data": {
      "text/html": [
       "<div>\n",
       "<style scoped>\n",
       "    .dataframe tbody tr th:only-of-type {\n",
       "        vertical-align: middle;\n",
       "    }\n",
       "\n",
       "    .dataframe tbody tr th {\n",
       "        vertical-align: top;\n",
       "    }\n",
       "\n",
       "    .dataframe thead th {\n",
       "        text-align: right;\n",
       "    }\n",
       "</style>\n",
       "<table border=\"1\" class=\"dataframe\">\n",
       "  <thead>\n",
       "    <tr style=\"text-align: right;\">\n",
       "      <th></th>\n",
       "      <th>분류군</th>\n",
       "      <th>등급</th>\n",
       "      <th>국명</th>\n",
       "      <th>학명</th>\n",
       "      <th>고유종</th>\n",
       "      <th>국가적색목록</th>\n",
       "      <th>세계자연보전연맹</th>\n",
       "    </tr>\n",
       "  </thead>\n",
       "  <tbody>\n",
       "    <tr>\n",
       "      <th>12</th>\n",
       "      <td>포유류</td>\n",
       "      <td>II</td>\n",
       "      <td>담비</td>\n",
       "      <td>Martes flavigula</td>\n",
       "      <td>N</td>\n",
       "      <td>VU</td>\n",
       "      <td>LC</td>\n",
       "    </tr>\n",
       "    <tr>\n",
       "      <th>13</th>\n",
       "      <td>포유류</td>\n",
       "      <td>II</td>\n",
       "      <td>무산쇠족제비</td>\n",
       "      <td>Mustela nivalis</td>\n",
       "      <td>N</td>\n",
       "      <td>VU</td>\n",
       "      <td>LC</td>\n",
       "    </tr>\n",
       "    <tr>\n",
       "      <th>14</th>\n",
       "      <td>포유류</td>\n",
       "      <td>II</td>\n",
       "      <td>물개</td>\n",
       "      <td>Callorhinus ursinus</td>\n",
       "      <td>N</td>\n",
       "      <td>VU</td>\n",
       "      <td>VU</td>\n",
       "    </tr>\n",
       "  </tbody>\n",
       "</table>\n",
       "</div>"
      ],
      "text/plain": [
       "    분류군  등급      국명                    학명 고유종 국가적색목록 세계자연보전연맹\n",
       "12  포유류  II      담비     Martes flavigula    N     VU       LC\n",
       "13  포유류  II  무산쇠족제비      Mustela nivalis    N     VU       LC\n",
       "14  포유류  II      물개  Callorhinus ursinus    N     VU       VU"
      ]
     },
     "metadata": {},
     "output_type": "display_data"
    },
    {
     "name": "stdout",
     "output_type": "stream",
     "text": [
      "('해조류', 'II')\n"
     ]
    },
    {
     "data": {
      "text/html": [
       "<div>\n",
       "<style scoped>\n",
       "    .dataframe tbody tr th:only-of-type {\n",
       "        vertical-align: middle;\n",
       "    }\n",
       "\n",
       "    .dataframe tbody tr th {\n",
       "        vertical-align: top;\n",
       "    }\n",
       "\n",
       "    .dataframe thead th {\n",
       "        text-align: right;\n",
       "    }\n",
       "</style>\n",
       "<table border=\"1\" class=\"dataframe\">\n",
       "  <thead>\n",
       "    <tr style=\"text-align: right;\">\n",
       "      <th></th>\n",
       "      <th>분류군</th>\n",
       "      <th>등급</th>\n",
       "      <th>국명</th>\n",
       "      <th>학명</th>\n",
       "      <th>고유종</th>\n",
       "      <th>국가적색목록</th>\n",
       "      <th>세계자연보전연맹</th>\n",
       "    </tr>\n",
       "  </thead>\n",
       "  <tbody>\n",
       "    <tr>\n",
       "      <th>264</th>\n",
       "      <td>해조류</td>\n",
       "      <td>II</td>\n",
       "      <td>그물공말</td>\n",
       "      <td>Dictyosphaeria cavernosa</td>\n",
       "      <td>N</td>\n",
       "      <td>NE</td>\n",
       "      <td>NE</td>\n",
       "    </tr>\n",
       "    <tr>\n",
       "      <th>265</th>\n",
       "      <td>해조류</td>\n",
       "      <td>II</td>\n",
       "      <td>삼나무말</td>\n",
       "      <td>Coccophora langsdorfii</td>\n",
       "      <td>N</td>\n",
       "      <td>NE</td>\n",
       "      <td>NE</td>\n",
       "    </tr>\n",
       "  </tbody>\n",
       "</table>\n",
       "</div>"
      ],
      "text/plain": [
       "     분류군  등급    국명                        학명 고유종 국가적색목록 세계자연보전연맹\n",
       "264  해조류  II  그물공말  Dictyosphaeria cavernosa   N     NE       NE\n",
       "265  해조류  II  삼나무말    Coccophora langsdorfii   N     NE       NE"
      ]
     },
     "metadata": {},
     "output_type": "display_data"
    }
   ],
   "source": [
    "a = species.groupby(['분류군', '등급'])\n",
    "\n",
    "a.ngroups\n",
    "for n, g in a:\n",
    "    print(n)\n",
    "    display(g.head(3))"
   ]
  },
  {
   "cell_type": "code",
   "execution_count": 41,
   "metadata": {},
   "outputs": [
    {
     "name": "stdout",
     "output_type": "stream",
     "text": [
      "('고등균류', 'NE')\n"
     ]
    },
    {
     "data": {
      "text/html": [
       "<div>\n",
       "<style scoped>\n",
       "    .dataframe tbody tr th:only-of-type {\n",
       "        vertical-align: middle;\n",
       "    }\n",
       "\n",
       "    .dataframe tbody tr th {\n",
       "        vertical-align: top;\n",
       "    }\n",
       "\n",
       "    .dataframe thead th {\n",
       "        text-align: right;\n",
       "    }\n",
       "</style>\n",
       "<table border=\"1\" class=\"dataframe\">\n",
       "  <thead>\n",
       "    <tr style=\"text-align: right;\">\n",
       "      <th></th>\n",
       "      <th>분류군</th>\n",
       "      <th>등급</th>\n",
       "      <th>국명</th>\n",
       "      <th>학명</th>\n",
       "      <th>고유종</th>\n",
       "      <th>국가적색목록</th>\n",
       "      <th>세계자연보전연맹</th>\n",
       "    </tr>\n",
       "  </thead>\n",
       "  <tbody>\n",
       "    <tr>\n",
       "      <th>266</th>\n",
       "      <td>고등균류</td>\n",
       "      <td>II</td>\n",
       "      <td>화경버섯</td>\n",
       "      <td>Lampteromyces japonicus</td>\n",
       "      <td>N</td>\n",
       "      <td>NE</td>\n",
       "      <td>NE</td>\n",
       "    </tr>\n",
       "  </tbody>\n",
       "</table>\n",
       "</div>"
      ],
      "text/plain": [
       "      분류군  등급    국명                       학명 고유종 국가적색목록 세계자연보전연맹\n",
       "266  고등균류  II  화경버섯  Lampteromyces japonicus   N     NE       NE"
      ]
     },
     "metadata": {},
     "output_type": "display_data"
    },
    {
     "name": "stdout",
     "output_type": "stream",
     "text": [
      "('곤충류', 'CR')\n"
     ]
    },
    {
     "data": {
      "text/html": [
       "<div>\n",
       "<style scoped>\n",
       "    .dataframe tbody tr th:only-of-type {\n",
       "        vertical-align: middle;\n",
       "    }\n",
       "\n",
       "    .dataframe tbody tr th {\n",
       "        vertical-align: top;\n",
       "    }\n",
       "\n",
       "    .dataframe thead th {\n",
       "        text-align: right;\n",
       "    }\n",
       "</style>\n",
       "<table border=\"1\" class=\"dataframe\">\n",
       "  <thead>\n",
       "    <tr style=\"text-align: right;\">\n",
       "      <th></th>\n",
       "      <th>분류군</th>\n",
       "      <th>등급</th>\n",
       "      <th>국명</th>\n",
       "      <th>학명</th>\n",
       "      <th>고유종</th>\n",
       "      <th>국가적색목록</th>\n",
       "      <th>세계자연보전연맹</th>\n",
       "    </tr>\n",
       "  </thead>\n",
       "  <tbody>\n",
       "    <tr>\n",
       "      <th>128</th>\n",
       "      <td>곤충류</td>\n",
       "      <td>II</td>\n",
       "      <td>대모잠자리</td>\n",
       "      <td>Libellula angelina</td>\n",
       "      <td>N</td>\n",
       "      <td>EN</td>\n",
       "      <td>CR</td>\n",
       "    </tr>\n",
       "  </tbody>\n",
       "</table>\n",
       "</div>"
      ],
      "text/plain": [
       "     분류군  등급     국명                  학명 고유종 국가적색목록 세계자연보전연맹\n",
       "128  곤충류  II  대모잠자리  Libellula angelina   N     EN       CR"
      ]
     },
     "metadata": {},
     "output_type": "display_data"
    },
    {
     "name": "stdout",
     "output_type": "stream",
     "text": [
      "('곤충류', 'LC')\n"
     ]
    },
    {
     "data": {
      "text/html": [
       "<div>\n",
       "<style scoped>\n",
       "    .dataframe tbody tr th:only-of-type {\n",
       "        vertical-align: middle;\n",
       "    }\n",
       "\n",
       "    .dataframe tbody tr th {\n",
       "        vertical-align: top;\n",
       "    }\n",
       "\n",
       "    .dataframe thead th {\n",
       "        text-align: right;\n",
       "    }\n",
       "</style>\n",
       "<table border=\"1\" class=\"dataframe\">\n",
       "  <thead>\n",
       "    <tr style=\"text-align: right;\">\n",
       "      <th></th>\n",
       "      <th>분류군</th>\n",
       "      <th>등급</th>\n",
       "      <th>국명</th>\n",
       "      <th>학명</th>\n",
       "      <th>고유종</th>\n",
       "      <th>국가적색목록</th>\n",
       "      <th>세계자연보전연맹</th>\n",
       "    </tr>\n",
       "  </thead>\n",
       "  <tbody>\n",
       "    <tr>\n",
       "      <th>125</th>\n",
       "      <td>곤충류</td>\n",
       "      <td>II</td>\n",
       "      <td>꼬마잠자리</td>\n",
       "      <td>Nannophya pygmaea</td>\n",
       "      <td>N</td>\n",
       "      <td>VU</td>\n",
       "      <td>LC</td>\n",
       "    </tr>\n",
       "  </tbody>\n",
       "</table>\n",
       "</div>"
      ],
      "text/plain": [
       "     분류군  등급     국명                 학명 고유종 국가적색목록 세계자연보전연맹\n",
       "125  곤충류  II  꼬마잠자리  Nannophya pygmaea   N     VU       LC"
      ]
     },
     "metadata": {},
     "output_type": "display_data"
    },
    {
     "name": "stdout",
     "output_type": "stream",
     "text": [
      "('곤충류', 'NE')\n"
     ]
    },
    {
     "data": {
      "text/html": [
       "<div>\n",
       "<style scoped>\n",
       "    .dataframe tbody tr th:only-of-type {\n",
       "        vertical-align: middle;\n",
       "    }\n",
       "\n",
       "    .dataframe tbody tr th {\n",
       "        vertical-align: top;\n",
       "    }\n",
       "\n",
       "    .dataframe thead th {\n",
       "        text-align: right;\n",
       "    }\n",
       "</style>\n",
       "<table border=\"1\" class=\"dataframe\">\n",
       "  <thead>\n",
       "    <tr style=\"text-align: right;\">\n",
       "      <th></th>\n",
       "      <th>분류군</th>\n",
       "      <th>등급</th>\n",
       "      <th>국명</th>\n",
       "      <th>학명</th>\n",
       "      <th>고유종</th>\n",
       "      <th>국가적색목록</th>\n",
       "      <th>세계자연보전연맹</th>\n",
       "    </tr>\n",
       "  </thead>\n",
       "  <tbody>\n",
       "    <tr>\n",
       "      <th>118</th>\n",
       "      <td>곤충류</td>\n",
       "      <td>I</td>\n",
       "      <td>붉은점모시나비</td>\n",
       "      <td>Parnassius bremeri</td>\n",
       "      <td>N</td>\n",
       "      <td>VU</td>\n",
       "      <td>NE</td>\n",
       "    </tr>\n",
       "    <tr>\n",
       "      <th>119</th>\n",
       "      <td>곤충류</td>\n",
       "      <td>I</td>\n",
       "      <td>비단벌레</td>\n",
       "      <td>Chrysochroa coreana</td>\n",
       "      <td>N</td>\n",
       "      <td>VU</td>\n",
       "      <td>NE</td>\n",
       "    </tr>\n",
       "    <tr>\n",
       "      <th>120</th>\n",
       "      <td>곤충류</td>\n",
       "      <td>I</td>\n",
       "      <td>산굴뚝나비</td>\n",
       "      <td>Hipparchia autonoe</td>\n",
       "      <td>N</td>\n",
       "      <td>EN</td>\n",
       "      <td>NE</td>\n",
       "    </tr>\n",
       "  </tbody>\n",
       "</table>\n",
       "</div>"
      ],
      "text/plain": [
       "     분류군 등급       국명                   학명 고유종 국가적색목록 세계자연보전연맹\n",
       "118  곤충류  I  붉은점모시나비   Parnassius bremeri   N     VU       NE\n",
       "119  곤충류  I     비단벌레  Chrysochroa coreana   N     VU       NE\n",
       "120  곤충류  I    산굴뚝나비   Hipparchia autonoe   N     EN       NE"
      ]
     },
     "metadata": {},
     "output_type": "display_data"
    },
    {
     "name": "stdout",
     "output_type": "stream",
     "text": [
      "('무척추동물', 'DD')\n"
     ]
    },
    {
     "data": {
      "text/html": [
       "<div>\n",
       "<style scoped>\n",
       "    .dataframe tbody tr th:only-of-type {\n",
       "        vertical-align: middle;\n",
       "    }\n",
       "\n",
       "    .dataframe tbody tr th {\n",
       "        vertical-align: top;\n",
       "    }\n",
       "\n",
       "    .dataframe thead th {\n",
       "        text-align: right;\n",
       "    }\n",
       "</style>\n",
       "<table border=\"1\" class=\"dataframe\">\n",
       "  <thead>\n",
       "    <tr style=\"text-align: right;\">\n",
       "      <th></th>\n",
       "      <th>분류군</th>\n",
       "      <th>등급</th>\n",
       "      <th>국명</th>\n",
       "      <th>학명</th>\n",
       "      <th>고유종</th>\n",
       "      <th>국가적색목록</th>\n",
       "      <th>세계자연보전연맹</th>\n",
       "    </tr>\n",
       "  </thead>\n",
       "  <tbody>\n",
       "    <tr>\n",
       "      <th>144</th>\n",
       "      <td>무척추동물</td>\n",
       "      <td>I</td>\n",
       "      <td>귀이빨대칭이</td>\n",
       "      <td>Cristaria plicata</td>\n",
       "      <td>N</td>\n",
       "      <td>VU</td>\n",
       "      <td>DD</td>\n",
       "    </tr>\n",
       "    <tr>\n",
       "      <th>154</th>\n",
       "      <td>무척추동물</td>\n",
       "      <td>II</td>\n",
       "      <td>대추귀고둥</td>\n",
       "      <td>Ellobium chinense</td>\n",
       "      <td>N</td>\n",
       "      <td>VU</td>\n",
       "      <td>DD</td>\n",
       "    </tr>\n",
       "  </tbody>\n",
       "</table>\n",
       "</div>"
      ],
      "text/plain": [
       "       분류군  등급      국명                 학명 고유종 국가적색목록 세계자연보전연맹\n",
       "144  무척추동물   I  귀이빨대칭이  Cristaria plicata   N     VU       DD\n",
       "154  무척추동물  II   대추귀고둥  Ellobium chinense   N     VU       DD"
      ]
     },
     "metadata": {},
     "output_type": "display_data"
    },
    {
     "name": "stdout",
     "output_type": "stream",
     "text": [
      "('무척추동물', 'NE')\n"
     ]
    },
    {
     "data": {
      "text/html": [
       "<div>\n",
       "<style scoped>\n",
       "    .dataframe tbody tr th:only-of-type {\n",
       "        vertical-align: middle;\n",
       "    }\n",
       "\n",
       "    .dataframe tbody tr th {\n",
       "        vertical-align: top;\n",
       "    }\n",
       "\n",
       "    .dataframe thead th {\n",
       "        text-align: right;\n",
       "    }\n",
       "</style>\n",
       "<table border=\"1\" class=\"dataframe\">\n",
       "  <thead>\n",
       "    <tr style=\"text-align: right;\">\n",
       "      <th></th>\n",
       "      <th>분류군</th>\n",
       "      <th>등급</th>\n",
       "      <th>국명</th>\n",
       "      <th>학명</th>\n",
       "      <th>고유종</th>\n",
       "      <th>국가적색목록</th>\n",
       "      <th>세계자연보전연맹</th>\n",
       "    </tr>\n",
       "  </thead>\n",
       "  <tbody>\n",
       "    <tr>\n",
       "      <th>145</th>\n",
       "      <td>무척추동물</td>\n",
       "      <td>I</td>\n",
       "      <td>나팔고둥</td>\n",
       "      <td>Charonia lampas sauliae</td>\n",
       "      <td>N</td>\n",
       "      <td>VU</td>\n",
       "      <td>NE</td>\n",
       "    </tr>\n",
       "    <tr>\n",
       "      <th>146</th>\n",
       "      <td>무척추동물</td>\n",
       "      <td>I</td>\n",
       "      <td>남방방게</td>\n",
       "      <td>Pseudohelice subquadrata</td>\n",
       "      <td>N</td>\n",
       "      <td>NE</td>\n",
       "      <td>NE</td>\n",
       "    </tr>\n",
       "    <tr>\n",
       "      <th>147</th>\n",
       "      <td>무척추동물</td>\n",
       "      <td>I</td>\n",
       "      <td>두드럭조개</td>\n",
       "      <td>Lamprotula coreana</td>\n",
       "      <td>Y</td>\n",
       "      <td>CR</td>\n",
       "      <td>NE</td>\n",
       "    </tr>\n",
       "  </tbody>\n",
       "</table>\n",
       "</div>"
      ],
      "text/plain": [
       "       분류군 등급     국명                        학명 고유종 국가적색목록 세계자연보전연맹\n",
       "145  무척추동물  I   나팔고둥   Charonia lampas sauliae   N     VU       NE\n",
       "146  무척추동물  I   남방방게  Pseudohelice subquadrata   N     NE       NE\n",
       "147  무척추동물  I  두드럭조개        Lamprotula coreana   Y     CR       NE"
      ]
     },
     "metadata": {},
     "output_type": "display_data"
    },
    {
     "name": "stdout",
     "output_type": "stream",
     "text": [
      "('식물', 'CR')\n"
     ]
    },
    {
     "data": {
      "text/html": [
       "<div>\n",
       "<style scoped>\n",
       "    .dataframe tbody tr th:only-of-type {\n",
       "        vertical-align: middle;\n",
       "    }\n",
       "\n",
       "    .dataframe tbody tr th {\n",
       "        vertical-align: top;\n",
       "    }\n",
       "\n",
       "    .dataframe thead th {\n",
       "        text-align: right;\n",
       "    }\n",
       "</style>\n",
       "<table border=\"1\" class=\"dataframe\">\n",
       "  <thead>\n",
       "    <tr style=\"text-align: right;\">\n",
       "      <th></th>\n",
       "      <th>분류군</th>\n",
       "      <th>등급</th>\n",
       "      <th>국명</th>\n",
       "      <th>학명</th>\n",
       "      <th>고유종</th>\n",
       "      <th>국가적색목록</th>\n",
       "      <th>세계자연보전연맹</th>\n",
       "    </tr>\n",
       "  </thead>\n",
       "  <tbody>\n",
       "    <tr>\n",
       "      <th>228</th>\n",
       "      <td>식물</td>\n",
       "      <td>II</td>\n",
       "      <td>섬시호</td>\n",
       "      <td>Bupleurum latissimum</td>\n",
       "      <td>Y</td>\n",
       "      <td>EN</td>\n",
       "      <td>CR</td>\n",
       "    </tr>\n",
       "  </tbody>\n",
       "</table>\n",
       "</div>"
      ],
      "text/plain": [
       "    분류군  등급   국명                    학명 고유종 국가적색목록 세계자연보전연맹\n",
       "228  식물  II  섬시호  Bupleurum latissimum   Y     EN       CR"
      ]
     },
     "metadata": {},
     "output_type": "display_data"
    },
    {
     "name": "stdout",
     "output_type": "stream",
     "text": [
      "('식물', 'DD')\n"
     ]
    },
    {
     "data": {
      "text/html": [
       "<div>\n",
       "<style scoped>\n",
       "    .dataframe tbody tr th:only-of-type {\n",
       "        vertical-align: middle;\n",
       "    }\n",
       "\n",
       "    .dataframe tbody tr th {\n",
       "        vertical-align: top;\n",
       "    }\n",
       "\n",
       "    .dataframe thead th {\n",
       "        text-align: right;\n",
       "    }\n",
       "</style>\n",
       "<table border=\"1\" class=\"dataframe\">\n",
       "  <thead>\n",
       "    <tr style=\"text-align: right;\">\n",
       "      <th></th>\n",
       "      <th>분류군</th>\n",
       "      <th>등급</th>\n",
       "      <th>국명</th>\n",
       "      <th>학명</th>\n",
       "      <th>고유종</th>\n",
       "      <th>국가적색목록</th>\n",
       "      <th>세계자연보전연맹</th>\n",
       "    </tr>\n",
       "  </thead>\n",
       "  <tbody>\n",
       "    <tr>\n",
       "      <th>230</th>\n",
       "      <td>식물</td>\n",
       "      <td>II</td>\n",
       "      <td>손바닥난초</td>\n",
       "      <td>Gymnadenia conopsea</td>\n",
       "      <td>N</td>\n",
       "      <td>VU</td>\n",
       "      <td>DD</td>\n",
       "    </tr>\n",
       "  </tbody>\n",
       "</table>\n",
       "</div>"
      ],
      "text/plain": [
       "    분류군  등급     국명                   학명 고유종 국가적색목록 세계자연보전연맹\n",
       "230  식물  II  손바닥난초  Gymnadenia conopsea   N     VU       DD"
      ]
     },
     "metadata": {},
     "output_type": "display_data"
    },
    {
     "name": "stdout",
     "output_type": "stream",
     "text": [
      "('식물', 'EN')\n"
     ]
    },
    {
     "data": {
      "text/html": [
       "<div>\n",
       "<style scoped>\n",
       "    .dataframe tbody tr th:only-of-type {\n",
       "        vertical-align: middle;\n",
       "    }\n",
       "\n",
       "    .dataframe tbody tr th {\n",
       "        vertical-align: top;\n",
       "    }\n",
       "\n",
       "    .dataframe thead th {\n",
       "        text-align: right;\n",
       "    }\n",
       "</style>\n",
       "<table border=\"1\" class=\"dataframe\">\n",
       "  <thead>\n",
       "    <tr style=\"text-align: right;\">\n",
       "      <th></th>\n",
       "      <th>분류군</th>\n",
       "      <th>등급</th>\n",
       "      <th>국명</th>\n",
       "      <th>학명</th>\n",
       "      <th>고유종</th>\n",
       "      <th>국가적색목록</th>\n",
       "      <th>세계자연보전연맹</th>\n",
       "    </tr>\n",
       "  </thead>\n",
       "  <tbody>\n",
       "    <tr>\n",
       "      <th>176</th>\n",
       "      <td>식물</td>\n",
       "      <td>I</td>\n",
       "      <td>광릉요강꽃</td>\n",
       "      <td>Cypripedium japonicum</td>\n",
       "      <td>N</td>\n",
       "      <td>CR</td>\n",
       "      <td>EN</td>\n",
       "    </tr>\n",
       "    <tr>\n",
       "      <th>198</th>\n",
       "      <td>식물</td>\n",
       "      <td>II</td>\n",
       "      <td>나도승마</td>\n",
       "      <td>Kirengeshoma koreana</td>\n",
       "      <td>Y</td>\n",
       "      <td>EN</td>\n",
       "      <td>EN</td>\n",
       "    </tr>\n",
       "    <tr>\n",
       "      <th>202</th>\n",
       "      <td>식물</td>\n",
       "      <td>II</td>\n",
       "      <td>노랑붓꽃</td>\n",
       "      <td>Iris koreana</td>\n",
       "      <td>Y</td>\n",
       "      <td>VU</td>\n",
       "      <td>EN</td>\n",
       "    </tr>\n",
       "  </tbody>\n",
       "</table>\n",
       "</div>"
      ],
      "text/plain": [
       "    분류군  등급     국명                     학명 고유종 국가적색목록 세계자연보전연맹\n",
       "176  식물   I  광릉요강꽃  Cypripedium japonicum   N     CR       EN\n",
       "198  식물  II   나도승마   Kirengeshoma koreana   Y     EN       EN\n",
       "202  식물  II   노랑붓꽃           Iris koreana   Y     VU       EN"
      ]
     },
     "metadata": {},
     "output_type": "display_data"
    },
    {
     "name": "stdout",
     "output_type": "stream",
     "text": [
      "('식물', 'LC')\n"
     ]
    },
    {
     "data": {
      "text/html": [
       "<div>\n",
       "<style scoped>\n",
       "    .dataframe tbody tr th:only-of-type {\n",
       "        vertical-align: middle;\n",
       "    }\n",
       "\n",
       "    .dataframe tbody tr th {\n",
       "        vertical-align: top;\n",
       "    }\n",
       "\n",
       "    .dataframe thead th {\n",
       "        text-align: right;\n",
       "    }\n",
       "</style>\n",
       "<table border=\"1\" class=\"dataframe\">\n",
       "  <thead>\n",
       "    <tr style=\"text-align: right;\">\n",
       "      <th></th>\n",
       "      <th>분류군</th>\n",
       "      <th>등급</th>\n",
       "      <th>국명</th>\n",
       "      <th>학명</th>\n",
       "      <th>고유종</th>\n",
       "      <th>국가적색목록</th>\n",
       "      <th>세계자연보전연맹</th>\n",
       "    </tr>\n",
       "  </thead>\n",
       "  <tbody>\n",
       "    <tr>\n",
       "      <th>183</th>\n",
       "      <td>식물</td>\n",
       "      <td>I</td>\n",
       "      <td>털복주머니란</td>\n",
       "      <td>Cypripedium guttatum</td>\n",
       "      <td>N</td>\n",
       "      <td>CR</td>\n",
       "      <td>LC</td>\n",
       "    </tr>\n",
       "    <tr>\n",
       "      <th>188</th>\n",
       "      <td>식물</td>\n",
       "      <td>II</td>\n",
       "      <td>가시연</td>\n",
       "      <td>Euryale ferox</td>\n",
       "      <td>N</td>\n",
       "      <td>VU</td>\n",
       "      <td>LC</td>\n",
       "    </tr>\n",
       "    <tr>\n",
       "      <th>190</th>\n",
       "      <td>식물</td>\n",
       "      <td>II</td>\n",
       "      <td>각시수련</td>\n",
       "      <td>Nymphaea tetragona var. minima</td>\n",
       "      <td>Y</td>\n",
       "      <td>CR</td>\n",
       "      <td>LC</td>\n",
       "    </tr>\n",
       "  </tbody>\n",
       "</table>\n",
       "</div>"
      ],
      "text/plain": [
       "    분류군  등급      국명                              학명 고유종 국가적색목록 세계자연보전연맹\n",
       "183  식물   I  털복주머니란            Cypripedium guttatum   N     CR       LC\n",
       "188  식물  II     가시연                   Euryale ferox   N     VU       LC\n",
       "190  식물  II    각시수련  Nymphaea tetragona var. minima   Y     CR       LC"
      ]
     },
     "metadata": {},
     "output_type": "display_data"
    },
    {
     "name": "stdout",
     "output_type": "stream",
     "text": [
      "('식물', 'NE')\n"
     ]
    },
    {
     "data": {
      "text/html": [
       "<div>\n",
       "<style scoped>\n",
       "    .dataframe tbody tr th:only-of-type {\n",
       "        vertical-align: middle;\n",
       "    }\n",
       "\n",
       "    .dataframe tbody tr th {\n",
       "        vertical-align: top;\n",
       "    }\n",
       "\n",
       "    .dataframe thead th {\n",
       "        text-align: right;\n",
       "    }\n",
       "</style>\n",
       "<table border=\"1\" class=\"dataframe\">\n",
       "  <thead>\n",
       "    <tr style=\"text-align: right;\">\n",
       "      <th></th>\n",
       "      <th>분류군</th>\n",
       "      <th>등급</th>\n",
       "      <th>국명</th>\n",
       "      <th>학명</th>\n",
       "      <th>고유종</th>\n",
       "      <th>국가적색목록</th>\n",
       "      <th>세계자연보전연맹</th>\n",
       "    </tr>\n",
       "  </thead>\n",
       "  <tbody>\n",
       "    <tr>\n",
       "      <th>177</th>\n",
       "      <td>식물</td>\n",
       "      <td>I</td>\n",
       "      <td>금자란</td>\n",
       "      <td>Gastrochilus fuscopunctatus</td>\n",
       "      <td>N</td>\n",
       "      <td>EN</td>\n",
       "      <td>NE</td>\n",
       "    </tr>\n",
       "    <tr>\n",
       "      <th>178</th>\n",
       "      <td>식물</td>\n",
       "      <td>I</td>\n",
       "      <td>나도풍란</td>\n",
       "      <td>Sedirea japonica</td>\n",
       "      <td>N</td>\n",
       "      <td>CR</td>\n",
       "      <td>NE</td>\n",
       "    </tr>\n",
       "    <tr>\n",
       "      <th>179</th>\n",
       "      <td>식물</td>\n",
       "      <td>I</td>\n",
       "      <td>만년콩</td>\n",
       "      <td>Euchresta japonica</td>\n",
       "      <td>N</td>\n",
       "      <td>CR</td>\n",
       "      <td>NE</td>\n",
       "    </tr>\n",
       "  </tbody>\n",
       "</table>\n",
       "</div>"
      ],
      "text/plain": [
       "    분류군 등급    국명                           학명 고유종 국가적색목록 세계자연보전연맹\n",
       "177  식물  I   금자란  Gastrochilus fuscopunctatus   N     EN       NE\n",
       "178  식물  I  나도풍란             Sedirea japonica   N     CR       NE\n",
       "179  식물  I   만년콩           Euchresta japonica   N     CR       NE"
      ]
     },
     "metadata": {},
     "output_type": "display_data"
    },
    {
     "name": "stdout",
     "output_type": "stream",
     "text": [
      "('식물', 'NT')\n"
     ]
    },
    {
     "data": {
      "text/html": [
       "<div>\n",
       "<style scoped>\n",
       "    .dataframe tbody tr th:only-of-type {\n",
       "        vertical-align: middle;\n",
       "    }\n",
       "\n",
       "    .dataframe tbody tr th {\n",
       "        vertical-align: top;\n",
       "    }\n",
       "\n",
       "    .dataframe thead th {\n",
       "        text-align: right;\n",
       "    }\n",
       "</style>\n",
       "<table border=\"1\" class=\"dataframe\">\n",
       "  <thead>\n",
       "    <tr style=\"text-align: right;\">\n",
       "      <th></th>\n",
       "      <th>분류군</th>\n",
       "      <th>등급</th>\n",
       "      <th>국명</th>\n",
       "      <th>학명</th>\n",
       "      <th>고유종</th>\n",
       "      <th>국가적색목록</th>\n",
       "      <th>세계자연보전연맹</th>\n",
       "    </tr>\n",
       "  </thead>\n",
       "  <tbody>\n",
       "    <tr>\n",
       "      <th>229</th>\n",
       "      <td>식물</td>\n",
       "      <td>II</td>\n",
       "      <td>세뿔투구꽃</td>\n",
       "      <td>Aconitum austrokoreense</td>\n",
       "      <td>Y</td>\n",
       "      <td>VU</td>\n",
       "      <td>NT</td>\n",
       "    </tr>\n",
       "  </tbody>\n",
       "</table>\n",
       "</div>"
      ],
      "text/plain": [
       "    분류군  등급     국명                       학명 고유종 국가적색목록 세계자연보전연맹\n",
       "229  식물  II  세뿔투구꽃  Aconitum austrokoreense   Y     VU       NT"
      ]
     },
     "metadata": {},
     "output_type": "display_data"
    },
    {
     "name": "stdout",
     "output_type": "stream",
     "text": [
      "('양서파충류', 'EN')\n"
     ]
    },
    {
     "data": {
      "text/html": [
       "<div>\n",
       "<style scoped>\n",
       "    .dataframe tbody tr th:only-of-type {\n",
       "        vertical-align: middle;\n",
       "    }\n",
       "\n",
       "    .dataframe tbody tr th {\n",
       "        vertical-align: top;\n",
       "    }\n",
       "\n",
       "    .dataframe thead th {\n",
       "        text-align: right;\n",
       "    }\n",
       "</style>\n",
       "<table border=\"1\" class=\"dataframe\">\n",
       "  <thead>\n",
       "    <tr style=\"text-align: right;\">\n",
       "      <th></th>\n",
       "      <th>분류군</th>\n",
       "      <th>등급</th>\n",
       "      <th>국명</th>\n",
       "      <th>학명</th>\n",
       "      <th>고유종</th>\n",
       "      <th>국가적색목록</th>\n",
       "      <th>세계자연보전연맹</th>\n",
       "    </tr>\n",
       "  </thead>\n",
       "  <tbody>\n",
       "    <tr>\n",
       "      <th>84</th>\n",
       "      <td>양서파충류</td>\n",
       "      <td>I</td>\n",
       "      <td>수원청개구리</td>\n",
       "      <td>Hyla suweonensis</td>\n",
       "      <td>Y</td>\n",
       "      <td>EN</td>\n",
       "      <td>EN</td>\n",
       "    </tr>\n",
       "    <tr>\n",
       "      <th>85</th>\n",
       "      <td>양서파충류</td>\n",
       "      <td>II</td>\n",
       "      <td>고리도룡뇽</td>\n",
       "      <td>Hynobius yangi</td>\n",
       "      <td>Y</td>\n",
       "      <td>EN</td>\n",
       "      <td>EN</td>\n",
       "    </tr>\n",
       "    <tr>\n",
       "      <th>88</th>\n",
       "      <td>양서파충류</td>\n",
       "      <td>II</td>\n",
       "      <td>남생이</td>\n",
       "      <td>Mauremys reevesii</td>\n",
       "      <td>N</td>\n",
       "      <td>VU</td>\n",
       "      <td>EN</td>\n",
       "    </tr>\n",
       "  </tbody>\n",
       "</table>\n",
       "</div>"
      ],
      "text/plain": [
       "      분류군  등급      국명                 학명 고유종 국가적색목록 세계자연보전연맹\n",
       "84  양서파충류   I  수원청개구리   Hyla suweonensis   Y     EN       EN\n",
       "85  양서파충류  II   고리도룡뇽     Hynobius yangi   Y     EN       EN\n",
       "88  양서파충류  II     남생이  Mauremys reevesii   N     VU       EN"
      ]
     },
     "metadata": {},
     "output_type": "display_data"
    },
    {
     "name": "stdout",
     "output_type": "stream",
     "text": [
      "('양서파충류', 'LC')\n"
     ]
    },
    {
     "data": {
      "text/html": [
       "<div>\n",
       "<style scoped>\n",
       "    .dataframe tbody tr th:only-of-type {\n",
       "        vertical-align: middle;\n",
       "    }\n",
       "\n",
       "    .dataframe tbody tr th {\n",
       "        vertical-align: top;\n",
       "    }\n",
       "\n",
       "    .dataframe thead th {\n",
       "        text-align: right;\n",
       "    }\n",
       "</style>\n",
       "<table border=\"1\" class=\"dataframe\">\n",
       "  <thead>\n",
       "    <tr style=\"text-align: right;\">\n",
       "      <th></th>\n",
       "      <th>분류군</th>\n",
       "      <th>등급</th>\n",
       "      <th>국명</th>\n",
       "      <th>학명</th>\n",
       "      <th>고유종</th>\n",
       "      <th>국가적색목록</th>\n",
       "      <th>세계자연보전연맹</th>\n",
       "    </tr>\n",
       "  </thead>\n",
       "  <tbody>\n",
       "    <tr>\n",
       "      <th>83</th>\n",
       "      <td>양서파충류</td>\n",
       "      <td>I</td>\n",
       "      <td>비바리뱀</td>\n",
       "      <td>Sibynophis chinensis</td>\n",
       "      <td>N</td>\n",
       "      <td>EN</td>\n",
       "      <td>LC</td>\n",
       "    </tr>\n",
       "    <tr>\n",
       "      <th>89</th>\n",
       "      <td>양서파충류</td>\n",
       "      <td>II</td>\n",
       "      <td>맹꽁이</td>\n",
       "      <td>Kaloula borealis</td>\n",
       "      <td>N</td>\n",
       "      <td>VU</td>\n",
       "      <td>LC</td>\n",
       "    </tr>\n",
       "  </tbody>\n",
       "</table>\n",
       "</div>"
      ],
      "text/plain": [
       "      분류군  등급    국명                    학명 고유종 국가적색목록 세계자연보전연맹\n",
       "83  양서파충류   I  비바리뱀  Sibynophis chinensis   N     EN       LC\n",
       "89  양서파충류  II   맹꽁이      Kaloula borealis   N     VU       LC"
      ]
     },
     "metadata": {},
     "output_type": "display_data"
    },
    {
     "name": "stdout",
     "output_type": "stream",
     "text": [
      "('양서파충류', 'NE')\n"
     ]
    },
    {
     "data": {
      "text/html": [
       "<div>\n",
       "<style scoped>\n",
       "    .dataframe tbody tr th:only-of-type {\n",
       "        vertical-align: middle;\n",
       "    }\n",
       "\n",
       "    .dataframe tbody tr th {\n",
       "        vertical-align: top;\n",
       "    }\n",
       "\n",
       "    .dataframe thead th {\n",
       "        text-align: right;\n",
       "    }\n",
       "</style>\n",
       "<table border=\"1\" class=\"dataframe\">\n",
       "  <thead>\n",
       "    <tr style=\"text-align: right;\">\n",
       "      <th></th>\n",
       "      <th>분류군</th>\n",
       "      <th>등급</th>\n",
       "      <th>국명</th>\n",
       "      <th>학명</th>\n",
       "      <th>고유종</th>\n",
       "      <th>국가적색목록</th>\n",
       "      <th>세계자연보전연맹</th>\n",
       "    </tr>\n",
       "  </thead>\n",
       "  <tbody>\n",
       "    <tr>\n",
       "      <th>86</th>\n",
       "      <td>양서파충류</td>\n",
       "      <td>II</td>\n",
       "      <td>구렁이</td>\n",
       "      <td>Elaphe schrenckii</td>\n",
       "      <td>N</td>\n",
       "      <td>EN</td>\n",
       "      <td>NE</td>\n",
       "    </tr>\n",
       "    <tr>\n",
       "      <th>90</th>\n",
       "      <td>양서파충류</td>\n",
       "      <td>II</td>\n",
       "      <td>표범장지뱀</td>\n",
       "      <td>Eremias argus</td>\n",
       "      <td>N</td>\n",
       "      <td>EN</td>\n",
       "      <td>NE</td>\n",
       "    </tr>\n",
       "  </tbody>\n",
       "</table>\n",
       "</div>"
      ],
      "text/plain": [
       "      분류군  등급     국명                 학명 고유종 국가적색목록 세계자연보전연맹\n",
       "86  양서파충류  II    구렁이  Elaphe schrenckii   N     EN       NE\n",
       "90  양서파충류  II  표범장지뱀      Eremias argus   N     EN       NE"
      ]
     },
     "metadata": {},
     "output_type": "display_data"
    },
    {
     "name": "stdout",
     "output_type": "stream",
     "text": [
      "('양서파충류', 'VU')\n"
     ]
    },
    {
     "data": {
      "text/html": [
       "<div>\n",
       "<style scoped>\n",
       "    .dataframe tbody tr th:only-of-type {\n",
       "        vertical-align: middle;\n",
       "    }\n",
       "\n",
       "    .dataframe tbody tr th {\n",
       "        vertical-align: top;\n",
       "    }\n",
       "\n",
       "    .dataframe thead th {\n",
       "        text-align: right;\n",
       "    }\n",
       "</style>\n",
       "<table border=\"1\" class=\"dataframe\">\n",
       "  <thead>\n",
       "    <tr style=\"text-align: right;\">\n",
       "      <th></th>\n",
       "      <th>분류군</th>\n",
       "      <th>등급</th>\n",
       "      <th>국명</th>\n",
       "      <th>학명</th>\n",
       "      <th>고유종</th>\n",
       "      <th>국가적색목록</th>\n",
       "      <th>세계자연보전연맹</th>\n",
       "    </tr>\n",
       "  </thead>\n",
       "  <tbody>\n",
       "    <tr>\n",
       "      <th>87</th>\n",
       "      <td>양서파충류</td>\n",
       "      <td>II</td>\n",
       "      <td>금개구리</td>\n",
       "      <td>Pelophylax chosenicus</td>\n",
       "      <td>Y</td>\n",
       "      <td>VU</td>\n",
       "      <td>VU</td>\n",
       "    </tr>\n",
       "  </tbody>\n",
       "</table>\n",
       "</div>"
      ],
      "text/plain": [
       "      분류군  등급    국명                     학명 고유종 국가적색목록 세계자연보전연맹\n",
       "87  양서파충류  II  금개구리  Pelophylax chosenicus   Y     VU       VU"
      ]
     },
     "metadata": {},
     "output_type": "display_data"
    },
    {
     "name": "stdout",
     "output_type": "stream",
     "text": [
      "('어류', 'LC')\n"
     ]
    },
    {
     "data": {
      "text/html": [
       "<div>\n",
       "<style scoped>\n",
       "    .dataframe tbody tr th:only-of-type {\n",
       "        vertical-align: middle;\n",
       "    }\n",
       "\n",
       "    .dataframe tbody tr th {\n",
       "        vertical-align: top;\n",
       "    }\n",
       "\n",
       "    .dataframe thead th {\n",
       "        text-align: right;\n",
       "    }\n",
       "</style>\n",
       "<table border=\"1\" class=\"dataframe\">\n",
       "  <thead>\n",
       "    <tr style=\"text-align: right;\">\n",
       "      <th></th>\n",
       "      <th>분류군</th>\n",
       "      <th>등급</th>\n",
       "      <th>국명</th>\n",
       "      <th>학명</th>\n",
       "      <th>고유종</th>\n",
       "      <th>국가적색목록</th>\n",
       "      <th>세계자연보전연맹</th>\n",
       "    </tr>\n",
       "  </thead>\n",
       "  <tbody>\n",
       "    <tr>\n",
       "      <th>106</th>\n",
       "      <td>어류</td>\n",
       "      <td>II</td>\n",
       "      <td>다묵장어</td>\n",
       "      <td>Lethenteron reissneri</td>\n",
       "      <td>N</td>\n",
       "      <td>VU</td>\n",
       "      <td>LC</td>\n",
       "    </tr>\n",
       "    <tr>\n",
       "      <th>112</th>\n",
       "      <td>어류</td>\n",
       "      <td>II</td>\n",
       "      <td>연준모치</td>\n",
       "      <td>Phoxinus phoxinus</td>\n",
       "      <td>N</td>\n",
       "      <td>EN</td>\n",
       "      <td>LC</td>\n",
       "    </tr>\n",
       "  </tbody>\n",
       "</table>\n",
       "</div>"
      ],
      "text/plain": [
       "    분류군  등급    국명                     학명 고유종 국가적색목록 세계자연보전연맹\n",
       "106  어류  II  다묵장어  Lethenteron reissneri   N     VU       LC\n",
       "112  어류  II  연준모치      Phoxinus phoxinus   N     EN       LC"
      ]
     },
     "metadata": {},
     "output_type": "display_data"
    },
    {
     "name": "stdout",
     "output_type": "stream",
     "text": [
      "('어류', 'NE')\n"
     ]
    },
    {
     "data": {
      "text/html": [
       "<div>\n",
       "<style scoped>\n",
       "    .dataframe tbody tr th:only-of-type {\n",
       "        vertical-align: middle;\n",
       "    }\n",
       "\n",
       "    .dataframe tbody tr th {\n",
       "        vertical-align: top;\n",
       "    }\n",
       "\n",
       "    .dataframe thead th {\n",
       "        text-align: right;\n",
       "    }\n",
       "</style>\n",
       "<table border=\"1\" class=\"dataframe\">\n",
       "  <thead>\n",
       "    <tr style=\"text-align: right;\">\n",
       "      <th></th>\n",
       "      <th>분류군</th>\n",
       "      <th>등급</th>\n",
       "      <th>국명</th>\n",
       "      <th>학명</th>\n",
       "      <th>고유종</th>\n",
       "      <th>국가적색목록</th>\n",
       "      <th>세계자연보전연맹</th>\n",
       "    </tr>\n",
       "  </thead>\n",
       "  <tbody>\n",
       "    <tr>\n",
       "      <th>91</th>\n",
       "      <td>어류</td>\n",
       "      <td>I</td>\n",
       "      <td>감돌고기</td>\n",
       "      <td>Pseudopungtungia nigra</td>\n",
       "      <td>Y</td>\n",
       "      <td>EN</td>\n",
       "      <td>NE</td>\n",
       "    </tr>\n",
       "    <tr>\n",
       "      <th>92</th>\n",
       "      <td>어류</td>\n",
       "      <td>I</td>\n",
       "      <td>꼬치동자개</td>\n",
       "      <td>Pseudobagrus brevicorpus</td>\n",
       "      <td>Y</td>\n",
       "      <td>EN</td>\n",
       "      <td>NE</td>\n",
       "    </tr>\n",
       "    <tr>\n",
       "      <th>93</th>\n",
       "      <td>어류</td>\n",
       "      <td>I</td>\n",
       "      <td>남방동사리</td>\n",
       "      <td>Odontobutis obscura</td>\n",
       "      <td>N</td>\n",
       "      <td>CR</td>\n",
       "      <td>NE</td>\n",
       "    </tr>\n",
       "  </tbody>\n",
       "</table>\n",
       "</div>"
      ],
      "text/plain": [
       "   분류군 등급     국명                        학명 고유종 국가적색목록 세계자연보전연맹\n",
       "91  어류  I   감돌고기    Pseudopungtungia nigra   Y     EN       NE\n",
       "92  어류  I  꼬치동자개  Pseudobagrus brevicorpus   Y     EN       NE\n",
       "93  어류  I  남방동사리       Odontobutis obscura   N     CR       NE"
      ]
     },
     "metadata": {},
     "output_type": "display_data"
    },
    {
     "name": "stdout",
     "output_type": "stream",
     "text": [
      "('어류', 'VU')\n"
     ]
    },
    {
     "data": {
      "text/html": [
       "<div>\n",
       "<style scoped>\n",
       "    .dataframe tbody tr th:only-of-type {\n",
       "        vertical-align: middle;\n",
       "    }\n",
       "\n",
       "    .dataframe tbody tr th {\n",
       "        vertical-align: top;\n",
       "    }\n",
       "\n",
       "    .dataframe thead th {\n",
       "        text-align: right;\n",
       "    }\n",
       "</style>\n",
       "<table border=\"1\" class=\"dataframe\">\n",
       "  <thead>\n",
       "    <tr style=\"text-align: right;\">\n",
       "      <th></th>\n",
       "      <th>분류군</th>\n",
       "      <th>등급</th>\n",
       "      <th>국명</th>\n",
       "      <th>학명</th>\n",
       "      <th>고유종</th>\n",
       "      <th>국가적색목록</th>\n",
       "      <th>세계자연보전연맹</th>\n",
       "    </tr>\n",
       "  </thead>\n",
       "  <tbody>\n",
       "    <tr>\n",
       "      <th>103</th>\n",
       "      <td>어류</td>\n",
       "      <td>II</td>\n",
       "      <td>가시고기</td>\n",
       "      <td>Pungitius sinensis</td>\n",
       "      <td>N</td>\n",
       "      <td>VU</td>\n",
       "      <td>VU</td>\n",
       "    </tr>\n",
       "  </tbody>\n",
       "</table>\n",
       "</div>"
      ],
      "text/plain": [
       "    분류군  등급    국명                  학명 고유종 국가적색목록 세계자연보전연맹\n",
       "103  어류  II  가시고기  Pungitius sinensis   N     VU       VU"
      ]
     },
     "metadata": {},
     "output_type": "display_data"
    },
    {
     "name": "stdout",
     "output_type": "stream",
     "text": [
      "('조류', 'CR')\n"
     ]
    },
    {
     "data": {
      "text/html": [
       "<div>\n",
       "<style scoped>\n",
       "    .dataframe tbody tr th:only-of-type {\n",
       "        vertical-align: middle;\n",
       "    }\n",
       "\n",
       "    .dataframe tbody tr th {\n",
       "        vertical-align: top;\n",
       "    }\n",
       "\n",
       "    .dataframe thead th {\n",
       "        text-align: right;\n",
       "    }\n",
       "</style>\n",
       "<table border=\"1\" class=\"dataframe\">\n",
       "  <thead>\n",
       "    <tr style=\"text-align: right;\">\n",
       "      <th></th>\n",
       "      <th>분류군</th>\n",
       "      <th>등급</th>\n",
       "      <th>국명</th>\n",
       "      <th>학명</th>\n",
       "      <th>고유종</th>\n",
       "      <th>국가적색목록</th>\n",
       "      <th>세계자연보전연맹</th>\n",
       "    </tr>\n",
       "  </thead>\n",
       "  <tbody>\n",
       "    <tr>\n",
       "      <th>21</th>\n",
       "      <td>조류</td>\n",
       "      <td>I</td>\n",
       "      <td>넓적부리도요</td>\n",
       "      <td>Eurynorhynchus pygmeus</td>\n",
       "      <td>N</td>\n",
       "      <td>CR</td>\n",
       "      <td>CR</td>\n",
       "    </tr>\n",
       "  </tbody>\n",
       "</table>\n",
       "</div>"
      ],
      "text/plain": [
       "   분류군 등급      국명                       학명 고유종 국가적색목록 세계자연보전연맹\n",
       "21  조류  I  넓적부리도요  Eurynorhynchus pygmeus    N     CR       CR"
      ]
     },
     "metadata": {},
     "output_type": "display_data"
    },
    {
     "name": "stdout",
     "output_type": "stream",
     "text": [
      "('조류', 'EN')\n"
     ]
    },
    {
     "data": {
      "text/html": [
       "<div>\n",
       "<style scoped>\n",
       "    .dataframe tbody tr th:only-of-type {\n",
       "        vertical-align: middle;\n",
       "    }\n",
       "\n",
       "    .dataframe tbody tr th {\n",
       "        vertical-align: top;\n",
       "    }\n",
       "\n",
       "    .dataframe thead th {\n",
       "        text-align: right;\n",
       "    }\n",
       "</style>\n",
       "<table border=\"1\" class=\"dataframe\">\n",
       "  <thead>\n",
       "    <tr style=\"text-align: right;\">\n",
       "      <th></th>\n",
       "      <th>분류군</th>\n",
       "      <th>등급</th>\n",
       "      <th>국명</th>\n",
       "      <th>학명</th>\n",
       "      <th>고유종</th>\n",
       "      <th>국가적색목록</th>\n",
       "      <th>세계자연보전연맹</th>\n",
       "    </tr>\n",
       "  </thead>\n",
       "  <tbody>\n",
       "    <tr>\n",
       "      <th>23</th>\n",
       "      <td>조류</td>\n",
       "      <td>I</td>\n",
       "      <td>두루미</td>\n",
       "      <td>Grus japonensis</td>\n",
       "      <td>N</td>\n",
       "      <td>EN</td>\n",
       "      <td>EN</td>\n",
       "    </tr>\n",
       "    <tr>\n",
       "      <th>26</th>\n",
       "      <td>조류</td>\n",
       "      <td>I</td>\n",
       "      <td>저어새</td>\n",
       "      <td>Platalea minor</td>\n",
       "      <td>N</td>\n",
       "      <td>VU</td>\n",
       "      <td>EN</td>\n",
       "    </tr>\n",
       "    <tr>\n",
       "      <th>28</th>\n",
       "      <td>조류</td>\n",
       "      <td>I</td>\n",
       "      <td>청다리도요사촌</td>\n",
       "      <td>Tringa guttifer</td>\n",
       "      <td>N</td>\n",
       "      <td>EN</td>\n",
       "      <td>EN</td>\n",
       "    </tr>\n",
       "  </tbody>\n",
       "</table>\n",
       "</div>"
      ],
      "text/plain": [
       "   분류군 등급       국명                학명 고유종 국가적색목록 세계자연보전연맹\n",
       "23  조류  I      두루미  Grus japonensis    N     EN       EN\n",
       "26  조류  I      저어새   Platalea minor    N     VU       EN\n",
       "28  조류  I  청다리도요사촌  Tringa guttifer    N     EN       EN"
      ]
     },
     "metadata": {},
     "output_type": "display_data"
    },
    {
     "name": "stdout",
     "output_type": "stream",
     "text": [
      "('조류', 'LC')\n"
     ]
    },
    {
     "data": {
      "text/html": [
       "<div>\n",
       "<style scoped>\n",
       "    .dataframe tbody tr th:only-of-type {\n",
       "        vertical-align: middle;\n",
       "    }\n",
       "\n",
       "    .dataframe tbody tr th {\n",
       "        vertical-align: top;\n",
       "    }\n",
       "\n",
       "    .dataframe thead th {\n",
       "        text-align: right;\n",
       "    }\n",
       "</style>\n",
       "<table border=\"1\" class=\"dataframe\">\n",
       "  <thead>\n",
       "    <tr style=\"text-align: right;\">\n",
       "      <th></th>\n",
       "      <th>분류군</th>\n",
       "      <th>등급</th>\n",
       "      <th>국명</th>\n",
       "      <th>학명</th>\n",
       "      <th>고유종</th>\n",
       "      <th>국가적색목록</th>\n",
       "      <th>세계자연보전연맹</th>\n",
       "    </tr>\n",
       "  </thead>\n",
       "  <tbody>\n",
       "    <tr>\n",
       "      <th>20</th>\n",
       "      <td>조류</td>\n",
       "      <td>I</td>\n",
       "      <td>검독수리</td>\n",
       "      <td>Aquila chrysaetos</td>\n",
       "      <td>N</td>\n",
       "      <td>EN</td>\n",
       "      <td>LC</td>\n",
       "    </tr>\n",
       "    <tr>\n",
       "      <th>24</th>\n",
       "      <td>조류</td>\n",
       "      <td>I</td>\n",
       "      <td>매</td>\n",
       "      <td>Falco peregrinus</td>\n",
       "      <td>N</td>\n",
       "      <td>VU</td>\n",
       "      <td>LC</td>\n",
       "    </tr>\n",
       "    <tr>\n",
       "      <th>25</th>\n",
       "      <td>조류</td>\n",
       "      <td>I</td>\n",
       "      <td>먹황새</td>\n",
       "      <td>Ciconia nigra</td>\n",
       "      <td>N</td>\n",
       "      <td>EN</td>\n",
       "      <td>LC</td>\n",
       "    </tr>\n",
       "  </tbody>\n",
       "</table>\n",
       "</div>"
      ],
      "text/plain": [
       "   분류군 등급    국명                  학명 고유종 국가적색목록 세계자연보전연맹\n",
       "20  조류  I  검독수리  Aquila chrysaetos    N     EN       LC\n",
       "24  조류  I     매   Falco peregrinus    N     VU       LC\n",
       "25  조류  I   먹황새      Ciconia nigra    N     EN       LC"
      ]
     },
     "metadata": {},
     "output_type": "display_data"
    },
    {
     "name": "stdout",
     "output_type": "stream",
     "text": [
      "('조류', 'NT')\n"
     ]
    },
    {
     "data": {
      "text/html": [
       "<div>\n",
       "<style scoped>\n",
       "    .dataframe tbody tr th:only-of-type {\n",
       "        vertical-align: middle;\n",
       "    }\n",
       "\n",
       "    .dataframe tbody tr th {\n",
       "        vertical-align: top;\n",
       "    }\n",
       "\n",
       "    .dataframe thead th {\n",
       "        text-align: right;\n",
       "    }\n",
       "</style>\n",
       "<table border=\"1\" class=\"dataframe\">\n",
       "  <thead>\n",
       "    <tr style=\"text-align: right;\">\n",
       "      <th></th>\n",
       "      <th>분류군</th>\n",
       "      <th>등급</th>\n",
       "      <th>국명</th>\n",
       "      <th>학명</th>\n",
       "      <th>고유종</th>\n",
       "      <th>국가적색목록</th>\n",
       "      <th>세계자연보전연맹</th>\n",
       "    </tr>\n",
       "  </thead>\n",
       "  <tbody>\n",
       "    <tr>\n",
       "      <th>41</th>\n",
       "      <td>조류</td>\n",
       "      <td>II</td>\n",
       "      <td>긴꼬리딱새</td>\n",
       "      <td>Terpsiphone atrocaudata</td>\n",
       "      <td>N</td>\n",
       "      <td>VU</td>\n",
       "      <td>NT</td>\n",
       "    </tr>\n",
       "    <tr>\n",
       "      <th>46</th>\n",
       "      <td>조류</td>\n",
       "      <td>II</td>\n",
       "      <td>독수리</td>\n",
       "      <td>Aegypius monachus</td>\n",
       "      <td>N</td>\n",
       "      <td>VU</td>\n",
       "      <td>NT</td>\n",
       "    </tr>\n",
       "    <tr>\n",
       "      <th>61</th>\n",
       "      <td>조류</td>\n",
       "      <td>II</td>\n",
       "      <td>쇠검은머리쑥새</td>\n",
       "      <td>Emberiza yessoensis</td>\n",
       "      <td>N</td>\n",
       "      <td>VU</td>\n",
       "      <td>NT</td>\n",
       "    </tr>\n",
       "  </tbody>\n",
       "</table>\n",
       "</div>"
      ],
      "text/plain": [
       "   분류군  등급       국명                        학명 고유종 국가적색목록 세계자연보전연맹\n",
       "41  조류  II    긴꼬리딱새  Terpsiphone atrocaudata    N     VU       NT\n",
       "46  조류  II      독수리        Aegypius monachus    N     VU       NT\n",
       "61  조류  II  쇠검은머리쑥새      Emberiza yessoensis    N     VU       NT"
      ]
     },
     "metadata": {},
     "output_type": "display_data"
    },
    {
     "name": "stdout",
     "output_type": "stream",
     "text": [
      "('조류', 'VU')\n"
     ]
    },
    {
     "data": {
      "text/html": [
       "<div>\n",
       "<style scoped>\n",
       "    .dataframe tbody tr th:only-of-type {\n",
       "        vertical-align: middle;\n",
       "    }\n",
       "\n",
       "    .dataframe tbody tr th {\n",
       "        vertical-align: top;\n",
       "    }\n",
       "\n",
       "    .dataframe thead th {\n",
       "        text-align: right;\n",
       "    }\n",
       "</style>\n",
       "<table border=\"1\" class=\"dataframe\">\n",
       "  <thead>\n",
       "    <tr style=\"text-align: right;\">\n",
       "      <th></th>\n",
       "      <th>분류군</th>\n",
       "      <th>등급</th>\n",
       "      <th>국명</th>\n",
       "      <th>학명</th>\n",
       "      <th>고유종</th>\n",
       "      <th>국가적색목록</th>\n",
       "      <th>세계자연보전연맹</th>\n",
       "    </tr>\n",
       "  </thead>\n",
       "  <tbody>\n",
       "    <tr>\n",
       "      <th>22</th>\n",
       "      <td>조류</td>\n",
       "      <td>I</td>\n",
       "      <td>노랑부리백로</td>\n",
       "      <td>Egretta eulophotes</td>\n",
       "      <td>N</td>\n",
       "      <td>EN</td>\n",
       "      <td>VU</td>\n",
       "    </tr>\n",
       "    <tr>\n",
       "      <th>27</th>\n",
       "      <td>조류</td>\n",
       "      <td>I</td>\n",
       "      <td>참수리</td>\n",
       "      <td>Haliaeetus pelagicus</td>\n",
       "      <td>N</td>\n",
       "      <td>EN</td>\n",
       "      <td>VU</td>\n",
       "    </tr>\n",
       "    <tr>\n",
       "      <th>34</th>\n",
       "      <td>조류</td>\n",
       "      <td>II</td>\n",
       "      <td>개리</td>\n",
       "      <td>Anser cygnoides</td>\n",
       "      <td>N</td>\n",
       "      <td>EN</td>\n",
       "      <td>VU</td>\n",
       "    </tr>\n",
       "  </tbody>\n",
       "</table>\n",
       "</div>"
      ],
      "text/plain": [
       "   분류군  등급      국명                     학명 고유종 국가적색목록 세계자연보전연맹\n",
       "22  조류   I  노랑부리백로    Egretta eulophotes    N     EN       VU\n",
       "27  조류   I     참수리  Haliaeetus pelagicus    N     EN       VU\n",
       "34  조류  II      개리       Anser cygnoides    N     EN       VU"
      ]
     },
     "metadata": {},
     "output_type": "display_data"
    },
    {
     "name": "stdout",
     "output_type": "stream",
     "text": [
      "('포유류', 'EN')\n"
     ]
    },
    {
     "data": {
      "text/html": [
       "<div>\n",
       "<style scoped>\n",
       "    .dataframe tbody tr th:only-of-type {\n",
       "        vertical-align: middle;\n",
       "    }\n",
       "\n",
       "    .dataframe tbody tr th {\n",
       "        vertical-align: top;\n",
       "    }\n",
       "\n",
       "    .dataframe thead th {\n",
       "        text-align: right;\n",
       "    }\n",
       "</style>\n",
       "<table border=\"1\" class=\"dataframe\">\n",
       "  <thead>\n",
       "    <tr style=\"text-align: right;\">\n",
       "      <th></th>\n",
       "      <th>분류군</th>\n",
       "      <th>등급</th>\n",
       "      <th>국명</th>\n",
       "      <th>학명</th>\n",
       "      <th>고유종</th>\n",
       "      <th>국가적색목록</th>\n",
       "      <th>세계자연보전연맹</th>\n",
       "    </tr>\n",
       "  </thead>\n",
       "  <tbody>\n",
       "    <tr>\n",
       "      <th>11</th>\n",
       "      <td>포유류</td>\n",
       "      <td>I</td>\n",
       "      <td>호랑이</td>\n",
       "      <td>Panthera tigris altaica</td>\n",
       "      <td>N</td>\n",
       "      <td>RE</td>\n",
       "      <td>EN</td>\n",
       "    </tr>\n",
       "  </tbody>\n",
       "</table>\n",
       "</div>"
      ],
      "text/plain": [
       "    분류군 등급   국명                       학명 고유종 국가적색목록 세계자연보전연맹\n",
       "11  포유류  I  호랑이  Panthera tigris altaica   N     RE       EN"
      ]
     },
     "metadata": {},
     "output_type": "display_data"
    },
    {
     "name": "stdout",
     "output_type": "stream",
     "text": [
      "('포유류', 'LC')\n"
     ]
    },
    {
     "data": {
      "text/html": [
       "<div>\n",
       "<style scoped>\n",
       "    .dataframe tbody tr th:only-of-type {\n",
       "        vertical-align: middle;\n",
       "    }\n",
       "\n",
       "    .dataframe tbody tr th {\n",
       "        vertical-align: top;\n",
       "    }\n",
       "\n",
       "    .dataframe thead th {\n",
       "        text-align: right;\n",
       "    }\n",
       "</style>\n",
       "<table border=\"1\" class=\"dataframe\">\n",
       "  <thead>\n",
       "    <tr style=\"text-align: right;\">\n",
       "      <th></th>\n",
       "      <th>분류군</th>\n",
       "      <th>등급</th>\n",
       "      <th>국명</th>\n",
       "      <th>학명</th>\n",
       "      <th>고유종</th>\n",
       "      <th>국가적색목록</th>\n",
       "      <th>세계자연보전연맹</th>\n",
       "    </tr>\n",
       "  </thead>\n",
       "  <tbody>\n",
       "    <tr>\n",
       "      <th>0</th>\n",
       "      <td>포유류</td>\n",
       "      <td>I</td>\n",
       "      <td>늑대</td>\n",
       "      <td>Canis lupus coreanus</td>\n",
       "      <td>N</td>\n",
       "      <td>RE</td>\n",
       "      <td>LC</td>\n",
       "    </tr>\n",
       "    <tr>\n",
       "      <th>1</th>\n",
       "      <td>포유류</td>\n",
       "      <td>I</td>\n",
       "      <td>대륙사슴</td>\n",
       "      <td>Cervus nippon hortulorum</td>\n",
       "      <td>N</td>\n",
       "      <td>RE</td>\n",
       "      <td>LC</td>\n",
       "    </tr>\n",
       "    <tr>\n",
       "      <th>3</th>\n",
       "      <td>포유류</td>\n",
       "      <td>I</td>\n",
       "      <td>붉은박쥐</td>\n",
       "      <td>Myotis rufoniger</td>\n",
       "      <td>N</td>\n",
       "      <td>VU</td>\n",
       "      <td>LC</td>\n",
       "    </tr>\n",
       "  </tbody>\n",
       "</table>\n",
       "</div>"
      ],
      "text/plain": [
       "   분류군 등급    국명                        학명 고유종 국가적색목록 세계자연보전연맹\n",
       "0  포유류  I    늑대      Canis lupus coreanus   N     RE       LC\n",
       "1  포유류  I  대륙사슴  Cervus nippon hortulorum   N     RE       LC\n",
       "3  포유류  I  붉은박쥐         Myotis rufoniger    N     VU       LC"
      ]
     },
     "metadata": {},
     "output_type": "display_data"
    },
    {
     "name": "stdout",
     "output_type": "stream",
     "text": [
      "('포유류', 'NT')\n"
     ]
    },
    {
     "data": {
      "text/html": [
       "<div>\n",
       "<style scoped>\n",
       "    .dataframe tbody tr th:only-of-type {\n",
       "        vertical-align: middle;\n",
       "    }\n",
       "\n",
       "    .dataframe tbody tr th {\n",
       "        vertical-align: top;\n",
       "    }\n",
       "\n",
       "    .dataframe thead th {\n",
       "        text-align: right;\n",
       "    }\n",
       "</style>\n",
       "<table border=\"1\" class=\"dataframe\">\n",
       "  <thead>\n",
       "    <tr style=\"text-align: right;\">\n",
       "      <th></th>\n",
       "      <th>분류군</th>\n",
       "      <th>등급</th>\n",
       "      <th>국명</th>\n",
       "      <th>학명</th>\n",
       "      <th>고유종</th>\n",
       "      <th>국가적색목록</th>\n",
       "      <th>세계자연보전연맹</th>\n",
       "    </tr>\n",
       "  </thead>\n",
       "  <tbody>\n",
       "    <tr>\n",
       "      <th>6</th>\n",
       "      <td>포유류</td>\n",
       "      <td>I</td>\n",
       "      <td>수달</td>\n",
       "      <td>Lutra lutra</td>\n",
       "      <td>N</td>\n",
       "      <td>VU</td>\n",
       "      <td>NT</td>\n",
       "    </tr>\n",
       "    <tr>\n",
       "      <th>17</th>\n",
       "      <td>포유류</td>\n",
       "      <td>II</td>\n",
       "      <td>큰바다사자</td>\n",
       "      <td>Eumetopias jubatus</td>\n",
       "      <td>N</td>\n",
       "      <td>NE</td>\n",
       "      <td>NT</td>\n",
       "    </tr>\n",
       "  </tbody>\n",
       "</table>\n",
       "</div>"
      ],
      "text/plain": [
       "    분류군  등급     국명                   학명 고유종 국가적색목록 세계자연보전연맹\n",
       "6   포유류   I     수달         Lutra lutra    N     VU       NT\n",
       "17  포유류  II  큰바다사자  Eumetopias jubatus    N     NE       NT"
      ]
     },
     "metadata": {},
     "output_type": "display_data"
    },
    {
     "name": "stdout",
     "output_type": "stream",
     "text": [
      "('포유류', 'VU')\n"
     ]
    },
    {
     "data": {
      "text/html": [
       "<div>\n",
       "<style scoped>\n",
       "    .dataframe tbody tr th:only-of-type {\n",
       "        vertical-align: middle;\n",
       "    }\n",
       "\n",
       "    .dataframe tbody tr th {\n",
       "        vertical-align: top;\n",
       "    }\n",
       "\n",
       "    .dataframe thead th {\n",
       "        text-align: right;\n",
       "    }\n",
       "</style>\n",
       "<table border=\"1\" class=\"dataframe\">\n",
       "  <thead>\n",
       "    <tr style=\"text-align: right;\">\n",
       "      <th></th>\n",
       "      <th>분류군</th>\n",
       "      <th>등급</th>\n",
       "      <th>국명</th>\n",
       "      <th>학명</th>\n",
       "      <th>고유종</th>\n",
       "      <th>국가적색목록</th>\n",
       "      <th>세계자연보전연맹</th>\n",
       "    </tr>\n",
       "  </thead>\n",
       "  <tbody>\n",
       "    <tr>\n",
       "      <th>2</th>\n",
       "      <td>포유류</td>\n",
       "      <td>I</td>\n",
       "      <td>반달가슴곰</td>\n",
       "      <td>Ursus thibetanus ussuricus</td>\n",
       "      <td>N</td>\n",
       "      <td>EN</td>\n",
       "      <td>VU</td>\n",
       "    </tr>\n",
       "    <tr>\n",
       "      <th>4</th>\n",
       "      <td>포유류</td>\n",
       "      <td>I</td>\n",
       "      <td>사향노루</td>\n",
       "      <td>Moschus moschiferus</td>\n",
       "      <td>N</td>\n",
       "      <td>CR</td>\n",
       "      <td>VU</td>\n",
       "    </tr>\n",
       "    <tr>\n",
       "      <th>5</th>\n",
       "      <td>포유류</td>\n",
       "      <td>I</td>\n",
       "      <td>산양</td>\n",
       "      <td>Naemorhedus caudatus</td>\n",
       "      <td>N</td>\n",
       "      <td>VU</td>\n",
       "      <td>VU</td>\n",
       "    </tr>\n",
       "  </tbody>\n",
       "</table>\n",
       "</div>"
      ],
      "text/plain": [
       "   분류군 등급     국명                          학명 고유종 국가적색목록 세계자연보전연맹\n",
       "2  포유류  I  반달가슴곰  Ursus thibetanus ussuricus   N     EN       VU\n",
       "4  포유류  I   사향노루        Moschus moschiferus    N     CR       VU\n",
       "5  포유류  I     산양       Naemorhedus caudatus    N     VU       VU"
      ]
     },
     "metadata": {},
     "output_type": "display_data"
    },
    {
     "name": "stdout",
     "output_type": "stream",
     "text": [
      "('해조류', 'NE')\n"
     ]
    },
    {
     "data": {
      "text/html": [
       "<div>\n",
       "<style scoped>\n",
       "    .dataframe tbody tr th:only-of-type {\n",
       "        vertical-align: middle;\n",
       "    }\n",
       "\n",
       "    .dataframe tbody tr th {\n",
       "        vertical-align: top;\n",
       "    }\n",
       "\n",
       "    .dataframe thead th {\n",
       "        text-align: right;\n",
       "    }\n",
       "</style>\n",
       "<table border=\"1\" class=\"dataframe\">\n",
       "  <thead>\n",
       "    <tr style=\"text-align: right;\">\n",
       "      <th></th>\n",
       "      <th>분류군</th>\n",
       "      <th>등급</th>\n",
       "      <th>국명</th>\n",
       "      <th>학명</th>\n",
       "      <th>고유종</th>\n",
       "      <th>국가적색목록</th>\n",
       "      <th>세계자연보전연맹</th>\n",
       "    </tr>\n",
       "  </thead>\n",
       "  <tbody>\n",
       "    <tr>\n",
       "      <th>264</th>\n",
       "      <td>해조류</td>\n",
       "      <td>II</td>\n",
       "      <td>그물공말</td>\n",
       "      <td>Dictyosphaeria cavernosa</td>\n",
       "      <td>N</td>\n",
       "      <td>NE</td>\n",
       "      <td>NE</td>\n",
       "    </tr>\n",
       "    <tr>\n",
       "      <th>265</th>\n",
       "      <td>해조류</td>\n",
       "      <td>II</td>\n",
       "      <td>삼나무말</td>\n",
       "      <td>Coccophora langsdorfii</td>\n",
       "      <td>N</td>\n",
       "      <td>NE</td>\n",
       "      <td>NE</td>\n",
       "    </tr>\n",
       "  </tbody>\n",
       "</table>\n",
       "</div>"
      ],
      "text/plain": [
       "     분류군  등급    국명                        학명 고유종 국가적색목록 세계자연보전연맹\n",
       "264  해조류  II  그물공말  Dictyosphaeria cavernosa   N     NE       NE\n",
       "265  해조류  II  삼나무말    Coccophora langsdorfii   N     NE       NE"
      ]
     },
     "metadata": {},
     "output_type": "display_data"
    }
   ],
   "source": [
    "a = species.groupby(['분류군', '세계자연보전연맹'])\n",
    "a.ngroups\n",
    "for n, g in a:\n",
    "    print(n)\n",
    "    display(g.head(3))"
   ]
  },
  {
   "cell_type": "markdown",
   "metadata": {},
   "source": [
    "### 4. 의미 해석 및 가치 도출"
   ]
  },
  {
   "cell_type": "code",
   "execution_count": null,
   "metadata": {},
   "outputs": [],
   "source": []
  }
 ],
 "metadata": {
  "kernelspec": {
   "display_name": "Python 3",
   "language": "python",
   "name": "python3"
  },
  "language_info": {
   "codemirror_mode": {
    "name": "ipython",
    "version": 3
   },
   "file_extension": ".py",
   "mimetype": "text/x-python",
   "name": "python",
   "nbconvert_exporter": "python",
   "pygments_lexer": "ipython3",
   "version": "3.8.5"
  }
 },
 "nbformat": 4,
 "nbformat_minor": 4
}
