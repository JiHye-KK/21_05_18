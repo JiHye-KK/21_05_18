{
 "cells": [
  {
   "cell_type": "markdown",
   "metadata": {},
   "source": [
    "# 프로그래밍3 프로젝트\n",
    "산업데이터사이언스학부 201904200 김지혜"
   ]
  },
  {
   "cell_type": "markdown",
   "metadata": {},
   "source": [
    "### 1. 데이터에 대한 설명"
   ]
  },
  {
   "cell_type": "code",
   "execution_count": 1,
   "metadata": {},
   "outputs": [],
   "source": [
    "import pandas as pd\n",
    "import numpy as np\n",
    "import matplotlib.pyplot as plt\n",
    "import seaborn as sns"
   ]
  },
  {
   "cell_type": "code",
   "execution_count": 2,
   "metadata": {},
   "outputs": [
    {
     "data": {
      "text/html": [
       "<div>\n",
       "<style scoped>\n",
       "    .dataframe tbody tr th:only-of-type {\n",
       "        vertical-align: middle;\n",
       "    }\n",
       "\n",
       "    .dataframe tbody tr th {\n",
       "        vertical-align: top;\n",
       "    }\n",
       "\n",
       "    .dataframe thead th {\n",
       "        text-align: right;\n",
       "    }\n",
       "</style>\n",
       "<table border=\"1\" class=\"dataframe\">\n",
       "  <thead>\n",
       "    <tr style=\"text-align: right;\">\n",
       "      <th></th>\n",
       "      <th>분류군</th>\n",
       "      <th>등급</th>\n",
       "      <th>국명</th>\n",
       "      <th>학명</th>\n",
       "      <th>고유종</th>\n",
       "      <th>국가적색목록</th>\n",
       "      <th>세계자연보전연맹</th>\n",
       "    </tr>\n",
       "  </thead>\n",
       "  <tbody>\n",
       "    <tr>\n",
       "      <th>0</th>\n",
       "      <td>포유류</td>\n",
       "      <td>I</td>\n",
       "      <td>늑대</td>\n",
       "      <td>Canis lupus coreanus</td>\n",
       "      <td>NaN</td>\n",
       "      <td>RE</td>\n",
       "      <td>LC</td>\n",
       "    </tr>\n",
       "    <tr>\n",
       "      <th>1</th>\n",
       "      <td>포유류</td>\n",
       "      <td>I</td>\n",
       "      <td>대륙사슴</td>\n",
       "      <td>Cervus nippon hortulorum</td>\n",
       "      <td>NaN</td>\n",
       "      <td>RE</td>\n",
       "      <td>LC</td>\n",
       "    </tr>\n",
       "    <tr>\n",
       "      <th>2</th>\n",
       "      <td>포유류</td>\n",
       "      <td>I</td>\n",
       "      <td>반달가슴곰</td>\n",
       "      <td>Ursus thibetanus ussuricus</td>\n",
       "      <td>NaN</td>\n",
       "      <td>EN</td>\n",
       "      <td>VU</td>\n",
       "    </tr>\n",
       "    <tr>\n",
       "      <th>3</th>\n",
       "      <td>포유류</td>\n",
       "      <td>I</td>\n",
       "      <td>붉은박쥐</td>\n",
       "      <td>Myotis rufoniger</td>\n",
       "      <td>NaN</td>\n",
       "      <td>VU</td>\n",
       "      <td>LC</td>\n",
       "    </tr>\n",
       "    <tr>\n",
       "      <th>4</th>\n",
       "      <td>포유류</td>\n",
       "      <td>I</td>\n",
       "      <td>사향노루</td>\n",
       "      <td>Moschus moschiferus</td>\n",
       "      <td>NaN</td>\n",
       "      <td>CR</td>\n",
       "      <td>VU</td>\n",
       "    </tr>\n",
       "    <tr>\n",
       "      <th>...</th>\n",
       "      <td>...</td>\n",
       "      <td>...</td>\n",
       "      <td>...</td>\n",
       "      <td>...</td>\n",
       "      <td>...</td>\n",
       "      <td>...</td>\n",
       "      <td>...</td>\n",
       "    </tr>\n",
       "    <tr>\n",
       "      <th>262</th>\n",
       "      <td>식물</td>\n",
       "      <td>II</td>\n",
       "      <td>홍월귤</td>\n",
       "      <td>Arctous alpinus var. japonicus</td>\n",
       "      <td>NaN</td>\n",
       "      <td>VU</td>\n",
       "      <td>NaN</td>\n",
       "    </tr>\n",
       "    <tr>\n",
       "      <th>263</th>\n",
       "      <td>식물</td>\n",
       "      <td>II</td>\n",
       "      <td>황근</td>\n",
       "      <td>Hibiscus hamabo</td>\n",
       "      <td>NaN</td>\n",
       "      <td>VU</td>\n",
       "      <td>NaN</td>\n",
       "    </tr>\n",
       "    <tr>\n",
       "      <th>264</th>\n",
       "      <td>해조류</td>\n",
       "      <td>II</td>\n",
       "      <td>그물공말</td>\n",
       "      <td>Dictyosphaeria cavernosa</td>\n",
       "      <td>NaN</td>\n",
       "      <td>NaN</td>\n",
       "      <td>NaN</td>\n",
       "    </tr>\n",
       "    <tr>\n",
       "      <th>265</th>\n",
       "      <td>해조류</td>\n",
       "      <td>II</td>\n",
       "      <td>삼나무말</td>\n",
       "      <td>Coccophora langsdorfii</td>\n",
       "      <td>NaN</td>\n",
       "      <td>NaN</td>\n",
       "      <td>NaN</td>\n",
       "    </tr>\n",
       "    <tr>\n",
       "      <th>266</th>\n",
       "      <td>고등균류</td>\n",
       "      <td>II</td>\n",
       "      <td>화경버섯</td>\n",
       "      <td>Lampteromyces japonicus</td>\n",
       "      <td>NaN</td>\n",
       "      <td>NaN</td>\n",
       "      <td>NaN</td>\n",
       "    </tr>\n",
       "  </tbody>\n",
       "</table>\n",
       "<p>267 rows × 7 columns</p>\n",
       "</div>"
      ],
      "text/plain": [
       "      분류군  등급     국명                              학명  고유종 국가적색목록 세계자연보전연맹\n",
       "0     포유류   I     늑대            Canis lupus coreanus  NaN     RE       LC\n",
       "1     포유류   I   대륙사슴        Cervus nippon hortulorum  NaN     RE       LC\n",
       "2     포유류   I  반달가슴곰      Ursus thibetanus ussuricus  NaN     EN       VU\n",
       "3     포유류   I   붉은박쥐               Myotis rufoniger   NaN     VU       LC\n",
       "4     포유류   I   사향노루            Moschus moschiferus   NaN     CR       VU\n",
       "..    ...  ..    ...                             ...  ...    ...      ...\n",
       "262    식물  II    홍월귤  Arctous alpinus var. japonicus  NaN     VU      NaN\n",
       "263    식물  II     황근                 Hibiscus hamabo  NaN     VU      NaN\n",
       "264   해조류  II   그물공말        Dictyosphaeria cavernosa  NaN    NaN      NaN\n",
       "265   해조류  II   삼나무말          Coccophora langsdorfii  NaN    NaN      NaN\n",
       "266  고등균류  II   화경버섯         Lampteromyces japonicus  NaN    NaN      NaN\n",
       "\n",
       "[267 rows x 7 columns]"
      ]
     },
     "execution_count": 2,
     "metadata": {},
     "output_type": "execute_result"
    }
   ],
   "source": [
    "#환경부가 지정 보호하는 생물의 정보를 제공하는 한국의 멸종위기종 데이터\n",
    "species = pd.read_csv('data/Endangered_Species.csv', encoding='cp949')\n",
    "species"
   ]
  },
  {
   "cell_type": "code",
   "execution_count": 3,
   "metadata": {},
   "outputs": [
    {
     "data": {
      "text/plain": [
       "Index(['분류군', '등급', '국명', '학명', '고유종', '국가적색목록', '세계자연보전연맹'], dtype='object')"
      ]
     },
     "execution_count": 3,
     "metadata": {},
     "output_type": "execute_result"
    }
   ],
   "source": [
    "#컬럼의 구성 확인\n",
    "\n",
    "species.columns\n",
    "#분류군: 생물의 분류 단위\n",
    "#등급: 멸종위기에 처할 우려가 있는 2급과 멸종위기에 처한 1급으로 구성\n",
    "#고유종: 고유종 여부\n",
    "#세계자연보전연맹: 특정 종의 멸종 위험도를 평가해 등급으로 분류\n",
    "#국가적색목록: 우리나라에서 세계자연보전연맹의 범주에 따라 분류한 적색목록"
   ]
  },
  {
   "cell_type": "code",
   "execution_count": 4,
   "metadata": {},
   "outputs": [
    {
     "data": {
      "text/plain": [
       "LC    63\n",
       "VU    24\n",
       "EN    16\n",
       "NT     7\n",
       "CR     3\n",
       "DD     3\n",
       "Name: 세계자연보전연맹, dtype: int64"
      ]
     },
     "execution_count": 4,
     "metadata": {},
     "output_type": "execute_result"
    }
   ],
   "source": [
    "#멸종위기등급 확인\n",
    "species.세계자연보전연맹.value_counts()"
   ]
  },
  {
   "cell_type": "markdown",
   "metadata": {},
   "source": [
    "##### EX(절멸) - EW(야생절멸) - CR(위급) - EN(위기) - VU(취약) - NT(준위협) - LC(관심대상) - DD(정보부족) - NE(미평가) + RE(지역절멸)"
   ]
  },
  {
   "cell_type": "code",
   "execution_count": null,
   "metadata": {},
   "outputs": [],
   "source": [
    "#EX(절멸): 마지막 개체가 죽었다는 사실에 합리적 의심의 여지가 없는 경우\n",
    "#EW(야생절멸): 인간의 손에 의한 사욱 및 경작 또는 과거의 살던 곳으로부터 벗어난 장소에서의 귀화 개체군으로만 생존한 경우\n",
    "#CR(위급): 야생에서 극도로 높은 멸종 위험에 처한 분류군\n",
    "#EN(위기): 야생에서 매우 높은 멸종 위험에 처한 분류군\n",
    "#VU(취약): 야생에서 높은 멸종 위험에 처한 분류군\n",
    "#NT(준위협): 가까운 미래에 멸종위기범주에 처할 가능성이 높은 경우\n",
    "#LC(관심대상): 위험도가 낮고 멸종위기범주에 도달하지 않은 경우"
   ]
  },
  {
   "cell_type": "markdown",
   "metadata": {},
   "source": [
    "### 2. 데이터 탐색"
   ]
  },
  {
   "cell_type": "code",
   "execution_count": 4,
   "metadata": {},
   "outputs": [
    {
     "data": {
      "text/plain": [
       "분류군         object\n",
       "등급          object\n",
       "국명          object\n",
       "학명          object\n",
       "고유종         object\n",
       "국가적색목록      object\n",
       "세계자연보전연맹    object\n",
       "dtype: object"
      ]
     },
     "execution_count": 4,
     "metadata": {},
     "output_type": "execute_result"
    }
   ],
   "source": [
    "#데이터 형식 확인: 모두 object(문자)로 이루어져 있다\n",
    "species.dtypes"
   ]
  },
  {
   "cell_type": "code",
   "execution_count": 6,
   "metadata": {},
   "outputs": [
    {
     "name": "stdout",
     "output_type": "stream",
     "text": [
      "<class 'pandas.core.frame.DataFrame'>\n",
      "RangeIndex: 267 entries, 0 to 266\n",
      "Data columns (total 7 columns):\n",
      " #   Column    Non-Null Count  Dtype \n",
      "---  ------    --------------  ----- \n",
      " 0   분류군       267 non-null    object\n",
      " 1   등급        267 non-null    object\n",
      " 2   국명        267 non-null    object\n",
      " 3   학명        267 non-null    object\n",
      " 4   고유종       46 non-null     object\n",
      " 5   국가적색목록    237 non-null    object\n",
      " 6   세계자연보전연맹  116 non-null    object\n",
      "dtypes: object(7)\n",
      "memory usage: 14.7+ KB\n"
     ]
    }
   ],
   "source": [
    "species.info()"
   ]
  },
  {
   "cell_type": "code",
   "execution_count": 5,
   "metadata": {},
   "outputs": [
    {
     "data": {
      "text/html": [
       "<div>\n",
       "<style scoped>\n",
       "    .dataframe tbody tr th:only-of-type {\n",
       "        vertical-align: middle;\n",
       "    }\n",
       "\n",
       "    .dataframe tbody tr th {\n",
       "        vertical-align: top;\n",
       "    }\n",
       "\n",
       "    .dataframe thead th {\n",
       "        text-align: right;\n",
       "    }\n",
       "</style>\n",
       "<table border=\"1\" class=\"dataframe\">\n",
       "  <thead>\n",
       "    <tr style=\"text-align: right;\">\n",
       "      <th></th>\n",
       "      <th>count</th>\n",
       "      <th>unique</th>\n",
       "      <th>top</th>\n",
       "      <th>freq</th>\n",
       "    </tr>\n",
       "  </thead>\n",
       "  <tbody>\n",
       "    <tr>\n",
       "      <th>분류군</th>\n",
       "      <td>267</td>\n",
       "      <td>9</td>\n",
       "      <td>식물</td>\n",
       "      <td>88</td>\n",
       "    </tr>\n",
       "    <tr>\n",
       "      <th>등급</th>\n",
       "      <td>267</td>\n",
       "      <td>2</td>\n",
       "      <td>II</td>\n",
       "      <td>207</td>\n",
       "    </tr>\n",
       "    <tr>\n",
       "      <th>국명</th>\n",
       "      <td>267</td>\n",
       "      <td>267</td>\n",
       "      <td>흑비둘기</td>\n",
       "      <td>1</td>\n",
       "    </tr>\n",
       "    <tr>\n",
       "      <th>학명</th>\n",
       "      <td>267</td>\n",
       "      <td>267</td>\n",
       "      <td>Nipponia nippon</td>\n",
       "      <td>1</td>\n",
       "    </tr>\n",
       "    <tr>\n",
       "      <th>고유종</th>\n",
       "      <td>46</td>\n",
       "      <td>1</td>\n",
       "      <td>Y</td>\n",
       "      <td>46</td>\n",
       "    </tr>\n",
       "    <tr>\n",
       "      <th>국가적색목록</th>\n",
       "      <td>237</td>\n",
       "      <td>7</td>\n",
       "      <td>VU</td>\n",
       "      <td>99</td>\n",
       "    </tr>\n",
       "    <tr>\n",
       "      <th>세계자연보전연맹</th>\n",
       "      <td>116</td>\n",
       "      <td>6</td>\n",
       "      <td>LC</td>\n",
       "      <td>63</td>\n",
       "    </tr>\n",
       "  </tbody>\n",
       "</table>\n",
       "</div>"
      ],
      "text/plain": [
       "         count unique               top freq\n",
       "분류군        267      9                식물   88\n",
       "등급         267      2                II  207\n",
       "국명         267    267              흑비둘기    1\n",
       "학명         267    267  Nipponia nippon     1\n",
       "고유종         46      1                 Y   46\n",
       "국가적색목록     237      7                VU   99\n",
       "세계자연보전연맹   116      6                LC   63"
      ]
     },
     "execution_count": 5,
     "metadata": {},
     "output_type": "execute_result"
    }
   ],
   "source": [
    "#describe() 확인\n",
    "\n",
    "species.describe().T\n",
    "#국명, 학명의 count와 unique가 같아 모든 행의 데이터가 다름을 파악\n",
    "#고유종의 unique는 1 확인"
   ]
  },
  {
   "cell_type": "code",
   "execution_count": 8,
   "metadata": {},
   "outputs": [
    {
     "data": {
      "text/plain": [
       "VU    0.417722\n",
       "EN    0.329114\n",
       "CR    0.143460\n",
       "RE    0.037975\n",
       "LC    0.033755\n",
       "NE    0.021097\n",
       "NT    0.016878\n",
       "Name: 국가적색목록, dtype: float64"
      ]
     },
     "execution_count": 8,
     "metadata": {},
     "output_type": "execute_result"
    }
   ],
   "source": [
    "#데이터 비율 확인\n",
    "species.국가적색목록.value_counts(normalize=True)"
   ]
  },
  {
   "cell_type": "code",
   "execution_count": 9,
   "metadata": {},
   "outputs": [
    {
     "data": {
      "text/plain": [
       "LC    0.543103\n",
       "VU    0.206897\n",
       "EN    0.137931\n",
       "NT    0.060345\n",
       "CR    0.025862\n",
       "DD    0.025862\n",
       "Name: 세계자연보전연맹, dtype: float64"
      ]
     },
     "execution_count": 9,
     "metadata": {},
     "output_type": "execute_result"
    }
   ],
   "source": [
    "species.세계자연보전연맹.value_counts(normalize=True)"
   ]
  },
  {
   "cell_type": "code",
   "execution_count": 6,
   "metadata": {},
   "outputs": [
    {
     "data": {
      "text/plain": [
       "분류군           0\n",
       "등급            0\n",
       "국명            0\n",
       "학명            0\n",
       "고유종         221\n",
       "국가적색목록       30\n",
       "세계자연보전연맹    151\n",
       "dtype: int64"
      ]
     },
     "execution_count": 6,
     "metadata": {},
     "output_type": "execute_result"
    }
   ],
   "source": [
    "#NA값 확인\n",
    "species.isna().sum()"
   ]
  },
  {
   "cell_type": "markdown",
   "metadata": {},
   "source": [
    "### 3. 데이터 분석"
   ]
  },
  {
   "cell_type": "code",
   "execution_count": null,
   "metadata": {},
   "outputs": [],
   "source": [
    "#데이터 전처리"
   ]
  },
  {
   "cell_type": "code",
   "execution_count": 11,
   "metadata": {},
   "outputs": [
    {
     "data": {
      "text/plain": [
       "NaN    221\n",
       "Y       46\n",
       "Name: 고유종, dtype: int64"
      ]
     },
     "execution_count": 11,
     "metadata": {},
     "output_type": "execute_result"
    }
   ],
   "source": [
    "#NaN값 처리\n",
    "\n",
    "#고유종 컬럼은 고유종인 경우에는 Y, 고유종이 아닌 경우에는 NaN값을 가진다\n",
    "species.고유종.value_counts(dropna=False)"
   ]
  },
  {
   "cell_type": "code",
   "execution_count": 7,
   "metadata": {},
   "outputs": [],
   "source": [
    "#고유종의 NaN값에 'N'을 채움\n",
    "species.고유종 = species.고유종.fillna('N')"
   ]
  },
  {
   "cell_type": "code",
   "execution_count": 8,
   "metadata": {},
   "outputs": [],
   "source": [
    "#국가적색목록, 세계자연보전연맹의 NaN값에 'NE(미평가)'를 채움\n",
    "species.국가적색목록 = species.국가적색목록.fillna('NE')\n",
    "species.세계자연보전연맹 = species.세계자연보전연맹.fillna('NE')"
   ]
  },
  {
   "cell_type": "code",
   "execution_count": 14,
   "metadata": {},
   "outputs": [
    {
     "data": {
      "text/plain": [
       "분류군         0\n",
       "등급          0\n",
       "국명          0\n",
       "학명          0\n",
       "고유종         0\n",
       "국가적색목록      0\n",
       "세계자연보전연맹    0\n",
       "dtype: int64"
      ]
     },
     "execution_count": 14,
     "metadata": {},
     "output_type": "execute_result"
    }
   ],
   "source": [
    "species.isna().sum()"
   ]
  },
  {
   "cell_type": "code",
   "execution_count": 10,
   "metadata": {},
   "outputs": [
    {
     "name": "stdout",
     "output_type": "stream",
     "text": [
      "<class 'pandas.core.frame.DataFrame'>\n",
      "RangeIndex: 267 entries, 0 to 266\n",
      "Data columns (total 7 columns):\n",
      " #   Column    Non-Null Count  Dtype \n",
      "---  ------    --------------  ----- \n",
      " 0   분류군       267 non-null    object\n",
      " 1   등급        267 non-null    object\n",
      " 2   국명        267 non-null    object\n",
      " 3   학명        267 non-null    object\n",
      " 4   고유종       267 non-null    object\n",
      " 5   국가적색목록    267 non-null    object\n",
      " 6   세계자연보전연맹  267 non-null    object\n",
      "dtypes: object(7)\n",
      "memory usage: 14.7+ KB\n"
     ]
    }
   ],
   "source": [
    "#데이터 타입 변경\n",
    "\n",
    "species.info()\n",
    "#memory usage: 14.7+ KB 확인"
   ]
  },
  {
   "cell_type": "code",
   "execution_count": 11,
   "metadata": {},
   "outputs": [
    {
     "data": {
      "text/plain": [
       "Index         128\n",
       "분류군         23302\n",
       "등급          15693\n",
       "국명          24316\n",
       "학명          20492\n",
       "고유종         15486\n",
       "국가적색목록      15753\n",
       "세계자연보전연맹    15753\n",
       "dtype: int64"
      ]
     },
     "execution_count": 11,
     "metadata": {},
     "output_type": "execute_result"
    }
   ],
   "source": [
    "#memory_usage는 국명, 분류군, 학명, ... 순서대로 크다\n",
    "species.memory_usage(deep=True)"
   ]
  },
  {
   "cell_type": "code",
   "execution_count": 17,
   "metadata": {},
   "outputs": [
    {
     "data": {
      "text/html": [
       "<div>\n",
       "<style scoped>\n",
       "    .dataframe tbody tr th:only-of-type {\n",
       "        vertical-align: middle;\n",
       "    }\n",
       "\n",
       "    .dataframe tbody tr th {\n",
       "        vertical-align: top;\n",
       "    }\n",
       "\n",
       "    .dataframe thead th {\n",
       "        text-align: right;\n",
       "    }\n",
       "</style>\n",
       "<table border=\"1\" class=\"dataframe\">\n",
       "  <thead>\n",
       "    <tr style=\"text-align: right;\">\n",
       "      <th></th>\n",
       "      <th>count</th>\n",
       "      <th>unique</th>\n",
       "      <th>top</th>\n",
       "      <th>freq</th>\n",
       "    </tr>\n",
       "  </thead>\n",
       "  <tbody>\n",
       "    <tr>\n",
       "      <th>분류군</th>\n",
       "      <td>267</td>\n",
       "      <td>9</td>\n",
       "      <td>식물</td>\n",
       "      <td>88</td>\n",
       "    </tr>\n",
       "    <tr>\n",
       "      <th>등급</th>\n",
       "      <td>267</td>\n",
       "      <td>2</td>\n",
       "      <td>II</td>\n",
       "      <td>207</td>\n",
       "    </tr>\n",
       "    <tr>\n",
       "      <th>국명</th>\n",
       "      <td>267</td>\n",
       "      <td>267</td>\n",
       "      <td>서울개발나물</td>\n",
       "      <td>1</td>\n",
       "    </tr>\n",
       "    <tr>\n",
       "      <th>학명</th>\n",
       "      <td>267</td>\n",
       "      <td>267</td>\n",
       "      <td>Leontopodium hallaisanense</td>\n",
       "      <td>1</td>\n",
       "    </tr>\n",
       "    <tr>\n",
       "      <th>고유종</th>\n",
       "      <td>267</td>\n",
       "      <td>2</td>\n",
       "      <td>N</td>\n",
       "      <td>221</td>\n",
       "    </tr>\n",
       "    <tr>\n",
       "      <th>국가적색목록</th>\n",
       "      <td>267</td>\n",
       "      <td>7</td>\n",
       "      <td>VU</td>\n",
       "      <td>99</td>\n",
       "    </tr>\n",
       "    <tr>\n",
       "      <th>세계자연보전연맹</th>\n",
       "      <td>267</td>\n",
       "      <td>7</td>\n",
       "      <td>NE</td>\n",
       "      <td>151</td>\n",
       "    </tr>\n",
       "  </tbody>\n",
       "</table>\n",
       "</div>"
      ],
      "text/plain": [
       "         count unique                         top freq\n",
       "분류군        267      9                          식물   88\n",
       "등급         267      2                          II  207\n",
       "국명         267    267                      서울개발나물    1\n",
       "학명         267    267  Leontopodium hallaisanense    1\n",
       "고유종        267      2                           N  221\n",
       "국가적색목록     267      7                          VU   99\n",
       "세계자연보전연맹   267      7                          NE  151"
      ]
     },
     "execution_count": 17,
     "metadata": {},
     "output_type": "execute_result"
    }
   ],
   "source": [
    "#국명은 모든 행의 값이 다르기 때문에 데이터 타입 변경 의미가 없다\n",
    "species.describe().T"
   ]
  },
  {
   "cell_type": "code",
   "execution_count": 18,
   "metadata": {},
   "outputs": [
    {
     "data": {
      "text/plain": [
       "식물       88\n",
       "조류       63\n",
       "무척추동물    32\n",
       "어류       27\n",
       "곤충류      26\n",
       "포유류      20\n",
       "양서파충류     8\n",
       "해조류       2\n",
       "고등균류      1\n",
       "Name: 분류군, dtype: int64"
      ]
     },
     "execution_count": 18,
     "metadata": {},
     "output_type": "execute_result"
    }
   ],
   "source": [
    "species.분류군.value_counts()"
   ]
  },
  {
   "cell_type": "code",
   "execution_count": 12,
   "metadata": {},
   "outputs": [],
   "source": [
    "#따라서 분류군의 데이터 타입을 category로 변경\n",
    "species['분류군'] = species['분류군'].astype('category')"
   ]
  },
  {
   "cell_type": "code",
   "execution_count": 20,
   "metadata": {},
   "outputs": [
    {
     "name": "stdout",
     "output_type": "stream",
     "text": [
      "<class 'pandas.core.frame.DataFrame'>\n",
      "RangeIndex: 267 entries, 0 to 266\n",
      "Data columns (total 7 columns):\n",
      " #   Column    Non-Null Count  Dtype   \n",
      "---  ------    --------------  -----   \n",
      " 0   분류군       267 non-null    category\n",
      " 1   등급        267 non-null    object  \n",
      " 2   국명        267 non-null    object  \n",
      " 3   학명        267 non-null    object  \n",
      " 4   고유종       267 non-null    object  \n",
      " 5   국가적색목록    267 non-null    object  \n",
      " 6   세계자연보전연맹  267 non-null    object  \n",
      "dtypes: category(1), object(6)\n",
      "memory usage: 13.3+ KB\n"
     ]
    }
   ],
   "source": [
    "species.info()\n",
    "#13.3+ KB로 소폭 줄어듦"
   ]
  },
  {
   "cell_type": "code",
   "execution_count": null,
   "metadata": {},
   "outputs": [],
   "source": []
  },
  {
   "cell_type": "code",
   "execution_count": null,
   "metadata": {},
   "outputs": [],
   "source": [
    "#데이터 시각화"
   ]
  },
  {
   "cell_type": "code",
   "execution_count": 21,
   "metadata": {},
   "outputs": [
    {
     "data": {
      "text/html": [
       "<div>\n",
       "<style scoped>\n",
       "    .dataframe tbody tr th:only-of-type {\n",
       "        vertical-align: middle;\n",
       "    }\n",
       "\n",
       "    .dataframe tbody tr th {\n",
       "        vertical-align: top;\n",
       "    }\n",
       "\n",
       "    .dataframe thead th {\n",
       "        text-align: right;\n",
       "    }\n",
       "</style>\n",
       "<table border=\"1\" class=\"dataframe\">\n",
       "  <thead>\n",
       "    <tr style=\"text-align: right;\">\n",
       "      <th></th>\n",
       "      <th>분류군</th>\n",
       "      <th>국명</th>\n",
       "      <th>국가적색목록</th>\n",
       "      <th>세계자연보전연맹</th>\n",
       "    </tr>\n",
       "  </thead>\n",
       "  <tbody>\n",
       "    <tr>\n",
       "      <th>0</th>\n",
       "      <td>포유류</td>\n",
       "      <td>늑대</td>\n",
       "      <td>RE</td>\n",
       "      <td>LC</td>\n",
       "    </tr>\n",
       "    <tr>\n",
       "      <th>1</th>\n",
       "      <td>포유류</td>\n",
       "      <td>대륙사슴</td>\n",
       "      <td>RE</td>\n",
       "      <td>LC</td>\n",
       "    </tr>\n",
       "    <tr>\n",
       "      <th>2</th>\n",
       "      <td>포유류</td>\n",
       "      <td>반달가슴곰</td>\n",
       "      <td>EN</td>\n",
       "      <td>VU</td>\n",
       "    </tr>\n",
       "    <tr>\n",
       "      <th>3</th>\n",
       "      <td>포유류</td>\n",
       "      <td>붉은박쥐</td>\n",
       "      <td>VU</td>\n",
       "      <td>LC</td>\n",
       "    </tr>\n",
       "    <tr>\n",
       "      <th>4</th>\n",
       "      <td>포유류</td>\n",
       "      <td>사향노루</td>\n",
       "      <td>CR</td>\n",
       "      <td>VU</td>\n",
       "    </tr>\n",
       "    <tr>\n",
       "      <th>...</th>\n",
       "      <td>...</td>\n",
       "      <td>...</td>\n",
       "      <td>...</td>\n",
       "      <td>...</td>\n",
       "    </tr>\n",
       "    <tr>\n",
       "      <th>262</th>\n",
       "      <td>식물</td>\n",
       "      <td>홍월귤</td>\n",
       "      <td>VU</td>\n",
       "      <td>NE</td>\n",
       "    </tr>\n",
       "    <tr>\n",
       "      <th>263</th>\n",
       "      <td>식물</td>\n",
       "      <td>황근</td>\n",
       "      <td>VU</td>\n",
       "      <td>NE</td>\n",
       "    </tr>\n",
       "    <tr>\n",
       "      <th>264</th>\n",
       "      <td>해조류</td>\n",
       "      <td>그물공말</td>\n",
       "      <td>NE</td>\n",
       "      <td>NE</td>\n",
       "    </tr>\n",
       "    <tr>\n",
       "      <th>265</th>\n",
       "      <td>해조류</td>\n",
       "      <td>삼나무말</td>\n",
       "      <td>NE</td>\n",
       "      <td>NE</td>\n",
       "    </tr>\n",
       "    <tr>\n",
       "      <th>266</th>\n",
       "      <td>고등균류</td>\n",
       "      <td>화경버섯</td>\n",
       "      <td>NE</td>\n",
       "      <td>NE</td>\n",
       "    </tr>\n",
       "  </tbody>\n",
       "</table>\n",
       "<p>267 rows × 4 columns</p>\n",
       "</div>"
      ],
      "text/plain": [
       "      분류군     국명 국가적색목록 세계자연보전연맹\n",
       "0     포유류     늑대     RE       LC\n",
       "1     포유류   대륙사슴     RE       LC\n",
       "2     포유류  반달가슴곰     EN       VU\n",
       "3     포유류   붉은박쥐     VU       LC\n",
       "4     포유류   사향노루     CR       VU\n",
       "..    ...    ...    ...      ...\n",
       "262    식물    홍월귤     VU       NE\n",
       "263    식물     황근     VU       NE\n",
       "264   해조류   그물공말     NE       NE\n",
       "265   해조류   삼나무말     NE       NE\n",
       "266  고등균류   화경버섯     NE       NE\n",
       "\n",
       "[267 rows x 4 columns]"
      ]
     },
     "execution_count": 21,
     "metadata": {},
     "output_type": "execute_result"
    }
   ],
   "source": [
    "#DataFrame형태로는 데이터가 눈에 잘 들어오지 않는다\n",
    "species[['분류군', '국명', '국가적색목록', '세계자연보전연맹']]"
   ]
  },
  {
   "cell_type": "code",
   "execution_count": 9,
   "metadata": {},
   "outputs": [],
   "source": [
    "plt.rcParams['font.family'] = 'Malgun Gothic'"
   ]
  },
  {
   "cell_type": "code",
   "execution_count": 10,
   "metadata": {},
   "outputs": [
    {
     "data": {
      "text/plain": [
       "<BarContainer object of 9 artists>"
      ]
     },
     "execution_count": 10,
     "metadata": {},
     "output_type": "execute_result"
    },
    {
     "data": {
      "image/png": "[encoded data removed]",
      "text/plain": [
       "<Figure size 720x576 with 1 Axes>"
      ]
     },
     "metadata": {
      "needs_background": "light"
     },
     "output_type": "display_data"
    }
   ],
   "source": [
    "#분류군의 분포 확인\n",
    "\n",
    "fig, ax = plt.subplots(figsize=(10, 8))\n",
    "\n",
    "plt.bar(species.분류군.value_counts().index, species.분류군.value_counts())\n",
    "#한국의 멸종위기종은 식물이 가장 많고, 고등군류가 가장 적다."
   ]
  },
  {
   "cell_type": "code",
   "execution_count": 11,
   "metadata": {},
   "outputs": [
    {
     "name": "stderr",
     "output_type": "stream",
     "text": [
      "C:\\Users\\user\\anaconda3\\lib\\site-packages\\seaborn\\_decorators.py:36: FutureWarning: Pass the following variables as keyword args: x, y. From version 0.12, the only valid positional argument will be `data`, and passing other arguments without an explicit keyword will result in an error or misinterpretation.\n",
      "  warnings.warn(\n"
     ]
    },
    {
     "data": {
      "text/plain": [
       "<AxesSubplot:ylabel='국가적색목록'>"
      ]
     },
     "execution_count": 11,
     "metadata": {},
     "output_type": "execute_result"
    },
    {
     "data": {
      "image/png": "[encoded data removed]",
      "text/plain": [
       "<Figure size 720x576 with 1 Axes>"
      ]
     },
     "metadata": {
      "needs_background": "light"
     },
     "output_type": "display_data"
    }
   ],
   "source": [
    "#국가적색목록 분류 분포 확인\n",
    "\n",
    "fig, ax = plt.subplots(figsize=(10, 8))\n",
    "\n",
    "sns.barplot(species.국가적색목록.value_counts().index, species.국가적색목록.value_counts())\n",
    "#VU, EN, CR, ...순으로 분포"
   ]
  },
  {
   "cell_type": "code",
   "execution_count": 12,
   "metadata": {},
   "outputs": [
    {
     "name": "stderr",
     "output_type": "stream",
     "text": [
      "C:\\Users\\user\\anaconda3\\lib\\site-packages\\seaborn\\_decorators.py:36: FutureWarning: Pass the following variables as keyword args: x, y. From version 0.12, the only valid positional argument will be `data`, and passing other arguments without an explicit keyword will result in an error or misinterpretation.\n",
      "  warnings.warn(\n"
     ]
    },
    {
     "data": {
      "text/plain": [
       "<AxesSubplot:ylabel='세계자연보전연맹'>"
      ]
     },
     "execution_count": 12,
     "metadata": {},
     "output_type": "execute_result"
    },
    {
     "data": {
      "image/png": "[encoded data removed]",
      "text/plain": [
       "<Figure size 720x576 with 1 Axes>"
      ]
     },
     "metadata": {
      "needs_background": "light"
     },
     "output_type": "display_data"
    }
   ],
   "source": [
    "#세계자연보전연맹 분류 분포 확인\n",
    "\n",
    "fig, ax = plt.subplots(figsize=(10, 8))\n",
    "\n",
    "sns.barplot(species.세계자연보전연맹.value_counts().index, species.세계자연보전연맹.value_counts())\n",
    "#미평가인 NE를 제외, LC, VU, EN, ...순으로 분포"
   ]
  },
  {
   "cell_type": "code",
   "execution_count": 13,
   "metadata": {},
   "outputs": [
    {
     "data": {
      "text/plain": [
       "<AxesSubplot:xlabel='count', ylabel='분류군'>"
      ]
     },
     "execution_count": 13,
     "metadata": {},
     "output_type": "execute_result"
    },
    {
     "data": {
      "image/png": "[encoded data removed]",
      "text/plain": [
       "<Figure size 864x720 with 1 Axes>"
      ]
     },
     "metadata": {
      "needs_background": "light"
     },
     "output_type": "display_data"
    }
   ],
   "source": [
    "#분류군 별 국가적색목록의 분포\n",
    "\n",
    "fig, ax = plt.subplots(figsize=(12, 10))\n",
    "\n",
    "sns.countplot(y='분류군',\n",
    "              data=species,\n",
    "              hue='국가적색목록'\n",
    ")\n",
    "#조류는 VU(취약)등급이 가장 많고, 식물은 분류군 중 CR(위급)등급이 가장 많다."
   ]
  },
  {
   "cell_type": "code",
   "execution_count": 27,
   "metadata": {},
   "outputs": [
    {
     "data": {
      "text/plain": [
       "<AxesSubplot:xlabel='count', ylabel='분류군'>"
      ]
     },
     "execution_count": 27,
     "metadata": {},
     "output_type": "execute_result"
    },
    {
     "data": {
      "image/png": "[encoded data removed]",
      "text/plain": [
       "<Figure size 864x720 with 1 Axes>"
      ]
     },
     "metadata": {
      "needs_background": "light"
     },
     "output_type": "display_data"
    }
   ],
   "source": [
    "#분류군 별 세계자연보전연맹의 분포\n",
    "\n",
    "fig, ax = plt.subplots(figsize=(12, 10))\n",
    "\n",
    "sns.countplot(y='분류군',\n",
    "              data=species,\n",
    "              hue='세계자연보전연맹'\n",
    ")"
   ]
  },
  {
   "cell_type": "code",
   "execution_count": null,
   "metadata": {},
   "outputs": [],
   "source": []
  },
  {
   "cell_type": "code",
   "execution_count": null,
   "metadata": {},
   "outputs": [],
   "source": [
    "#불리언 비교"
   ]
  },
  {
   "cell_type": "code",
   "execution_count": 14,
   "metadata": {},
   "outputs": [],
   "source": [
    "#멸종위기범주(CR, EN, VU) a그룹\n",
    "a1 = species['국가적색목록'] == 'CR'\n",
    "a2 = species['국가적색목록'] == 'EN'\n",
    "a3 = species['국가적색목록'] == 'VU'\n",
    "\n",
    "a = a1 | a2 | a3"
   ]
  },
  {
   "cell_type": "code",
   "execution_count": 15,
   "metadata": {},
   "outputs": [],
   "source": [
    "#그 외 b그룹\n",
    "b1 = species['국가적색목록'] == 'NT'\n",
    "b2 = species['국가적색목록'] == 'LC'\n",
    "\n",
    "b = b1 | b2"
   ]
  },
  {
   "cell_type": "code",
   "execution_count": 16,
   "metadata": {},
   "outputs": [
    {
     "name": "stdout",
     "output_type": "stream",
     "text": [
      "211 12\n"
     ]
    }
   ],
   "source": [
    "print(a.sum(), b.sum())\n",
    "#멸종위기범주의 a그룹이 압도적으로 많음을 알 수 있다."
   ]
  },
  {
   "cell_type": "code",
   "execution_count": null,
   "metadata": {},
   "outputs": [],
   "source": []
  },
  {
   "cell_type": "code",
   "execution_count": 31,
   "metadata": {},
   "outputs": [
    {
     "data": {
      "text/html": [
       "<div>\n",
       "<style scoped>\n",
       "    .dataframe tbody tr th:only-of-type {\n",
       "        vertical-align: middle;\n",
       "    }\n",
       "\n",
       "    .dataframe tbody tr th {\n",
       "        vertical-align: top;\n",
       "    }\n",
       "\n",
       "    .dataframe thead th {\n",
       "        text-align: right;\n",
       "    }\n",
       "</style>\n",
       "<table border=\"1\" class=\"dataframe\">\n",
       "  <thead>\n",
       "    <tr style=\"text-align: right;\">\n",
       "      <th></th>\n",
       "      <th>국명</th>\n",
       "      <th>variable</th>\n",
       "      <th>value</th>\n",
       "    </tr>\n",
       "  </thead>\n",
       "  <tbody>\n",
       "    <tr>\n",
       "      <th>0</th>\n",
       "      <td>늑대</td>\n",
       "      <td>국가적색목록</td>\n",
       "      <td>RE</td>\n",
       "    </tr>\n",
       "    <tr>\n",
       "      <th>1</th>\n",
       "      <td>대륙사슴</td>\n",
       "      <td>국가적색목록</td>\n",
       "      <td>RE</td>\n",
       "    </tr>\n",
       "    <tr>\n",
       "      <th>2</th>\n",
       "      <td>반달가슴곰</td>\n",
       "      <td>국가적색목록</td>\n",
       "      <td>EN</td>\n",
       "    </tr>\n",
       "    <tr>\n",
       "      <th>3</th>\n",
       "      <td>붉은박쥐</td>\n",
       "      <td>국가적색목록</td>\n",
       "      <td>VU</td>\n",
       "    </tr>\n",
       "    <tr>\n",
       "      <th>4</th>\n",
       "      <td>사향노루</td>\n",
       "      <td>국가적색목록</td>\n",
       "      <td>CR</td>\n",
       "    </tr>\n",
       "    <tr>\n",
       "      <th>...</th>\n",
       "      <td>...</td>\n",
       "      <td>...</td>\n",
       "      <td>...</td>\n",
       "    </tr>\n",
       "    <tr>\n",
       "      <th>529</th>\n",
       "      <td>홍월귤</td>\n",
       "      <td>세계자연보전연맹</td>\n",
       "      <td>NE</td>\n",
       "    </tr>\n",
       "    <tr>\n",
       "      <th>530</th>\n",
       "      <td>황근</td>\n",
       "      <td>세계자연보전연맹</td>\n",
       "      <td>NE</td>\n",
       "    </tr>\n",
       "    <tr>\n",
       "      <th>531</th>\n",
       "      <td>그물공말</td>\n",
       "      <td>세계자연보전연맹</td>\n",
       "      <td>NE</td>\n",
       "    </tr>\n",
       "    <tr>\n",
       "      <th>532</th>\n",
       "      <td>삼나무말</td>\n",
       "      <td>세계자연보전연맹</td>\n",
       "      <td>NE</td>\n",
       "    </tr>\n",
       "    <tr>\n",
       "      <th>533</th>\n",
       "      <td>화경버섯</td>\n",
       "      <td>세계자연보전연맹</td>\n",
       "      <td>NE</td>\n",
       "    </tr>\n",
       "  </tbody>\n",
       "</table>\n",
       "<p>534 rows × 3 columns</p>\n",
       "</div>"
      ],
      "text/plain": [
       "        국명  variable value\n",
       "0       늑대    국가적색목록    RE\n",
       "1     대륙사슴    국가적색목록    RE\n",
       "2    반달가슴곰    국가적색목록    EN\n",
       "3     붉은박쥐    국가적색목록    VU\n",
       "4     사향노루    국가적색목록    CR\n",
       "..     ...       ...   ...\n",
       "529    홍월귤  세계자연보전연맹    NE\n",
       "530     황근  세계자연보전연맹    NE\n",
       "531   그물공말  세계자연보전연맹    NE\n",
       "532   삼나무말  세계자연보전연맹    NE\n",
       "533   화경버섯  세계자연보전연맹    NE\n",
       "\n",
       "[534 rows x 3 columns]"
      ]
     },
     "execution_count": 31,
     "metadata": {},
     "output_type": "execute_result"
    }
   ],
   "source": [
    "#멸종위기종 국명과 국가적색목록 등급, 국명과 세계자연보전연맹 등급을 따로 출력하고 싶을 때\n",
    "species.melt(id_vars=['국명'], value_vars=['국가적색목록', '세계자연보전연맹'])"
   ]
  },
  {
   "cell_type": "code",
   "execution_count": 17,
   "metadata": {},
   "outputs": [
    {
     "name": "stdout",
     "output_type": "stream",
     "text": [
      "('고등균류', 'II')\n"
     ]
    },
    {
     "data": {
      "text/html": [
       "<div>\n",
       "<style scoped>\n",
       "    .dataframe tbody tr th:only-of-type {\n",
       "        vertical-align: middle;\n",
       "    }\n",
       "\n",
       "    .dataframe tbody tr th {\n",
       "        vertical-align: top;\n",
       "    }\n",
       "\n",
       "    .dataframe thead th {\n",
       "        text-align: right;\n",
       "    }\n",
       "</style>\n",
       "<table border=\"1\" class=\"dataframe\">\n",
       "  <thead>\n",
       "    <tr style=\"text-align: right;\">\n",
       "      <th></th>\n",
       "      <th>분류군</th>\n",
       "      <th>등급</th>\n",
       "      <th>국명</th>\n",
       "      <th>국가적색목록</th>\n",
       "    </tr>\n",
       "  </thead>\n",
       "  <tbody>\n",
       "    <tr>\n",
       "      <th>266</th>\n",
       "      <td>고등균류</td>\n",
       "      <td>II</td>\n",
       "      <td>화경버섯</td>\n",
       "      <td>NE</td>\n",
       "    </tr>\n",
       "  </tbody>\n",
       "</table>\n",
       "</div>"
      ],
      "text/plain": [
       "      분류군  등급    국명 국가적색목록\n",
       "266  고등균류  II  화경버섯     NE"
      ]
     },
     "metadata": {},
     "output_type": "display_data"
    },
    {
     "name": "stdout",
     "output_type": "stream",
     "text": [
      "('곤충류', 'I')\n"
     ]
    },
    {
     "data": {
      "text/html": [
       "<div>\n",
       "<style scoped>\n",
       "    .dataframe tbody tr th:only-of-type {\n",
       "        vertical-align: middle;\n",
       "    }\n",
       "\n",
       "    .dataframe tbody tr th {\n",
       "        vertical-align: top;\n",
       "    }\n",
       "\n",
       "    .dataframe thead th {\n",
       "        text-align: right;\n",
       "    }\n",
       "</style>\n",
       "<table border=\"1\" class=\"dataframe\">\n",
       "  <thead>\n",
       "    <tr style=\"text-align: right;\">\n",
       "      <th></th>\n",
       "      <th>분류군</th>\n",
       "      <th>등급</th>\n",
       "      <th>국명</th>\n",
       "      <th>국가적색목록</th>\n",
       "    </tr>\n",
       "  </thead>\n",
       "  <tbody>\n",
       "    <tr>\n",
       "      <th>118</th>\n",
       "      <td>곤충류</td>\n",
       "      <td>I</td>\n",
       "      <td>붉은점모시나비</td>\n",
       "      <td>VU</td>\n",
       "    </tr>\n",
       "    <tr>\n",
       "      <th>119</th>\n",
       "      <td>곤충류</td>\n",
       "      <td>I</td>\n",
       "      <td>비단벌레</td>\n",
       "      <td>VU</td>\n",
       "    </tr>\n",
       "    <tr>\n",
       "      <th>120</th>\n",
       "      <td>곤충류</td>\n",
       "      <td>I</td>\n",
       "      <td>산굴뚝나비</td>\n",
       "      <td>EN</td>\n",
       "    </tr>\n",
       "  </tbody>\n",
       "</table>\n",
       "</div>"
      ],
      "text/plain": [
       "     분류군 등급       국명 국가적색목록\n",
       "118  곤충류  I  붉은점모시나비     VU\n",
       "119  곤충류  I     비단벌레     VU\n",
       "120  곤충류  I    산굴뚝나비     EN"
      ]
     },
     "metadata": {},
     "output_type": "display_data"
    },
    {
     "name": "stdout",
     "output_type": "stream",
     "text": [
      "('곤충류', 'II')\n"
     ]
    },
    {
     "data": {
      "text/html": [
       "<div>\n",
       "<style scoped>\n",
       "    .dataframe tbody tr th:only-of-type {\n",
       "        vertical-align: middle;\n",
       "    }\n",
       "\n",
       "    .dataframe tbody tr th {\n",
       "        vertical-align: top;\n",
       "    }\n",
       "\n",
       "    .dataframe thead th {\n",
       "        text-align: right;\n",
       "    }\n",
       "</style>\n",
       "<table border=\"1\" class=\"dataframe\">\n",
       "  <thead>\n",
       "    <tr style=\"text-align: right;\">\n",
       "      <th></th>\n",
       "      <th>분류군</th>\n",
       "      <th>등급</th>\n",
       "      <th>국명</th>\n",
       "      <th>국가적색목록</th>\n",
       "    </tr>\n",
       "  </thead>\n",
       "  <tbody>\n",
       "    <tr>\n",
       "      <th>124</th>\n",
       "      <td>곤충류</td>\n",
       "      <td>II</td>\n",
       "      <td>깊은산부전나비</td>\n",
       "      <td>VU</td>\n",
       "    </tr>\n",
       "    <tr>\n",
       "      <th>125</th>\n",
       "      <td>곤충류</td>\n",
       "      <td>II</td>\n",
       "      <td>꼬마잠자리</td>\n",
       "      <td>VU</td>\n",
       "    </tr>\n",
       "    <tr>\n",
       "      <th>126</th>\n",
       "      <td>곤충류</td>\n",
       "      <td>II</td>\n",
       "      <td>노란잔산잠자리</td>\n",
       "      <td>EN</td>\n",
       "    </tr>\n",
       "  </tbody>\n",
       "</table>\n",
       "</div>"
      ],
      "text/plain": [
       "     분류군  등급       국명 국가적색목록\n",
       "124  곤충류  II  깊은산부전나비     VU\n",
       "125  곤충류  II    꼬마잠자리     VU\n",
       "126  곤충류  II  노란잔산잠자리     EN"
      ]
     },
     "metadata": {},
     "output_type": "display_data"
    },
    {
     "name": "stdout",
     "output_type": "stream",
     "text": [
      "('무척추동물', 'I')\n"
     ]
    },
    {
     "data": {
      "text/html": [
       "<div>\n",
       "<style scoped>\n",
       "    .dataframe tbody tr th:only-of-type {\n",
       "        vertical-align: middle;\n",
       "    }\n",
       "\n",
       "    .dataframe tbody tr th {\n",
       "        vertical-align: top;\n",
       "    }\n",
       "\n",
       "    .dataframe thead th {\n",
       "        text-align: right;\n",
       "    }\n",
       "</style>\n",
       "<table border=\"1\" class=\"dataframe\">\n",
       "  <thead>\n",
       "    <tr style=\"text-align: right;\">\n",
       "      <th></th>\n",
       "      <th>분류군</th>\n",
       "      <th>등급</th>\n",
       "      <th>국명</th>\n",
       "      <th>국가적색목록</th>\n",
       "    </tr>\n",
       "  </thead>\n",
       "  <tbody>\n",
       "    <tr>\n",
       "      <th>144</th>\n",
       "      <td>무척추동물</td>\n",
       "      <td>I</td>\n",
       "      <td>귀이빨대칭이</td>\n",
       "      <td>VU</td>\n",
       "    </tr>\n",
       "    <tr>\n",
       "      <th>145</th>\n",
       "      <td>무척추동물</td>\n",
       "      <td>I</td>\n",
       "      <td>나팔고둥</td>\n",
       "      <td>VU</td>\n",
       "    </tr>\n",
       "    <tr>\n",
       "      <th>146</th>\n",
       "      <td>무척추동물</td>\n",
       "      <td>I</td>\n",
       "      <td>남방방게</td>\n",
       "      <td>NE</td>\n",
       "    </tr>\n",
       "  </tbody>\n",
       "</table>\n",
       "</div>"
      ],
      "text/plain": [
       "       분류군 등급      국명 국가적색목록\n",
       "144  무척추동물  I  귀이빨대칭이     VU\n",
       "145  무척추동물  I    나팔고둥     VU\n",
       "146  무척추동물  I    남방방게     NE"
      ]
     },
     "metadata": {},
     "output_type": "display_data"
    },
    {
     "name": "stdout",
     "output_type": "stream",
     "text": [
      "('무척추동물', 'II')\n"
     ]
    },
    {
     "data": {
      "text/html": [
       "<div>\n",
       "<style scoped>\n",
       "    .dataframe tbody tr th:only-of-type {\n",
       "        vertical-align: middle;\n",
       "    }\n",
       "\n",
       "    .dataframe tbody tr th {\n",
       "        vertical-align: top;\n",
       "    }\n",
       "\n",
       "    .dataframe thead th {\n",
       "        text-align: right;\n",
       "    }\n",
       "</style>\n",
       "<table border=\"1\" class=\"dataframe\">\n",
       "  <thead>\n",
       "    <tr style=\"text-align: right;\">\n",
       "      <th></th>\n",
       "      <th>분류군</th>\n",
       "      <th>등급</th>\n",
       "      <th>국명</th>\n",
       "      <th>국가적색목록</th>\n",
       "    </tr>\n",
       "  </thead>\n",
       "  <tbody>\n",
       "    <tr>\n",
       "      <th>148</th>\n",
       "      <td>무척추동물</td>\n",
       "      <td>II</td>\n",
       "      <td>갯게</td>\n",
       "      <td>NE</td>\n",
       "    </tr>\n",
       "    <tr>\n",
       "      <th>149</th>\n",
       "      <td>무척추동물</td>\n",
       "      <td>II</td>\n",
       "      <td>거제외줄달팽이</td>\n",
       "      <td>CR</td>\n",
       "    </tr>\n",
       "    <tr>\n",
       "      <th>150</th>\n",
       "      <td>무척추동물</td>\n",
       "      <td>II</td>\n",
       "      <td>검붉은수지맨드라미</td>\n",
       "      <td>NE</td>\n",
       "    </tr>\n",
       "  </tbody>\n",
       "</table>\n",
       "</div>"
      ],
      "text/plain": [
       "       분류군  등급         국명 국가적색목록\n",
       "148  무척추동물  II         갯게     NE\n",
       "149  무척추동물  II    거제외줄달팽이     CR\n",
       "150  무척추동물  II  검붉은수지맨드라미     NE"
      ]
     },
     "metadata": {},
     "output_type": "display_data"
    },
    {
     "name": "stdout",
     "output_type": "stream",
     "text": [
      "('식물', 'I')\n"
     ]
    },
    {
     "data": {
      "text/html": [
       "<div>\n",
       "<style scoped>\n",
       "    .dataframe tbody tr th:only-of-type {\n",
       "        vertical-align: middle;\n",
       "    }\n",
       "\n",
       "    .dataframe tbody tr th {\n",
       "        vertical-align: top;\n",
       "    }\n",
       "\n",
       "    .dataframe thead th {\n",
       "        text-align: right;\n",
       "    }\n",
       "</style>\n",
       "<table border=\"1\" class=\"dataframe\">\n",
       "  <thead>\n",
       "    <tr style=\"text-align: right;\">\n",
       "      <th></th>\n",
       "      <th>분류군</th>\n",
       "      <th>등급</th>\n",
       "      <th>국명</th>\n",
       "      <th>국가적색목록</th>\n",
       "    </tr>\n",
       "  </thead>\n",
       "  <tbody>\n",
       "    <tr>\n",
       "      <th>176</th>\n",
       "      <td>식물</td>\n",
       "      <td>I</td>\n",
       "      <td>광릉요강꽃</td>\n",
       "      <td>CR</td>\n",
       "    </tr>\n",
       "    <tr>\n",
       "      <th>177</th>\n",
       "      <td>식물</td>\n",
       "      <td>I</td>\n",
       "      <td>금자란</td>\n",
       "      <td>EN</td>\n",
       "    </tr>\n",
       "    <tr>\n",
       "      <th>178</th>\n",
       "      <td>식물</td>\n",
       "      <td>I</td>\n",
       "      <td>나도풍란</td>\n",
       "      <td>CR</td>\n",
       "    </tr>\n",
       "  </tbody>\n",
       "</table>\n",
       "</div>"
      ],
      "text/plain": [
       "    분류군 등급     국명 국가적색목록\n",
       "176  식물  I  광릉요강꽃     CR\n",
       "177  식물  I    금자란     EN\n",
       "178  식물  I   나도풍란     CR"
      ]
     },
     "metadata": {},
     "output_type": "display_data"
    },
    {
     "name": "stdout",
     "output_type": "stream",
     "text": [
      "('식물', 'II')\n"
     ]
    },
    {
     "data": {
      "text/html": [
       "<div>\n",
       "<style scoped>\n",
       "    .dataframe tbody tr th:only-of-type {\n",
       "        vertical-align: middle;\n",
       "    }\n",
       "\n",
       "    .dataframe tbody tr th {\n",
       "        vertical-align: top;\n",
       "    }\n",
       "\n",
       "    .dataframe thead th {\n",
       "        text-align: right;\n",
       "    }\n",
       "</style>\n",
       "<table border=\"1\" class=\"dataframe\">\n",
       "  <thead>\n",
       "    <tr style=\"text-align: right;\">\n",
       "      <th></th>\n",
       "      <th>분류군</th>\n",
       "      <th>등급</th>\n",
       "      <th>국명</th>\n",
       "      <th>국가적색목록</th>\n",
       "    </tr>\n",
       "  </thead>\n",
       "  <tbody>\n",
       "    <tr>\n",
       "      <th>187</th>\n",
       "      <td>식물</td>\n",
       "      <td>II</td>\n",
       "      <td>가는동자꽃</td>\n",
       "      <td>NE</td>\n",
       "    </tr>\n",
       "    <tr>\n",
       "      <th>188</th>\n",
       "      <td>식물</td>\n",
       "      <td>II</td>\n",
       "      <td>가시연</td>\n",
       "      <td>VU</td>\n",
       "    </tr>\n",
       "    <tr>\n",
       "      <th>189</th>\n",
       "      <td>식물</td>\n",
       "      <td>II</td>\n",
       "      <td>가시오갈피나무</td>\n",
       "      <td>VU</td>\n",
       "    </tr>\n",
       "  </tbody>\n",
       "</table>\n",
       "</div>"
      ],
      "text/plain": [
       "    분류군  등급       국명 국가적색목록\n",
       "187  식물  II    가는동자꽃     NE\n",
       "188  식물  II      가시연     VU\n",
       "189  식물  II  가시오갈피나무     VU"
      ]
     },
     "metadata": {},
     "output_type": "display_data"
    },
    {
     "name": "stdout",
     "output_type": "stream",
     "text": [
      "('양서파충류', 'I')\n"
     ]
    },
    {
     "data": {
      "text/html": [
       "<div>\n",
       "<style scoped>\n",
       "    .dataframe tbody tr th:only-of-type {\n",
       "        vertical-align: middle;\n",
       "    }\n",
       "\n",
       "    .dataframe tbody tr th {\n",
       "        vertical-align: top;\n",
       "    }\n",
       "\n",
       "    .dataframe thead th {\n",
       "        text-align: right;\n",
       "    }\n",
       "</style>\n",
       "<table border=\"1\" class=\"dataframe\">\n",
       "  <thead>\n",
       "    <tr style=\"text-align: right;\">\n",
       "      <th></th>\n",
       "      <th>분류군</th>\n",
       "      <th>등급</th>\n",
       "      <th>국명</th>\n",
       "      <th>국가적색목록</th>\n",
       "    </tr>\n",
       "  </thead>\n",
       "  <tbody>\n",
       "    <tr>\n",
       "      <th>83</th>\n",
       "      <td>양서파충류</td>\n",
       "      <td>I</td>\n",
       "      <td>비바리뱀</td>\n",
       "      <td>EN</td>\n",
       "    </tr>\n",
       "    <tr>\n",
       "      <th>84</th>\n",
       "      <td>양서파충류</td>\n",
       "      <td>I</td>\n",
       "      <td>수원청개구리</td>\n",
       "      <td>EN</td>\n",
       "    </tr>\n",
       "  </tbody>\n",
       "</table>\n",
       "</div>"
      ],
      "text/plain": [
       "      분류군 등급      국명 국가적색목록\n",
       "83  양서파충류  I    비바리뱀     EN\n",
       "84  양서파충류  I  수원청개구리     EN"
      ]
     },
     "metadata": {},
     "output_type": "display_data"
    },
    {
     "name": "stdout",
     "output_type": "stream",
     "text": [
      "('양서파충류', 'II')\n"
     ]
    },
    {
     "data": {
      "text/html": [
       "<div>\n",
       "<style scoped>\n",
       "    .dataframe tbody tr th:only-of-type {\n",
       "        vertical-align: middle;\n",
       "    }\n",
       "\n",
       "    .dataframe tbody tr th {\n",
       "        vertical-align: top;\n",
       "    }\n",
       "\n",
       "    .dataframe thead th {\n",
       "        text-align: right;\n",
       "    }\n",
       "</style>\n",
       "<table border=\"1\" class=\"dataframe\">\n",
       "  <thead>\n",
       "    <tr style=\"text-align: right;\">\n",
       "      <th></th>\n",
       "      <th>분류군</th>\n",
       "      <th>등급</th>\n",
       "      <th>국명</th>\n",
       "      <th>국가적색목록</th>\n",
       "    </tr>\n",
       "  </thead>\n",
       "  <tbody>\n",
       "    <tr>\n",
       "      <th>85</th>\n",
       "      <td>양서파충류</td>\n",
       "      <td>II</td>\n",
       "      <td>고리도룡뇽</td>\n",
       "      <td>EN</td>\n",
       "    </tr>\n",
       "    <tr>\n",
       "      <th>86</th>\n",
       "      <td>양서파충류</td>\n",
       "      <td>II</td>\n",
       "      <td>구렁이</td>\n",
       "      <td>EN</td>\n",
       "    </tr>\n",
       "    <tr>\n",
       "      <th>87</th>\n",
       "      <td>양서파충류</td>\n",
       "      <td>II</td>\n",
       "      <td>금개구리</td>\n",
       "      <td>VU</td>\n",
       "    </tr>\n",
       "  </tbody>\n",
       "</table>\n",
       "</div>"
      ],
      "text/plain": [
       "      분류군  등급     국명 국가적색목록\n",
       "85  양서파충류  II  고리도룡뇽     EN\n",
       "86  양서파충류  II    구렁이     EN\n",
       "87  양서파충류  II   금개구리     VU"
      ]
     },
     "metadata": {},
     "output_type": "display_data"
    },
    {
     "name": "stdout",
     "output_type": "stream",
     "text": [
      "('어류', 'I')\n"
     ]
    },
    {
     "data": {
      "text/html": [
       "<div>\n",
       "<style scoped>\n",
       "    .dataframe tbody tr th:only-of-type {\n",
       "        vertical-align: middle;\n",
       "    }\n",
       "\n",
       "    .dataframe tbody tr th {\n",
       "        vertical-align: top;\n",
       "    }\n",
       "\n",
       "    .dataframe thead th {\n",
       "        text-align: right;\n",
       "    }\n",
       "</style>\n",
       "<table border=\"1\" class=\"dataframe\">\n",
       "  <thead>\n",
       "    <tr style=\"text-align: right;\">\n",
       "      <th></th>\n",
       "      <th>분류군</th>\n",
       "      <th>등급</th>\n",
       "      <th>국명</th>\n",
       "      <th>국가적색목록</th>\n",
       "    </tr>\n",
       "  </thead>\n",
       "  <tbody>\n",
       "    <tr>\n",
       "      <th>91</th>\n",
       "      <td>어류</td>\n",
       "      <td>I</td>\n",
       "      <td>감돌고기</td>\n",
       "      <td>EN</td>\n",
       "    </tr>\n",
       "    <tr>\n",
       "      <th>92</th>\n",
       "      <td>어류</td>\n",
       "      <td>I</td>\n",
       "      <td>꼬치동자개</td>\n",
       "      <td>EN</td>\n",
       "    </tr>\n",
       "    <tr>\n",
       "      <th>93</th>\n",
       "      <td>어류</td>\n",
       "      <td>I</td>\n",
       "      <td>남방동사리</td>\n",
       "      <td>CR</td>\n",
       "    </tr>\n",
       "  </tbody>\n",
       "</table>\n",
       "</div>"
      ],
      "text/plain": [
       "   분류군 등급     국명 국가적색목록\n",
       "91  어류  I   감돌고기     EN\n",
       "92  어류  I  꼬치동자개     EN\n",
       "93  어류  I  남방동사리     CR"
      ]
     },
     "metadata": {},
     "output_type": "display_data"
    },
    {
     "name": "stdout",
     "output_type": "stream",
     "text": [
      "('어류', 'II')\n"
     ]
    },
    {
     "data": {
      "text/html": [
       "<div>\n",
       "<style scoped>\n",
       "    .dataframe tbody tr th:only-of-type {\n",
       "        vertical-align: middle;\n",
       "    }\n",
       "\n",
       "    .dataframe tbody tr th {\n",
       "        vertical-align: top;\n",
       "    }\n",
       "\n",
       "    .dataframe thead th {\n",
       "        text-align: right;\n",
       "    }\n",
       "</style>\n",
       "<table border=\"1\" class=\"dataframe\">\n",
       "  <thead>\n",
       "    <tr style=\"text-align: right;\">\n",
       "      <th></th>\n",
       "      <th>분류군</th>\n",
       "      <th>등급</th>\n",
       "      <th>국명</th>\n",
       "      <th>국가적색목록</th>\n",
       "    </tr>\n",
       "  </thead>\n",
       "  <tbody>\n",
       "    <tr>\n",
       "      <th>102</th>\n",
       "      <td>어류</td>\n",
       "      <td>II</td>\n",
       "      <td>가는돌고기</td>\n",
       "      <td>NT</td>\n",
       "    </tr>\n",
       "    <tr>\n",
       "      <th>103</th>\n",
       "      <td>어류</td>\n",
       "      <td>II</td>\n",
       "      <td>가시고기</td>\n",
       "      <td>VU</td>\n",
       "    </tr>\n",
       "    <tr>\n",
       "      <th>104</th>\n",
       "      <td>어류</td>\n",
       "      <td>II</td>\n",
       "      <td>꺽저기</td>\n",
       "      <td>EN</td>\n",
       "    </tr>\n",
       "  </tbody>\n",
       "</table>\n",
       "</div>"
      ],
      "text/plain": [
       "    분류군  등급     국명 국가적색목록\n",
       "102  어류  II  가는돌고기     NT\n",
       "103  어류  II   가시고기     VU\n",
       "104  어류  II    꺽저기     EN"
      ]
     },
     "metadata": {},
     "output_type": "display_data"
    },
    {
     "name": "stdout",
     "output_type": "stream",
     "text": [
      "('조류', 'I')\n"
     ]
    },
    {
     "data": {
      "text/html": [
       "<div>\n",
       "<style scoped>\n",
       "    .dataframe tbody tr th:only-of-type {\n",
       "        vertical-align: middle;\n",
       "    }\n",
       "\n",
       "    .dataframe tbody tr th {\n",
       "        vertical-align: top;\n",
       "    }\n",
       "\n",
       "    .dataframe thead th {\n",
       "        text-align: right;\n",
       "    }\n",
       "</style>\n",
       "<table border=\"1\" class=\"dataframe\">\n",
       "  <thead>\n",
       "    <tr style=\"text-align: right;\">\n",
       "      <th></th>\n",
       "      <th>분류군</th>\n",
       "      <th>등급</th>\n",
       "      <th>국명</th>\n",
       "      <th>국가적색목록</th>\n",
       "    </tr>\n",
       "  </thead>\n",
       "  <tbody>\n",
       "    <tr>\n",
       "      <th>20</th>\n",
       "      <td>조류</td>\n",
       "      <td>I</td>\n",
       "      <td>검독수리</td>\n",
       "      <td>EN</td>\n",
       "    </tr>\n",
       "    <tr>\n",
       "      <th>21</th>\n",
       "      <td>조류</td>\n",
       "      <td>I</td>\n",
       "      <td>넓적부리도요</td>\n",
       "      <td>CR</td>\n",
       "    </tr>\n",
       "    <tr>\n",
       "      <th>22</th>\n",
       "      <td>조류</td>\n",
       "      <td>I</td>\n",
       "      <td>노랑부리백로</td>\n",
       "      <td>EN</td>\n",
       "    </tr>\n",
       "  </tbody>\n",
       "</table>\n",
       "</div>"
      ],
      "text/plain": [
       "   분류군 등급      국명 국가적색목록\n",
       "20  조류  I    검독수리     EN\n",
       "21  조류  I  넓적부리도요     CR\n",
       "22  조류  I  노랑부리백로     EN"
      ]
     },
     "metadata": {},
     "output_type": "display_data"
    },
    {
     "name": "stdout",
     "output_type": "stream",
     "text": [
      "('조류', 'II')\n"
     ]
    },
    {
     "data": {
      "text/html": [
       "<div>\n",
       "<style scoped>\n",
       "    .dataframe tbody tr th:only-of-type {\n",
       "        vertical-align: middle;\n",
       "    }\n",
       "\n",
       "    .dataframe tbody tr th {\n",
       "        vertical-align: top;\n",
       "    }\n",
       "\n",
       "    .dataframe thead th {\n",
       "        text-align: right;\n",
       "    }\n",
       "</style>\n",
       "<table border=\"1\" class=\"dataframe\">\n",
       "  <thead>\n",
       "    <tr style=\"text-align: right;\">\n",
       "      <th></th>\n",
       "      <th>분류군</th>\n",
       "      <th>등급</th>\n",
       "      <th>국명</th>\n",
       "      <th>국가적색목록</th>\n",
       "    </tr>\n",
       "  </thead>\n",
       "  <tbody>\n",
       "    <tr>\n",
       "      <th>34</th>\n",
       "      <td>조류</td>\n",
       "      <td>II</td>\n",
       "      <td>개리</td>\n",
       "      <td>EN</td>\n",
       "    </tr>\n",
       "    <tr>\n",
       "      <th>35</th>\n",
       "      <td>조류</td>\n",
       "      <td>II</td>\n",
       "      <td>검은머리갈매기</td>\n",
       "      <td>EN</td>\n",
       "    </tr>\n",
       "    <tr>\n",
       "      <th>36</th>\n",
       "      <td>조류</td>\n",
       "      <td>II</td>\n",
       "      <td>검은머리물떼새</td>\n",
       "      <td>VU</td>\n",
       "    </tr>\n",
       "  </tbody>\n",
       "</table>\n",
       "</div>"
      ],
      "text/plain": [
       "   분류군  등급       국명 국가적색목록\n",
       "34  조류  II       개리     EN\n",
       "35  조류  II  검은머리갈매기     EN\n",
       "36  조류  II  검은머리물떼새     VU"
      ]
     },
     "metadata": {},
     "output_type": "display_data"
    },
    {
     "name": "stdout",
     "output_type": "stream",
     "text": [
      "('포유류', 'I')\n"
     ]
    },
    {
     "data": {
      "text/html": [
       "<div>\n",
       "<style scoped>\n",
       "    .dataframe tbody tr th:only-of-type {\n",
       "        vertical-align: middle;\n",
       "    }\n",
       "\n",
       "    .dataframe tbody tr th {\n",
       "        vertical-align: top;\n",
       "    }\n",
       "\n",
       "    .dataframe thead th {\n",
       "        text-align: right;\n",
       "    }\n",
       "</style>\n",
       "<table border=\"1\" class=\"dataframe\">\n",
       "  <thead>\n",
       "    <tr style=\"text-align: right;\">\n",
       "      <th></th>\n",
       "      <th>분류군</th>\n",
       "      <th>등급</th>\n",
       "      <th>국명</th>\n",
       "      <th>국가적색목록</th>\n",
       "    </tr>\n",
       "  </thead>\n",
       "  <tbody>\n",
       "    <tr>\n",
       "      <th>0</th>\n",
       "      <td>포유류</td>\n",
       "      <td>I</td>\n",
       "      <td>늑대</td>\n",
       "      <td>RE</td>\n",
       "    </tr>\n",
       "    <tr>\n",
       "      <th>1</th>\n",
       "      <td>포유류</td>\n",
       "      <td>I</td>\n",
       "      <td>대륙사슴</td>\n",
       "      <td>RE</td>\n",
       "    </tr>\n",
       "    <tr>\n",
       "      <th>2</th>\n",
       "      <td>포유류</td>\n",
       "      <td>I</td>\n",
       "      <td>반달가슴곰</td>\n",
       "      <td>EN</td>\n",
       "    </tr>\n",
       "  </tbody>\n",
       "</table>\n",
       "</div>"
      ],
      "text/plain": [
       "   분류군 등급     국명 국가적색목록\n",
       "0  포유류  I     늑대     RE\n",
       "1  포유류  I   대륙사슴     RE\n",
       "2  포유류  I  반달가슴곰     EN"
      ]
     },
     "metadata": {},
     "output_type": "display_data"
    },
    {
     "name": "stdout",
     "output_type": "stream",
     "text": [
      "('포유류', 'II')\n"
     ]
    },
    {
     "data": {
      "text/html": [
       "<div>\n",
       "<style scoped>\n",
       "    .dataframe tbody tr th:only-of-type {\n",
       "        vertical-align: middle;\n",
       "    }\n",
       "\n",
       "    .dataframe tbody tr th {\n",
       "        vertical-align: top;\n",
       "    }\n",
       "\n",
       "    .dataframe thead th {\n",
       "        text-align: right;\n",
       "    }\n",
       "</style>\n",
       "<table border=\"1\" class=\"dataframe\">\n",
       "  <thead>\n",
       "    <tr style=\"text-align: right;\">\n",
       "      <th></th>\n",
       "      <th>분류군</th>\n",
       "      <th>등급</th>\n",
       "      <th>국명</th>\n",
       "      <th>국가적색목록</th>\n",
       "    </tr>\n",
       "  </thead>\n",
       "  <tbody>\n",
       "    <tr>\n",
       "      <th>12</th>\n",
       "      <td>포유류</td>\n",
       "      <td>II</td>\n",
       "      <td>담비</td>\n",
       "      <td>VU</td>\n",
       "    </tr>\n",
       "    <tr>\n",
       "      <th>13</th>\n",
       "      <td>포유류</td>\n",
       "      <td>II</td>\n",
       "      <td>무산쇠족제비</td>\n",
       "      <td>VU</td>\n",
       "    </tr>\n",
       "    <tr>\n",
       "      <th>14</th>\n",
       "      <td>포유류</td>\n",
       "      <td>II</td>\n",
       "      <td>물개</td>\n",
       "      <td>VU</td>\n",
       "    </tr>\n",
       "  </tbody>\n",
       "</table>\n",
       "</div>"
      ],
      "text/plain": [
       "    분류군  등급      국명 국가적색목록\n",
       "12  포유류  II      담비     VU\n",
       "13  포유류  II  무산쇠족제비     VU\n",
       "14  포유류  II      물개     VU"
      ]
     },
     "metadata": {},
     "output_type": "display_data"
    },
    {
     "name": "stdout",
     "output_type": "stream",
     "text": [
      "('해조류', 'II')\n"
     ]
    },
    {
     "data": {
      "text/html": [
       "<div>\n",
       "<style scoped>\n",
       "    .dataframe tbody tr th:only-of-type {\n",
       "        vertical-align: middle;\n",
       "    }\n",
       "\n",
       "    .dataframe tbody tr th {\n",
       "        vertical-align: top;\n",
       "    }\n",
       "\n",
       "    .dataframe thead th {\n",
       "        text-align: right;\n",
       "    }\n",
       "</style>\n",
       "<table border=\"1\" class=\"dataframe\">\n",
       "  <thead>\n",
       "    <tr style=\"text-align: right;\">\n",
       "      <th></th>\n",
       "      <th>분류군</th>\n",
       "      <th>등급</th>\n",
       "      <th>국명</th>\n",
       "      <th>국가적색목록</th>\n",
       "    </tr>\n",
       "  </thead>\n",
       "  <tbody>\n",
       "    <tr>\n",
       "      <th>264</th>\n",
       "      <td>해조류</td>\n",
       "      <td>II</td>\n",
       "      <td>그물공말</td>\n",
       "      <td>NE</td>\n",
       "    </tr>\n",
       "    <tr>\n",
       "      <th>265</th>\n",
       "      <td>해조류</td>\n",
       "      <td>II</td>\n",
       "      <td>삼나무말</td>\n",
       "      <td>NE</td>\n",
       "    </tr>\n",
       "  </tbody>\n",
       "</table>\n",
       "</div>"
      ],
      "text/plain": [
       "     분류군  등급    국명 국가적색목록\n",
       "264  해조류  II  그물공말     NE\n",
       "265  해조류  II  삼나무말     NE"
      ]
     },
     "metadata": {},
     "output_type": "display_data"
    }
   ],
   "source": [
    "#분류군과 등급을 그룹으로 묶고 display함수를 사용해 출력\n",
    "species = species[['분류군', '등급', '국명', '국가적색목록']]\n",
    "\n",
    "a = species.groupby(['분류군', '등급'])\n",
    "\n",
    "for n, g in a:\n",
    "    print(n)\n",
    "    display(g.head(3))"
   ]
  },
  {
   "cell_type": "code",
   "execution_count": 18,
   "metadata": {},
   "outputs": [
    {
     "name": "stdout",
     "output_type": "stream",
     "text": [
      "('고등균류', 'NE')\n"
     ]
    },
    {
     "data": {
      "text/html": [
       "<div>\n",
       "<style scoped>\n",
       "    .dataframe tbody tr th:only-of-type {\n",
       "        vertical-align: middle;\n",
       "    }\n",
       "\n",
       "    .dataframe tbody tr th {\n",
       "        vertical-align: top;\n",
       "    }\n",
       "\n",
       "    .dataframe thead th {\n",
       "        text-align: right;\n",
       "    }\n",
       "</style>\n",
       "<table border=\"1\" class=\"dataframe\">\n",
       "  <thead>\n",
       "    <tr style=\"text-align: right;\">\n",
       "      <th></th>\n",
       "      <th>분류군</th>\n",
       "      <th>등급</th>\n",
       "      <th>국명</th>\n",
       "      <th>국가적색목록</th>\n",
       "    </tr>\n",
       "  </thead>\n",
       "  <tbody>\n",
       "    <tr>\n",
       "      <th>266</th>\n",
       "      <td>고등균류</td>\n",
       "      <td>II</td>\n",
       "      <td>화경버섯</td>\n",
       "      <td>NE</td>\n",
       "    </tr>\n",
       "  </tbody>\n",
       "</table>\n",
       "</div>"
      ],
      "text/plain": [
       "      분류군  등급    국명 국가적색목록\n",
       "266  고등균류  II  화경버섯     NE"
      ]
     },
     "metadata": {},
     "output_type": "display_data"
    },
    {
     "name": "stdout",
     "output_type": "stream",
     "text": [
      "('곤충류', 'CR')\n"
     ]
    },
    {
     "data": {
      "text/html": [
       "<div>\n",
       "<style scoped>\n",
       "    .dataframe tbody tr th:only-of-type {\n",
       "        vertical-align: middle;\n",
       "    }\n",
       "\n",
       "    .dataframe tbody tr th {\n",
       "        vertical-align: top;\n",
       "    }\n",
       "\n",
       "    .dataframe thead th {\n",
       "        text-align: right;\n",
       "    }\n",
       "</style>\n",
       "<table border=\"1\" class=\"dataframe\">\n",
       "  <thead>\n",
       "    <tr style=\"text-align: right;\">\n",
       "      <th></th>\n",
       "      <th>분류군</th>\n",
       "      <th>등급</th>\n",
       "      <th>국명</th>\n",
       "      <th>국가적색목록</th>\n",
       "    </tr>\n",
       "  </thead>\n",
       "  <tbody>\n",
       "    <tr>\n",
       "      <th>121</th>\n",
       "      <td>곤충류</td>\n",
       "      <td>I</td>\n",
       "      <td>상제나비</td>\n",
       "      <td>CR</td>\n",
       "    </tr>\n",
       "    <tr>\n",
       "      <th>122</th>\n",
       "      <td>곤충류</td>\n",
       "      <td>I</td>\n",
       "      <td>수염풍뎅이</td>\n",
       "      <td>CR</td>\n",
       "    </tr>\n",
       "    <tr>\n",
       "      <th>123</th>\n",
       "      <td>곤충류</td>\n",
       "      <td>I</td>\n",
       "      <td>장수하늘소</td>\n",
       "      <td>CR</td>\n",
       "    </tr>\n",
       "  </tbody>\n",
       "</table>\n",
       "</div>"
      ],
      "text/plain": [
       "     분류군 등급     국명 국가적색목록\n",
       "121  곤충류  I   상제나비     CR\n",
       "122  곤충류  I  수염풍뎅이     CR\n",
       "123  곤충류  I  장수하늘소     CR"
      ]
     },
     "metadata": {},
     "output_type": "display_data"
    },
    {
     "name": "stdout",
     "output_type": "stream",
     "text": [
      "('곤충류', 'EN')\n"
     ]
    },
    {
     "data": {
      "text/html": [
       "<div>\n",
       "<style scoped>\n",
       "    .dataframe tbody tr th:only-of-type {\n",
       "        vertical-align: middle;\n",
       "    }\n",
       "\n",
       "    .dataframe tbody tr th {\n",
       "        vertical-align: top;\n",
       "    }\n",
       "\n",
       "    .dataframe thead th {\n",
       "        text-align: right;\n",
       "    }\n",
       "</style>\n",
       "<table border=\"1\" class=\"dataframe\">\n",
       "  <thead>\n",
       "    <tr style=\"text-align: right;\">\n",
       "      <th></th>\n",
       "      <th>분류군</th>\n",
       "      <th>등급</th>\n",
       "      <th>국명</th>\n",
       "      <th>국가적색목록</th>\n",
       "    </tr>\n",
       "  </thead>\n",
       "  <tbody>\n",
       "    <tr>\n",
       "      <th>120</th>\n",
       "      <td>곤충류</td>\n",
       "      <td>I</td>\n",
       "      <td>산굴뚝나비</td>\n",
       "      <td>EN</td>\n",
       "    </tr>\n",
       "    <tr>\n",
       "      <th>126</th>\n",
       "      <td>곤충류</td>\n",
       "      <td>II</td>\n",
       "      <td>노란잔산잠자리</td>\n",
       "      <td>EN</td>\n",
       "    </tr>\n",
       "    <tr>\n",
       "      <th>127</th>\n",
       "      <td>곤충류</td>\n",
       "      <td>II</td>\n",
       "      <td>닻무늬길앞잡이</td>\n",
       "      <td>EN</td>\n",
       "    </tr>\n",
       "  </tbody>\n",
       "</table>\n",
       "</div>"
      ],
      "text/plain": [
       "     분류군  등급       국명 국가적색목록\n",
       "120  곤충류   I    산굴뚝나비     EN\n",
       "126  곤충류  II  노란잔산잠자리     EN\n",
       "127  곤충류  II  닻무늬길앞잡이     EN"
      ]
     },
     "metadata": {},
     "output_type": "display_data"
    },
    {
     "name": "stdout",
     "output_type": "stream",
     "text": [
      "('곤충류', 'LC')\n"
     ]
    },
    {
     "data": {
      "text/html": [
       "<div>\n",
       "<style scoped>\n",
       "    .dataframe tbody tr th:only-of-type {\n",
       "        vertical-align: middle;\n",
       "    }\n",
       "\n",
       "    .dataframe tbody tr th {\n",
       "        vertical-align: top;\n",
       "    }\n",
       "\n",
       "    .dataframe thead th {\n",
       "        text-align: right;\n",
       "    }\n",
       "</style>\n",
       "<table border=\"1\" class=\"dataframe\">\n",
       "  <thead>\n",
       "    <tr style=\"text-align: right;\">\n",
       "      <th></th>\n",
       "      <th>분류군</th>\n",
       "      <th>등급</th>\n",
       "      <th>국명</th>\n",
       "      <th>국가적색목록</th>\n",
       "    </tr>\n",
       "  </thead>\n",
       "  <tbody>\n",
       "    <tr>\n",
       "      <th>136</th>\n",
       "      <td>곤충류</td>\n",
       "      <td>II</td>\n",
       "      <td>애기뿔소똥구리</td>\n",
       "      <td>LC</td>\n",
       "    </tr>\n",
       "  </tbody>\n",
       "</table>\n",
       "</div>"
      ],
      "text/plain": [
       "     분류군  등급       국명 국가적색목록\n",
       "136  곤충류  II  애기뿔소똥구리     LC"
      ]
     },
     "metadata": {},
     "output_type": "display_data"
    },
    {
     "name": "stdout",
     "output_type": "stream",
     "text": [
      "('곤충류', 'NE')\n"
     ]
    },
    {
     "data": {
      "text/html": [
       "<div>\n",
       "<style scoped>\n",
       "    .dataframe tbody tr th:only-of-type {\n",
       "        vertical-align: middle;\n",
       "    }\n",
       "\n",
       "    .dataframe tbody tr th {\n",
       "        vertical-align: top;\n",
       "    }\n",
       "\n",
       "    .dataframe thead th {\n",
       "        text-align: right;\n",
       "    }\n",
       "</style>\n",
       "<table border=\"1\" class=\"dataframe\">\n",
       "  <thead>\n",
       "    <tr style=\"text-align: right;\">\n",
       "      <th></th>\n",
       "      <th>분류군</th>\n",
       "      <th>등급</th>\n",
       "      <th>국명</th>\n",
       "      <th>국가적색목록</th>\n",
       "    </tr>\n",
       "  </thead>\n",
       "  <tbody>\n",
       "    <tr>\n",
       "      <th>130</th>\n",
       "      <td>곤충류</td>\n",
       "      <td>II</td>\n",
       "      <td>뚱보주름메뚜리</td>\n",
       "      <td>NE</td>\n",
       "    </tr>\n",
       "    <tr>\n",
       "      <th>133</th>\n",
       "      <td>곤충류</td>\n",
       "      <td>II</td>\n",
       "      <td>물장군</td>\n",
       "      <td>NE</td>\n",
       "    </tr>\n",
       "    <tr>\n",
       "      <th>140</th>\n",
       "      <td>곤충류</td>\n",
       "      <td>II</td>\n",
       "      <td>참호박뒤영벌</td>\n",
       "      <td>NE</td>\n",
       "    </tr>\n",
       "  </tbody>\n",
       "</table>\n",
       "</div>"
      ],
      "text/plain": [
       "     분류군  등급       국명 국가적색목록\n",
       "130  곤충류  II  뚱보주름메뚜리     NE\n",
       "133  곤충류  II      물장군     NE\n",
       "140  곤충류  II   참호박뒤영벌     NE"
      ]
     },
     "metadata": {},
     "output_type": "display_data"
    },
    {
     "name": "stdout",
     "output_type": "stream",
     "text": [
      "('곤충류', 'NT')\n"
     ]
    },
    {
     "data": {
      "text/html": [
       "<div>\n",
       "<style scoped>\n",
       "    .dataframe tbody tr th:only-of-type {\n",
       "        vertical-align: middle;\n",
       "    }\n",
       "\n",
       "    .dataframe tbody tr th {\n",
       "        vertical-align: top;\n",
       "    }\n",
       "\n",
       "    .dataframe thead th {\n",
       "        text-align: right;\n",
       "    }\n",
       "</style>\n",
       "<table border=\"1\" class=\"dataframe\">\n",
       "  <thead>\n",
       "    <tr style=\"text-align: right;\">\n",
       "      <th></th>\n",
       "      <th>분류군</th>\n",
       "      <th>등급</th>\n",
       "      <th>국명</th>\n",
       "      <th>국가적색목록</th>\n",
       "    </tr>\n",
       "  </thead>\n",
       "  <tbody>\n",
       "    <tr>\n",
       "      <th>131</th>\n",
       "      <td>곤충류</td>\n",
       "      <td>II</td>\n",
       "      <td>멋조롱박딱정벌레</td>\n",
       "      <td>NT</td>\n",
       "    </tr>\n",
       "    <tr>\n",
       "      <th>132</th>\n",
       "      <td>곤충류</td>\n",
       "      <td>II</td>\n",
       "      <td>물방개</td>\n",
       "      <td>NT</td>\n",
       "    </tr>\n",
       "  </tbody>\n",
       "</table>\n",
       "</div>"
      ],
      "text/plain": [
       "     분류군  등급        국명 국가적색목록\n",
       "131  곤충류  II  멋조롱박딱정벌레     NT\n",
       "132  곤충류  II       물방개     NT"
      ]
     },
     "metadata": {},
     "output_type": "display_data"
    },
    {
     "name": "stdout",
     "output_type": "stream",
     "text": [
      "('곤충류', 'RE')\n"
     ]
    },
    {
     "data": {
      "text/html": [
       "<div>\n",
       "<style scoped>\n",
       "    .dataframe tbody tr th:only-of-type {\n",
       "        vertical-align: middle;\n",
       "    }\n",
       "\n",
       "    .dataframe tbody tr th {\n",
       "        vertical-align: top;\n",
       "    }\n",
       "\n",
       "    .dataframe thead th {\n",
       "        text-align: right;\n",
       "    }\n",
       "</style>\n",
       "<table border=\"1\" class=\"dataframe\">\n",
       "  <thead>\n",
       "    <tr style=\"text-align: right;\">\n",
       "      <th></th>\n",
       "      <th>분류군</th>\n",
       "      <th>등급</th>\n",
       "      <th>국명</th>\n",
       "      <th>국가적색목록</th>\n",
       "    </tr>\n",
       "  </thead>\n",
       "  <tbody>\n",
       "    <tr>\n",
       "      <th>134</th>\n",
       "      <td>곤충류</td>\n",
       "      <td>II</td>\n",
       "      <td>소똥구리</td>\n",
       "      <td>RE</td>\n",
       "    </tr>\n",
       "  </tbody>\n",
       "</table>\n",
       "</div>"
      ],
      "text/plain": [
       "     분류군  등급    국명 국가적색목록\n",
       "134  곤충류  II  소똥구리     RE"
      ]
     },
     "metadata": {},
     "output_type": "display_data"
    },
    {
     "name": "stdout",
     "output_type": "stream",
     "text": [
      "('곤충류', 'VU')\n"
     ]
    },
    {
     "data": {
      "text/html": [
       "<div>\n",
       "<style scoped>\n",
       "    .dataframe tbody tr th:only-of-type {\n",
       "        vertical-align: middle;\n",
       "    }\n",
       "\n",
       "    .dataframe tbody tr th {\n",
       "        vertical-align: top;\n",
       "    }\n",
       "\n",
       "    .dataframe thead th {\n",
       "        text-align: right;\n",
       "    }\n",
       "</style>\n",
       "<table border=\"1\" class=\"dataframe\">\n",
       "  <thead>\n",
       "    <tr style=\"text-align: right;\">\n",
       "      <th></th>\n",
       "      <th>분류군</th>\n",
       "      <th>등급</th>\n",
       "      <th>국명</th>\n",
       "      <th>국가적색목록</th>\n",
       "    </tr>\n",
       "  </thead>\n",
       "  <tbody>\n",
       "    <tr>\n",
       "      <th>118</th>\n",
       "      <td>곤충류</td>\n",
       "      <td>I</td>\n",
       "      <td>붉은점모시나비</td>\n",
       "      <td>VU</td>\n",
       "    </tr>\n",
       "    <tr>\n",
       "      <th>119</th>\n",
       "      <td>곤충류</td>\n",
       "      <td>I</td>\n",
       "      <td>비단벌레</td>\n",
       "      <td>VU</td>\n",
       "    </tr>\n",
       "    <tr>\n",
       "      <th>124</th>\n",
       "      <td>곤충류</td>\n",
       "      <td>II</td>\n",
       "      <td>깊은산부전나비</td>\n",
       "      <td>VU</td>\n",
       "    </tr>\n",
       "  </tbody>\n",
       "</table>\n",
       "</div>"
      ],
      "text/plain": [
       "     분류군  등급       국명 국가적색목록\n",
       "118  곤충류   I  붉은점모시나비     VU\n",
       "119  곤충류   I     비단벌레     VU\n",
       "124  곤충류  II  깊은산부전나비     VU"
      ]
     },
     "metadata": {},
     "output_type": "display_data"
    },
    {
     "name": "stdout",
     "output_type": "stream",
     "text": [
      "('무척추동물', 'CR')\n"
     ]
    },
    {
     "data": {
      "text/html": [
       "<div>\n",
       "<style scoped>\n",
       "    .dataframe tbody tr th:only-of-type {\n",
       "        vertical-align: middle;\n",
       "    }\n",
       "\n",
       "    .dataframe tbody tr th {\n",
       "        vertical-align: top;\n",
       "    }\n",
       "\n",
       "    .dataframe thead th {\n",
       "        text-align: right;\n",
       "    }\n",
       "</style>\n",
       "<table border=\"1\" class=\"dataframe\">\n",
       "  <thead>\n",
       "    <tr style=\"text-align: right;\">\n",
       "      <th></th>\n",
       "      <th>분류군</th>\n",
       "      <th>등급</th>\n",
       "      <th>국명</th>\n",
       "      <th>국가적색목록</th>\n",
       "    </tr>\n",
       "  </thead>\n",
       "  <tbody>\n",
       "    <tr>\n",
       "      <th>147</th>\n",
       "      <td>무척추동물</td>\n",
       "      <td>I</td>\n",
       "      <td>두드럭조개</td>\n",
       "      <td>CR</td>\n",
       "    </tr>\n",
       "    <tr>\n",
       "      <th>149</th>\n",
       "      <td>무척추동물</td>\n",
       "      <td>II</td>\n",
       "      <td>거제외줄달팽이</td>\n",
       "      <td>CR</td>\n",
       "    </tr>\n",
       "    <tr>\n",
       "      <th>157</th>\n",
       "      <td>무척추동물</td>\n",
       "      <td>II</td>\n",
       "      <td>물거미</td>\n",
       "      <td>CR</td>\n",
       "    </tr>\n",
       "  </tbody>\n",
       "</table>\n",
       "</div>"
      ],
      "text/plain": [
       "       분류군  등급       국명 국가적색목록\n",
       "147  무척추동물   I    두드럭조개     CR\n",
       "149  무척추동물  II  거제외줄달팽이     CR\n",
       "157  무척추동물  II      물거미     CR"
      ]
     },
     "metadata": {},
     "output_type": "display_data"
    },
    {
     "name": "stdout",
     "output_type": "stream",
     "text": [
      "('무척추동물', 'EN')\n"
     ]
    },
    {
     "data": {
      "text/html": [
       "<div>\n",
       "<style scoped>\n",
       "    .dataframe tbody tr th:only-of-type {\n",
       "        vertical-align: middle;\n",
       "    }\n",
       "\n",
       "    .dataframe tbody tr th {\n",
       "        vertical-align: top;\n",
       "    }\n",
       "\n",
       "    .dataframe thead th {\n",
       "        text-align: right;\n",
       "    }\n",
       "</style>\n",
       "<table border=\"1\" class=\"dataframe\">\n",
       "  <thead>\n",
       "    <tr style=\"text-align: right;\">\n",
       "      <th></th>\n",
       "      <th>분류군</th>\n",
       "      <th>등급</th>\n",
       "      <th>국명</th>\n",
       "      <th>국가적색목록</th>\n",
       "    </tr>\n",
       "  </thead>\n",
       "  <tbody>\n",
       "    <tr>\n",
       "      <th>163</th>\n",
       "      <td>무척추동물</td>\n",
       "      <td>II</td>\n",
       "      <td>염주알다슬기</td>\n",
       "      <td>EN</td>\n",
       "    </tr>\n",
       "    <tr>\n",
       "      <th>170</th>\n",
       "      <td>무척추동물</td>\n",
       "      <td>II</td>\n",
       "      <td>참달팽이</td>\n",
       "      <td>EN</td>\n",
       "    </tr>\n",
       "  </tbody>\n",
       "</table>\n",
       "</div>"
      ],
      "text/plain": [
       "       분류군  등급      국명 국가적색목록\n",
       "163  무척추동물  II  염주알다슬기     EN\n",
       "170  무척추동물  II    참달팽이     EN"
      ]
     },
     "metadata": {},
     "output_type": "display_data"
    },
    {
     "name": "stdout",
     "output_type": "stream",
     "text": [
      "('무척추동물', 'NE')\n"
     ]
    },
    {
     "data": {
      "text/html": [
       "<div>\n",
       "<style scoped>\n",
       "    .dataframe tbody tr th:only-of-type {\n",
       "        vertical-align: middle;\n",
       "    }\n",
       "\n",
       "    .dataframe tbody tr th {\n",
       "        vertical-align: top;\n",
       "    }\n",
       "\n",
       "    .dataframe thead th {\n",
       "        text-align: right;\n",
       "    }\n",
       "</style>\n",
       "<table border=\"1\" class=\"dataframe\">\n",
       "  <thead>\n",
       "    <tr style=\"text-align: right;\">\n",
       "      <th></th>\n",
       "      <th>분류군</th>\n",
       "      <th>등급</th>\n",
       "      <th>국명</th>\n",
       "      <th>국가적색목록</th>\n",
       "    </tr>\n",
       "  </thead>\n",
       "  <tbody>\n",
       "    <tr>\n",
       "      <th>146</th>\n",
       "      <td>무척추동물</td>\n",
       "      <td>I</td>\n",
       "      <td>남방방게</td>\n",
       "      <td>NE</td>\n",
       "    </tr>\n",
       "    <tr>\n",
       "      <th>148</th>\n",
       "      <td>무척추동물</td>\n",
       "      <td>II</td>\n",
       "      <td>갯게</td>\n",
       "      <td>NE</td>\n",
       "    </tr>\n",
       "    <tr>\n",
       "      <th>150</th>\n",
       "      <td>무척추동물</td>\n",
       "      <td>II</td>\n",
       "      <td>검붉은수지맨드라미</td>\n",
       "      <td>NE</td>\n",
       "    </tr>\n",
       "  </tbody>\n",
       "</table>\n",
       "</div>"
      ],
      "text/plain": [
       "       분류군  등급         국명 국가적색목록\n",
       "146  무척추동물   I       남방방게     NE\n",
       "148  무척추동물  II         갯게     NE\n",
       "150  무척추동물  II  검붉은수지맨드라미     NE"
      ]
     },
     "metadata": {},
     "output_type": "display_data"
    },
    {
     "name": "stdout",
     "output_type": "stream",
     "text": [
      "('무척추동물', 'VU')\n"
     ]
    },
    {
     "data": {
      "text/html": [
       "<div>\n",
       "<style scoped>\n",
       "    .dataframe tbody tr th:only-of-type {\n",
       "        vertical-align: middle;\n",
       "    }\n",
       "\n",
       "    .dataframe tbody tr th {\n",
       "        vertical-align: top;\n",
       "    }\n",
       "\n",
       "    .dataframe thead th {\n",
       "        text-align: right;\n",
       "    }\n",
       "</style>\n",
       "<table border=\"1\" class=\"dataframe\">\n",
       "  <thead>\n",
       "    <tr style=\"text-align: right;\">\n",
       "      <th></th>\n",
       "      <th>분류군</th>\n",
       "      <th>등급</th>\n",
       "      <th>국명</th>\n",
       "      <th>국가적색목록</th>\n",
       "    </tr>\n",
       "  </thead>\n",
       "  <tbody>\n",
       "    <tr>\n",
       "      <th>144</th>\n",
       "      <td>무척추동물</td>\n",
       "      <td>I</td>\n",
       "      <td>귀이빨대칭이</td>\n",
       "      <td>VU</td>\n",
       "    </tr>\n",
       "    <tr>\n",
       "      <th>145</th>\n",
       "      <td>무척추동물</td>\n",
       "      <td>I</td>\n",
       "      <td>나팔고둥</td>\n",
       "      <td>VU</td>\n",
       "    </tr>\n",
       "    <tr>\n",
       "      <th>152</th>\n",
       "      <td>무척추동물</td>\n",
       "      <td>II</td>\n",
       "      <td>기수갈고둥</td>\n",
       "      <td>VU</td>\n",
       "    </tr>\n",
       "  </tbody>\n",
       "</table>\n",
       "</div>"
      ],
      "text/plain": [
       "       분류군  등급      국명 국가적색목록\n",
       "144  무척추동물   I  귀이빨대칭이     VU\n",
       "145  무척추동물   I    나팔고둥     VU\n",
       "152  무척추동물  II   기수갈고둥     VU"
      ]
     },
     "metadata": {},
     "output_type": "display_data"
    },
    {
     "name": "stdout",
     "output_type": "stream",
     "text": [
      "('식물', 'CR')\n"
     ]
    },
    {
     "data": {
      "text/html": [
       "<div>\n",
       "<style scoped>\n",
       "    .dataframe tbody tr th:only-of-type {\n",
       "        vertical-align: middle;\n",
       "    }\n",
       "\n",
       "    .dataframe tbody tr th {\n",
       "        vertical-align: top;\n",
       "    }\n",
       "\n",
       "    .dataframe thead th {\n",
       "        text-align: right;\n",
       "    }\n",
       "</style>\n",
       "<table border=\"1\" class=\"dataframe\">\n",
       "  <thead>\n",
       "    <tr style=\"text-align: right;\">\n",
       "      <th></th>\n",
       "      <th>분류군</th>\n",
       "      <th>등급</th>\n",
       "      <th>국명</th>\n",
       "      <th>국가적색목록</th>\n",
       "    </tr>\n",
       "  </thead>\n",
       "  <tbody>\n",
       "    <tr>\n",
       "      <th>176</th>\n",
       "      <td>식물</td>\n",
       "      <td>I</td>\n",
       "      <td>광릉요강꽃</td>\n",
       "      <td>CR</td>\n",
       "    </tr>\n",
       "    <tr>\n",
       "      <th>178</th>\n",
       "      <td>식물</td>\n",
       "      <td>I</td>\n",
       "      <td>나도풍란</td>\n",
       "      <td>CR</td>\n",
       "    </tr>\n",
       "    <tr>\n",
       "      <th>179</th>\n",
       "      <td>식물</td>\n",
       "      <td>I</td>\n",
       "      <td>만년콩</td>\n",
       "      <td>CR</td>\n",
       "    </tr>\n",
       "  </tbody>\n",
       "</table>\n",
       "</div>"
      ],
      "text/plain": [
       "    분류군 등급     국명 국가적색목록\n",
       "176  식물  I  광릉요강꽃     CR\n",
       "178  식물  I   나도풍란     CR\n",
       "179  식물  I    만년콩     CR"
      ]
     },
     "metadata": {},
     "output_type": "display_data"
    },
    {
     "name": "stdout",
     "output_type": "stream",
     "text": [
      "('식물', 'EN')\n"
     ]
    },
    {
     "data": {
      "text/html": [
       "<div>\n",
       "<style scoped>\n",
       "    .dataframe tbody tr th:only-of-type {\n",
       "        vertical-align: middle;\n",
       "    }\n",
       "\n",
       "    .dataframe tbody tr th {\n",
       "        vertical-align: top;\n",
       "    }\n",
       "\n",
       "    .dataframe thead th {\n",
       "        text-align: right;\n",
       "    }\n",
       "</style>\n",
       "<table border=\"1\" class=\"dataframe\">\n",
       "  <thead>\n",
       "    <tr style=\"text-align: right;\">\n",
       "      <th></th>\n",
       "      <th>분류군</th>\n",
       "      <th>등급</th>\n",
       "      <th>국명</th>\n",
       "      <th>국가적색목록</th>\n",
       "    </tr>\n",
       "  </thead>\n",
       "  <tbody>\n",
       "    <tr>\n",
       "      <th>177</th>\n",
       "      <td>식물</td>\n",
       "      <td>I</td>\n",
       "      <td>금자란</td>\n",
       "      <td>EN</td>\n",
       "    </tr>\n",
       "    <tr>\n",
       "      <th>180</th>\n",
       "      <td>식물</td>\n",
       "      <td>I</td>\n",
       "      <td>비자란</td>\n",
       "      <td>EN</td>\n",
       "    </tr>\n",
       "    <tr>\n",
       "      <th>198</th>\n",
       "      <td>식물</td>\n",
       "      <td>II</td>\n",
       "      <td>나도승마</td>\n",
       "      <td>EN</td>\n",
       "    </tr>\n",
       "  </tbody>\n",
       "</table>\n",
       "</div>"
      ],
      "text/plain": [
       "    분류군  등급    국명 국가적색목록\n",
       "177  식물   I   금자란     EN\n",
       "180  식물   I   비자란     EN\n",
       "198  식물  II  나도승마     EN"
      ]
     },
     "metadata": {},
     "output_type": "display_data"
    },
    {
     "name": "stdout",
     "output_type": "stream",
     "text": [
      "('식물', 'NE')\n"
     ]
    },
    {
     "data": {
      "text/html": [
       "<div>\n",
       "<style scoped>\n",
       "    .dataframe tbody tr th:only-of-type {\n",
       "        vertical-align: middle;\n",
       "    }\n",
       "\n",
       "    .dataframe tbody tr th {\n",
       "        vertical-align: top;\n",
       "    }\n",
       "\n",
       "    .dataframe thead th {\n",
       "        text-align: right;\n",
       "    }\n",
       "</style>\n",
       "<table border=\"1\" class=\"dataframe\">\n",
       "  <thead>\n",
       "    <tr style=\"text-align: right;\">\n",
       "      <th></th>\n",
       "      <th>분류군</th>\n",
       "      <th>등급</th>\n",
       "      <th>국명</th>\n",
       "      <th>국가적색목록</th>\n",
       "    </tr>\n",
       "  </thead>\n",
       "  <tbody>\n",
       "    <tr>\n",
       "      <th>187</th>\n",
       "      <td>식물</td>\n",
       "      <td>II</td>\n",
       "      <td>가는동자꽃</td>\n",
       "      <td>NE</td>\n",
       "    </tr>\n",
       "    <tr>\n",
       "      <th>194</th>\n",
       "      <td>식물</td>\n",
       "      <td>II</td>\n",
       "      <td>검은별고사리</td>\n",
       "      <td>NE</td>\n",
       "    </tr>\n",
       "    <tr>\n",
       "      <th>219</th>\n",
       "      <td>식물</td>\n",
       "      <td>II</td>\n",
       "      <td>산분꽃나무</td>\n",
       "      <td>NE</td>\n",
       "    </tr>\n",
       "  </tbody>\n",
       "</table>\n",
       "</div>"
      ],
      "text/plain": [
       "    분류군  등급      국명 국가적색목록\n",
       "187  식물  II   가는동자꽃     NE\n",
       "194  식물  II  검은별고사리     NE\n",
       "219  식물  II   산분꽃나무     NE"
      ]
     },
     "metadata": {},
     "output_type": "display_data"
    },
    {
     "name": "stdout",
     "output_type": "stream",
     "text": [
      "('식물', 'VU')\n"
     ]
    },
    {
     "data": {
      "text/html": [
       "<div>\n",
       "<style scoped>\n",
       "    .dataframe tbody tr th:only-of-type {\n",
       "        vertical-align: middle;\n",
       "    }\n",
       "\n",
       "    .dataframe tbody tr th {\n",
       "        vertical-align: top;\n",
       "    }\n",
       "\n",
       "    .dataframe thead th {\n",
       "        text-align: right;\n",
       "    }\n",
       "</style>\n",
       "<table border=\"1\" class=\"dataframe\">\n",
       "  <thead>\n",
       "    <tr style=\"text-align: right;\">\n",
       "      <th></th>\n",
       "      <th>분류군</th>\n",
       "      <th>등급</th>\n",
       "      <th>국명</th>\n",
       "      <th>국가적색목록</th>\n",
       "    </tr>\n",
       "  </thead>\n",
       "  <tbody>\n",
       "    <tr>\n",
       "      <th>188</th>\n",
       "      <td>식물</td>\n",
       "      <td>II</td>\n",
       "      <td>가시연</td>\n",
       "      <td>VU</td>\n",
       "    </tr>\n",
       "    <tr>\n",
       "      <th>189</th>\n",
       "      <td>식물</td>\n",
       "      <td>II</td>\n",
       "      <td>가시오갈피나무</td>\n",
       "      <td>VU</td>\n",
       "    </tr>\n",
       "    <tr>\n",
       "      <th>191</th>\n",
       "      <td>식물</td>\n",
       "      <td>II</td>\n",
       "      <td>개가시나무</td>\n",
       "      <td>VU</td>\n",
       "    </tr>\n",
       "  </tbody>\n",
       "</table>\n",
       "</div>"
      ],
      "text/plain": [
       "    분류군  등급       국명 국가적색목록\n",
       "188  식물  II      가시연     VU\n",
       "189  식물  II  가시오갈피나무     VU\n",
       "191  식물  II    개가시나무     VU"
      ]
     },
     "metadata": {},
     "output_type": "display_data"
    },
    {
     "name": "stdout",
     "output_type": "stream",
     "text": [
      "('양서파충류', 'EN')\n"
     ]
    },
    {
     "data": {
      "text/html": [
       "<div>\n",
       "<style scoped>\n",
       "    .dataframe tbody tr th:only-of-type {\n",
       "        vertical-align: middle;\n",
       "    }\n",
       "\n",
       "    .dataframe tbody tr th {\n",
       "        vertical-align: top;\n",
       "    }\n",
       "\n",
       "    .dataframe thead th {\n",
       "        text-align: right;\n",
       "    }\n",
       "</style>\n",
       "<table border=\"1\" class=\"dataframe\">\n",
       "  <thead>\n",
       "    <tr style=\"text-align: right;\">\n",
       "      <th></th>\n",
       "      <th>분류군</th>\n",
       "      <th>등급</th>\n",
       "      <th>국명</th>\n",
       "      <th>국가적색목록</th>\n",
       "    </tr>\n",
       "  </thead>\n",
       "  <tbody>\n",
       "    <tr>\n",
       "      <th>83</th>\n",
       "      <td>양서파충류</td>\n",
       "      <td>I</td>\n",
       "      <td>비바리뱀</td>\n",
       "      <td>EN</td>\n",
       "    </tr>\n",
       "    <tr>\n",
       "      <th>84</th>\n",
       "      <td>양서파충류</td>\n",
       "      <td>I</td>\n",
       "      <td>수원청개구리</td>\n",
       "      <td>EN</td>\n",
       "    </tr>\n",
       "    <tr>\n",
       "      <th>85</th>\n",
       "      <td>양서파충류</td>\n",
       "      <td>II</td>\n",
       "      <td>고리도룡뇽</td>\n",
       "      <td>EN</td>\n",
       "    </tr>\n",
       "  </tbody>\n",
       "</table>\n",
       "</div>"
      ],
      "text/plain": [
       "      분류군  등급      국명 국가적색목록\n",
       "83  양서파충류   I    비바리뱀     EN\n",
       "84  양서파충류   I  수원청개구리     EN\n",
       "85  양서파충류  II   고리도룡뇽     EN"
      ]
     },
     "metadata": {},
     "output_type": "display_data"
    },
    {
     "name": "stdout",
     "output_type": "stream",
     "text": [
      "('양서파충류', 'VU')\n"
     ]
    },
    {
     "data": {
      "text/html": [
       "<div>\n",
       "<style scoped>\n",
       "    .dataframe tbody tr th:only-of-type {\n",
       "        vertical-align: middle;\n",
       "    }\n",
       "\n",
       "    .dataframe tbody tr th {\n",
       "        vertical-align: top;\n",
       "    }\n",
       "\n",
       "    .dataframe thead th {\n",
       "        text-align: right;\n",
       "    }\n",
       "</style>\n",
       "<table border=\"1\" class=\"dataframe\">\n",
       "  <thead>\n",
       "    <tr style=\"text-align: right;\">\n",
       "      <th></th>\n",
       "      <th>분류군</th>\n",
       "      <th>등급</th>\n",
       "      <th>국명</th>\n",
       "      <th>국가적색목록</th>\n",
       "    </tr>\n",
       "  </thead>\n",
       "  <tbody>\n",
       "    <tr>\n",
       "      <th>87</th>\n",
       "      <td>양서파충류</td>\n",
       "      <td>II</td>\n",
       "      <td>금개구리</td>\n",
       "      <td>VU</td>\n",
       "    </tr>\n",
       "    <tr>\n",
       "      <th>88</th>\n",
       "      <td>양서파충류</td>\n",
       "      <td>II</td>\n",
       "      <td>남생이</td>\n",
       "      <td>VU</td>\n",
       "    </tr>\n",
       "    <tr>\n",
       "      <th>89</th>\n",
       "      <td>양서파충류</td>\n",
       "      <td>II</td>\n",
       "      <td>맹꽁이</td>\n",
       "      <td>VU</td>\n",
       "    </tr>\n",
       "  </tbody>\n",
       "</table>\n",
       "</div>"
      ],
      "text/plain": [
       "      분류군  등급    국명 국가적색목록\n",
       "87  양서파충류  II  금개구리     VU\n",
       "88  양서파충류  II   남생이     VU\n",
       "89  양서파충류  II   맹꽁이     VU"
      ]
     },
     "metadata": {},
     "output_type": "display_data"
    },
    {
     "name": "stdout",
     "output_type": "stream",
     "text": [
      "('어류', 'CR')\n"
     ]
    },
    {
     "data": {
      "text/html": [
       "<div>\n",
       "<style scoped>\n",
       "    .dataframe tbody tr th:only-of-type {\n",
       "        vertical-align: middle;\n",
       "    }\n",
       "\n",
       "    .dataframe tbody tr th {\n",
       "        vertical-align: top;\n",
       "    }\n",
       "\n",
       "    .dataframe thead th {\n",
       "        text-align: right;\n",
       "    }\n",
       "</style>\n",
       "<table border=\"1\" class=\"dataframe\">\n",
       "  <thead>\n",
       "    <tr style=\"text-align: right;\">\n",
       "      <th></th>\n",
       "      <th>분류군</th>\n",
       "      <th>등급</th>\n",
       "      <th>국명</th>\n",
       "      <th>국가적색목록</th>\n",
       "    </tr>\n",
       "  </thead>\n",
       "  <tbody>\n",
       "    <tr>\n",
       "      <th>93</th>\n",
       "      <td>어류</td>\n",
       "      <td>I</td>\n",
       "      <td>남방동사리</td>\n",
       "      <td>CR</td>\n",
       "    </tr>\n",
       "    <tr>\n",
       "      <th>97</th>\n",
       "      <td>어류</td>\n",
       "      <td>I</td>\n",
       "      <td>여울마자</td>\n",
       "      <td>CR</td>\n",
       "    </tr>\n",
       "    <tr>\n",
       "      <th>110</th>\n",
       "      <td>어류</td>\n",
       "      <td>II</td>\n",
       "      <td>버들가지</td>\n",
       "      <td>CR</td>\n",
       "    </tr>\n",
       "  </tbody>\n",
       "</table>\n",
       "</div>"
      ],
      "text/plain": [
       "    분류군  등급     국명 국가적색목록\n",
       "93   어류   I  남방동사리     CR\n",
       "97   어류   I   여울마자     CR\n",
       "110  어류  II   버들가지     CR"
      ]
     },
     "metadata": {},
     "output_type": "display_data"
    },
    {
     "name": "stdout",
     "output_type": "stream",
     "text": [
      "('어류', 'EN')\n"
     ]
    },
    {
     "data": {
      "text/html": [
       "<div>\n",
       "<style scoped>\n",
       "    .dataframe tbody tr th:only-of-type {\n",
       "        vertical-align: middle;\n",
       "    }\n",
       "\n",
       "    .dataframe tbody tr th {\n",
       "        vertical-align: top;\n",
       "    }\n",
       "\n",
       "    .dataframe thead th {\n",
       "        text-align: right;\n",
       "    }\n",
       "</style>\n",
       "<table border=\"1\" class=\"dataframe\">\n",
       "  <thead>\n",
       "    <tr style=\"text-align: right;\">\n",
       "      <th></th>\n",
       "      <th>분류군</th>\n",
       "      <th>등급</th>\n",
       "      <th>국명</th>\n",
       "      <th>국가적색목록</th>\n",
       "    </tr>\n",
       "  </thead>\n",
       "  <tbody>\n",
       "    <tr>\n",
       "      <th>91</th>\n",
       "      <td>어류</td>\n",
       "      <td>I</td>\n",
       "      <td>감돌고기</td>\n",
       "      <td>EN</td>\n",
       "    </tr>\n",
       "    <tr>\n",
       "      <th>92</th>\n",
       "      <td>어류</td>\n",
       "      <td>I</td>\n",
       "      <td>꼬치동자개</td>\n",
       "      <td>EN</td>\n",
       "    </tr>\n",
       "    <tr>\n",
       "      <th>94</th>\n",
       "      <td>어류</td>\n",
       "      <td>I</td>\n",
       "      <td>모래주사</td>\n",
       "      <td>EN</td>\n",
       "    </tr>\n",
       "  </tbody>\n",
       "</table>\n",
       "</div>"
      ],
      "text/plain": [
       "   분류군 등급     국명 국가적색목록\n",
       "91  어류  I   감돌고기     EN\n",
       "92  어류  I  꼬치동자개     EN\n",
       "94  어류  I   모래주사     EN"
      ]
     },
     "metadata": {},
     "output_type": "display_data"
    },
    {
     "name": "stdout",
     "output_type": "stream",
     "text": [
      "('어류', 'LC')\n"
     ]
    },
    {
     "data": {
      "text/html": [
       "<div>\n",
       "<style scoped>\n",
       "    .dataframe tbody tr th:only-of-type {\n",
       "        vertical-align: middle;\n",
       "    }\n",
       "\n",
       "    .dataframe tbody tr th {\n",
       "        vertical-align: top;\n",
       "    }\n",
       "\n",
       "    .dataframe thead th {\n",
       "        text-align: right;\n",
       "    }\n",
       "</style>\n",
       "<table border=\"1\" class=\"dataframe\">\n",
       "  <thead>\n",
       "    <tr style=\"text-align: right;\">\n",
       "      <th></th>\n",
       "      <th>분류군</th>\n",
       "      <th>등급</th>\n",
       "      <th>국명</th>\n",
       "      <th>국가적색목록</th>\n",
       "    </tr>\n",
       "  </thead>\n",
       "  <tbody>\n",
       "    <tr>\n",
       "      <th>115</th>\n",
       "      <td>어류</td>\n",
       "      <td>II</td>\n",
       "      <td>큰줄납자루</td>\n",
       "      <td>LC</td>\n",
       "    </tr>\n",
       "  </tbody>\n",
       "</table>\n",
       "</div>"
      ],
      "text/plain": [
       "    분류군  등급     국명 국가적색목록\n",
       "115  어류  II  큰줄납자루     LC"
      ]
     },
     "metadata": {},
     "output_type": "display_data"
    },
    {
     "name": "stdout",
     "output_type": "stream",
     "text": [
      "('어류', 'NT')\n"
     ]
    },
    {
     "data": {
      "text/html": [
       "<div>\n",
       "<style scoped>\n",
       "    .dataframe tbody tr th:only-of-type {\n",
       "        vertical-align: middle;\n",
       "    }\n",
       "\n",
       "    .dataframe tbody tr th {\n",
       "        vertical-align: top;\n",
       "    }\n",
       "\n",
       "    .dataframe thead th {\n",
       "        text-align: right;\n",
       "    }\n",
       "</style>\n",
       "<table border=\"1\" class=\"dataframe\">\n",
       "  <thead>\n",
       "    <tr style=\"text-align: right;\">\n",
       "      <th></th>\n",
       "      <th>분류군</th>\n",
       "      <th>등급</th>\n",
       "      <th>국명</th>\n",
       "      <th>국가적색목록</th>\n",
       "    </tr>\n",
       "  </thead>\n",
       "  <tbody>\n",
       "    <tr>\n",
       "      <th>102</th>\n",
       "      <td>어류</td>\n",
       "      <td>II</td>\n",
       "      <td>가는돌고기</td>\n",
       "      <td>NT</td>\n",
       "    </tr>\n",
       "    <tr>\n",
       "      <th>108</th>\n",
       "      <td>어류</td>\n",
       "      <td>II</td>\n",
       "      <td>묵납자루</td>\n",
       "      <td>NT</td>\n",
       "    </tr>\n",
       "  </tbody>\n",
       "</table>\n",
       "</div>"
      ],
      "text/plain": [
       "    분류군  등급     국명 국가적색목록\n",
       "102  어류  II  가는돌고기     NT\n",
       "108  어류  II   묵납자루     NT"
      ]
     },
     "metadata": {},
     "output_type": "display_data"
    },
    {
     "name": "stdout",
     "output_type": "stream",
     "text": [
      "('어류', 'VU')\n"
     ]
    },
    {
     "data": {
      "text/html": [
       "<div>\n",
       "<style scoped>\n",
       "    .dataframe tbody tr th:only-of-type {\n",
       "        vertical-align: middle;\n",
       "    }\n",
       "\n",
       "    .dataframe tbody tr th {\n",
       "        vertical-align: top;\n",
       "    }\n",
       "\n",
       "    .dataframe thead th {\n",
       "        text-align: right;\n",
       "    }\n",
       "</style>\n",
       "<table border=\"1\" class=\"dataframe\">\n",
       "  <thead>\n",
       "    <tr style=\"text-align: right;\">\n",
       "      <th></th>\n",
       "      <th>분류군</th>\n",
       "      <th>등급</th>\n",
       "      <th>국명</th>\n",
       "      <th>국가적색목록</th>\n",
       "    </tr>\n",
       "  </thead>\n",
       "  <tbody>\n",
       "    <tr>\n",
       "      <th>101</th>\n",
       "      <td>어류</td>\n",
       "      <td>I</td>\n",
       "      <td>흰수마자</td>\n",
       "      <td>VU</td>\n",
       "    </tr>\n",
       "    <tr>\n",
       "      <th>103</th>\n",
       "      <td>어류</td>\n",
       "      <td>II</td>\n",
       "      <td>가시고기</td>\n",
       "      <td>VU</td>\n",
       "    </tr>\n",
       "    <tr>\n",
       "      <th>105</th>\n",
       "      <td>어류</td>\n",
       "      <td>II</td>\n",
       "      <td>꾸구리</td>\n",
       "      <td>VU</td>\n",
       "    </tr>\n",
       "  </tbody>\n",
       "</table>\n",
       "</div>"
      ],
      "text/plain": [
       "    분류군  등급    국명 국가적색목록\n",
       "101  어류   I  흰수마자     VU\n",
       "103  어류  II  가시고기     VU\n",
       "105  어류  II   꾸구리     VU"
      ]
     },
     "metadata": {},
     "output_type": "display_data"
    },
    {
     "name": "stdout",
     "output_type": "stream",
     "text": [
      "('조류', 'CR')\n"
     ]
    },
    {
     "data": {
      "text/html": [
       "<div>\n",
       "<style scoped>\n",
       "    .dataframe tbody tr th:only-of-type {\n",
       "        vertical-align: middle;\n",
       "    }\n",
       "\n",
       "    .dataframe tbody tr th {\n",
       "        vertical-align: top;\n",
       "    }\n",
       "\n",
       "    .dataframe thead th {\n",
       "        text-align: right;\n",
       "    }\n",
       "</style>\n",
       "<table border=\"1\" class=\"dataframe\">\n",
       "  <thead>\n",
       "    <tr style=\"text-align: right;\">\n",
       "      <th></th>\n",
       "      <th>분류군</th>\n",
       "      <th>등급</th>\n",
       "      <th>국명</th>\n",
       "      <th>국가적색목록</th>\n",
       "    </tr>\n",
       "  </thead>\n",
       "  <tbody>\n",
       "    <tr>\n",
       "      <th>21</th>\n",
       "      <td>조류</td>\n",
       "      <td>I</td>\n",
       "      <td>넓적부리도요</td>\n",
       "      <td>CR</td>\n",
       "    </tr>\n",
       "  </tbody>\n",
       "</table>\n",
       "</div>"
      ],
      "text/plain": [
       "   분류군 등급      국명 국가적색목록\n",
       "21  조류  I  넓적부리도요     CR"
      ]
     },
     "metadata": {},
     "output_type": "display_data"
    },
    {
     "name": "stdout",
     "output_type": "stream",
     "text": [
      "('조류', 'EN')\n"
     ]
    },
    {
     "data": {
      "text/html": [
       "<div>\n",
       "<style scoped>\n",
       "    .dataframe tbody tr th:only-of-type {\n",
       "        vertical-align: middle;\n",
       "    }\n",
       "\n",
       "    .dataframe tbody tr th {\n",
       "        vertical-align: top;\n",
       "    }\n",
       "\n",
       "    .dataframe thead th {\n",
       "        text-align: right;\n",
       "    }\n",
       "</style>\n",
       "<table border=\"1\" class=\"dataframe\">\n",
       "  <thead>\n",
       "    <tr style=\"text-align: right;\">\n",
       "      <th></th>\n",
       "      <th>분류군</th>\n",
       "      <th>등급</th>\n",
       "      <th>국명</th>\n",
       "      <th>국가적색목록</th>\n",
       "    </tr>\n",
       "  </thead>\n",
       "  <tbody>\n",
       "    <tr>\n",
       "      <th>20</th>\n",
       "      <td>조류</td>\n",
       "      <td>I</td>\n",
       "      <td>검독수리</td>\n",
       "      <td>EN</td>\n",
       "    </tr>\n",
       "    <tr>\n",
       "      <th>22</th>\n",
       "      <td>조류</td>\n",
       "      <td>I</td>\n",
       "      <td>노랑부리백로</td>\n",
       "      <td>EN</td>\n",
       "    </tr>\n",
       "    <tr>\n",
       "      <th>23</th>\n",
       "      <td>조류</td>\n",
       "      <td>I</td>\n",
       "      <td>두루미</td>\n",
       "      <td>EN</td>\n",
       "    </tr>\n",
       "  </tbody>\n",
       "</table>\n",
       "</div>"
      ],
      "text/plain": [
       "   분류군 등급      국명 국가적색목록\n",
       "20  조류  I    검독수리     EN\n",
       "22  조류  I  노랑부리백로     EN\n",
       "23  조류  I     두루미     EN"
      ]
     },
     "metadata": {},
     "output_type": "display_data"
    },
    {
     "name": "stdout",
     "output_type": "stream",
     "text": [
      "('조류', 'LC')\n"
     ]
    },
    {
     "data": {
      "text/html": [
       "<div>\n",
       "<style scoped>\n",
       "    .dataframe tbody tr th:only-of-type {\n",
       "        vertical-align: middle;\n",
       "    }\n",
       "\n",
       "    .dataframe tbody tr th {\n",
       "        vertical-align: top;\n",
       "    }\n",
       "\n",
       "    .dataframe thead th {\n",
       "        text-align: right;\n",
       "    }\n",
       "</style>\n",
       "<table border=\"1\" class=\"dataframe\">\n",
       "  <thead>\n",
       "    <tr style=\"text-align: right;\">\n",
       "      <th></th>\n",
       "      <th>분류군</th>\n",
       "      <th>등급</th>\n",
       "      <th>국명</th>\n",
       "      <th>국가적색목록</th>\n",
       "    </tr>\n",
       "  </thead>\n",
       "  <tbody>\n",
       "    <tr>\n",
       "      <th>38</th>\n",
       "      <td>조류</td>\n",
       "      <td>II</td>\n",
       "      <td>검은목두루미</td>\n",
       "      <td>LC</td>\n",
       "    </tr>\n",
       "    <tr>\n",
       "      <th>63</th>\n",
       "      <td>조류</td>\n",
       "      <td>II</td>\n",
       "      <td>알락개구리매</td>\n",
       "      <td>LC</td>\n",
       "    </tr>\n",
       "    <tr>\n",
       "      <th>65</th>\n",
       "      <td>조류</td>\n",
       "      <td>II</td>\n",
       "      <td>양비둘기</td>\n",
       "      <td>LC</td>\n",
       "    </tr>\n",
       "  </tbody>\n",
       "</table>\n",
       "</div>"
      ],
      "text/plain": [
       "   분류군  등급      국명 국가적색목록\n",
       "38  조류  II  검은목두루미     LC\n",
       "63  조류  II  알락개구리매     LC\n",
       "65  조류  II    양비둘기     LC"
      ]
     },
     "metadata": {},
     "output_type": "display_data"
    },
    {
     "name": "stdout",
     "output_type": "stream",
     "text": [
      "('조류', 'NE')\n"
     ]
    },
    {
     "data": {
      "text/html": [
       "<div>\n",
       "<style scoped>\n",
       "    .dataframe tbody tr th:only-of-type {\n",
       "        vertical-align: middle;\n",
       "    }\n",
       "\n",
       "    .dataframe tbody tr th {\n",
       "        vertical-align: top;\n",
       "    }\n",
       "\n",
       "    .dataframe thead th {\n",
       "        text-align: right;\n",
       "    }\n",
       "</style>\n",
       "<table border=\"1\" class=\"dataframe\">\n",
       "  <thead>\n",
       "    <tr style=\"text-align: right;\">\n",
       "      <th></th>\n",
       "      <th>분류군</th>\n",
       "      <th>등급</th>\n",
       "      <th>국명</th>\n",
       "      <th>국가적색목록</th>\n",
       "    </tr>\n",
       "  </thead>\n",
       "  <tbody>\n",
       "    <tr>\n",
       "      <th>53</th>\n",
       "      <td>조류</td>\n",
       "      <td>II</td>\n",
       "      <td>붉은어깨도요</td>\n",
       "      <td>NE</td>\n",
       "    </tr>\n",
       "  </tbody>\n",
       "</table>\n",
       "</div>"
      ],
      "text/plain": [
       "   분류군  등급      국명 국가적색목록\n",
       "53  조류  II  붉은어깨도요     NE"
      ]
     },
     "metadata": {},
     "output_type": "display_data"
    },
    {
     "name": "stdout",
     "output_type": "stream",
     "text": [
      "('조류', 'RE')\n"
     ]
    },
    {
     "data": {
      "text/html": [
       "<div>\n",
       "<style scoped>\n",
       "    .dataframe tbody tr th:only-of-type {\n",
       "        vertical-align: middle;\n",
       "    }\n",
       "\n",
       "    .dataframe tbody tr th {\n",
       "        vertical-align: top;\n",
       "    }\n",
       "\n",
       "    .dataframe thead th {\n",
       "        text-align: right;\n",
       "    }\n",
       "</style>\n",
       "<table border=\"1\" class=\"dataframe\">\n",
       "  <thead>\n",
       "    <tr style=\"text-align: right;\">\n",
       "      <th></th>\n",
       "      <th>분류군</th>\n",
       "      <th>등급</th>\n",
       "      <th>국명</th>\n",
       "      <th>국가적색목록</th>\n",
       "    </tr>\n",
       "  </thead>\n",
       "  <tbody>\n",
       "    <tr>\n",
       "      <th>29</th>\n",
       "      <td>조류</td>\n",
       "      <td>I</td>\n",
       "      <td>크낙새</td>\n",
       "      <td>RE</td>\n",
       "    </tr>\n",
       "    <tr>\n",
       "      <th>47</th>\n",
       "      <td>조류</td>\n",
       "      <td>II</td>\n",
       "      <td>따오기</td>\n",
       "      <td>RE</td>\n",
       "    </tr>\n",
       "    <tr>\n",
       "      <th>75</th>\n",
       "      <td>조류</td>\n",
       "      <td>II</td>\n",
       "      <td>팔색조</td>\n",
       "      <td>RE</td>\n",
       "    </tr>\n",
       "  </tbody>\n",
       "</table>\n",
       "</div>"
      ],
      "text/plain": [
       "   분류군  등급   국명 국가적색목록\n",
       "29  조류   I  크낙새     RE\n",
       "47  조류  II  따오기     RE\n",
       "75  조류  II  팔색조     RE"
      ]
     },
     "metadata": {},
     "output_type": "display_data"
    },
    {
     "name": "stdout",
     "output_type": "stream",
     "text": [
      "('조류', 'VU')\n"
     ]
    },
    {
     "data": {
      "text/html": [
       "<div>\n",
       "<style scoped>\n",
       "    .dataframe tbody tr th:only-of-type {\n",
       "        vertical-align: middle;\n",
       "    }\n",
       "\n",
       "    .dataframe tbody tr th {\n",
       "        vertical-align: top;\n",
       "    }\n",
       "\n",
       "    .dataframe thead th {\n",
       "        text-align: right;\n",
       "    }\n",
       "</style>\n",
       "<table border=\"1\" class=\"dataframe\">\n",
       "  <thead>\n",
       "    <tr style=\"text-align: right;\">\n",
       "      <th></th>\n",
       "      <th>분류군</th>\n",
       "      <th>등급</th>\n",
       "      <th>국명</th>\n",
       "      <th>국가적색목록</th>\n",
       "    </tr>\n",
       "  </thead>\n",
       "  <tbody>\n",
       "    <tr>\n",
       "      <th>24</th>\n",
       "      <td>조류</td>\n",
       "      <td>I</td>\n",
       "      <td>매</td>\n",
       "      <td>VU</td>\n",
       "    </tr>\n",
       "    <tr>\n",
       "      <th>26</th>\n",
       "      <td>조류</td>\n",
       "      <td>I</td>\n",
       "      <td>저어새</td>\n",
       "      <td>VU</td>\n",
       "    </tr>\n",
       "    <tr>\n",
       "      <th>33</th>\n",
       "      <td>조류</td>\n",
       "      <td>I</td>\n",
       "      <td>흰꼬리수리</td>\n",
       "      <td>VU</td>\n",
       "    </tr>\n",
       "  </tbody>\n",
       "</table>\n",
       "</div>"
      ],
      "text/plain": [
       "   분류군 등급     국명 국가적색목록\n",
       "24  조류  I      매     VU\n",
       "26  조류  I    저어새     VU\n",
       "33  조류  I  흰꼬리수리     VU"
      ]
     },
     "metadata": {},
     "output_type": "display_data"
    },
    {
     "name": "stdout",
     "output_type": "stream",
     "text": [
      "('포유류', 'CR')\n"
     ]
    },
    {
     "data": {
      "text/html": [
       "<div>\n",
       "<style scoped>\n",
       "    .dataframe tbody tr th:only-of-type {\n",
       "        vertical-align: middle;\n",
       "    }\n",
       "\n",
       "    .dataframe tbody tr th {\n",
       "        vertical-align: top;\n",
       "    }\n",
       "\n",
       "    .dataframe thead th {\n",
       "        text-align: right;\n",
       "    }\n",
       "</style>\n",
       "<table border=\"1\" class=\"dataframe\">\n",
       "  <thead>\n",
       "    <tr style=\"text-align: right;\">\n",
       "      <th></th>\n",
       "      <th>분류군</th>\n",
       "      <th>등급</th>\n",
       "      <th>국명</th>\n",
       "      <th>국가적색목록</th>\n",
       "    </tr>\n",
       "  </thead>\n",
       "  <tbody>\n",
       "    <tr>\n",
       "      <th>4</th>\n",
       "      <td>포유류</td>\n",
       "      <td>I</td>\n",
       "      <td>사향노루</td>\n",
       "      <td>CR</td>\n",
       "    </tr>\n",
       "  </tbody>\n",
       "</table>\n",
       "</div>"
      ],
      "text/plain": [
       "   분류군 등급    국명 국가적색목록\n",
       "4  포유류  I  사향노루     CR"
      ]
     },
     "metadata": {},
     "output_type": "display_data"
    },
    {
     "name": "stdout",
     "output_type": "stream",
     "text": [
      "('포유류', 'EN')\n"
     ]
    },
    {
     "data": {
      "text/html": [
       "<div>\n",
       "<style scoped>\n",
       "    .dataframe tbody tr th:only-of-type {\n",
       "        vertical-align: middle;\n",
       "    }\n",
       "\n",
       "    .dataframe tbody tr th {\n",
       "        vertical-align: top;\n",
       "    }\n",
       "\n",
       "    .dataframe thead th {\n",
       "        text-align: right;\n",
       "    }\n",
       "</style>\n",
       "<table border=\"1\" class=\"dataframe\">\n",
       "  <thead>\n",
       "    <tr style=\"text-align: right;\">\n",
       "      <th></th>\n",
       "      <th>분류군</th>\n",
       "      <th>등급</th>\n",
       "      <th>국명</th>\n",
       "      <th>국가적색목록</th>\n",
       "    </tr>\n",
       "  </thead>\n",
       "  <tbody>\n",
       "    <tr>\n",
       "      <th>2</th>\n",
       "      <td>포유류</td>\n",
       "      <td>I</td>\n",
       "      <td>반달가슴곰</td>\n",
       "      <td>EN</td>\n",
       "    </tr>\n",
       "    <tr>\n",
       "      <th>8</th>\n",
       "      <td>포유류</td>\n",
       "      <td>I</td>\n",
       "      <td>여우</td>\n",
       "      <td>EN</td>\n",
       "    </tr>\n",
       "    <tr>\n",
       "      <th>9</th>\n",
       "      <td>포유류</td>\n",
       "      <td>I</td>\n",
       "      <td>작은관코박쥐</td>\n",
       "      <td>EN</td>\n",
       "    </tr>\n",
       "  </tbody>\n",
       "</table>\n",
       "</div>"
      ],
      "text/plain": [
       "   분류군 등급      국명 국가적색목록\n",
       "2  포유류  I   반달가슴곰     EN\n",
       "8  포유류  I      여우     EN\n",
       "9  포유류  I  작은관코박쥐     EN"
      ]
     },
     "metadata": {},
     "output_type": "display_data"
    },
    {
     "name": "stdout",
     "output_type": "stream",
     "text": [
      "('포유류', 'NE')\n"
     ]
    },
    {
     "data": {
      "text/html": [
       "<div>\n",
       "<style scoped>\n",
       "    .dataframe tbody tr th:only-of-type {\n",
       "        vertical-align: middle;\n",
       "    }\n",
       "\n",
       "    .dataframe tbody tr th {\n",
       "        vertical-align: top;\n",
       "    }\n",
       "\n",
       "    .dataframe thead th {\n",
       "        text-align: right;\n",
       "    }\n",
       "</style>\n",
       "<table border=\"1\" class=\"dataframe\">\n",
       "  <thead>\n",
       "    <tr style=\"text-align: right;\">\n",
       "      <th></th>\n",
       "      <th>분류군</th>\n",
       "      <th>등급</th>\n",
       "      <th>국명</th>\n",
       "      <th>국가적색목록</th>\n",
       "    </tr>\n",
       "  </thead>\n",
       "  <tbody>\n",
       "    <tr>\n",
       "      <th>17</th>\n",
       "      <td>포유류</td>\n",
       "      <td>II</td>\n",
       "      <td>큰바다사자</td>\n",
       "      <td>NE</td>\n",
       "    </tr>\n",
       "  </tbody>\n",
       "</table>\n",
       "</div>"
      ],
      "text/plain": [
       "    분류군  등급     국명 국가적색목록\n",
       "17  포유류  II  큰바다사자     NE"
      ]
     },
     "metadata": {},
     "output_type": "display_data"
    },
    {
     "name": "stdout",
     "output_type": "stream",
     "text": [
      "('포유류', 'RE')\n"
     ]
    },
    {
     "data": {
      "text/html": [
       "<div>\n",
       "<style scoped>\n",
       "    .dataframe tbody tr th:only-of-type {\n",
       "        vertical-align: middle;\n",
       "    }\n",
       "\n",
       "    .dataframe tbody tr th {\n",
       "        vertical-align: top;\n",
       "    }\n",
       "\n",
       "    .dataframe thead th {\n",
       "        text-align: right;\n",
       "    }\n",
       "</style>\n",
       "<table border=\"1\" class=\"dataframe\">\n",
       "  <thead>\n",
       "    <tr style=\"text-align: right;\">\n",
       "      <th></th>\n",
       "      <th>분류군</th>\n",
       "      <th>등급</th>\n",
       "      <th>국명</th>\n",
       "      <th>국가적색목록</th>\n",
       "    </tr>\n",
       "  </thead>\n",
       "  <tbody>\n",
       "    <tr>\n",
       "      <th>0</th>\n",
       "      <td>포유류</td>\n",
       "      <td>I</td>\n",
       "      <td>늑대</td>\n",
       "      <td>RE</td>\n",
       "    </tr>\n",
       "    <tr>\n",
       "      <th>1</th>\n",
       "      <td>포유류</td>\n",
       "      <td>I</td>\n",
       "      <td>대륙사슴</td>\n",
       "      <td>RE</td>\n",
       "    </tr>\n",
       "    <tr>\n",
       "      <th>7</th>\n",
       "      <td>포유류</td>\n",
       "      <td>I</td>\n",
       "      <td>스라소니</td>\n",
       "      <td>RE</td>\n",
       "    </tr>\n",
       "  </tbody>\n",
       "</table>\n",
       "</div>"
      ],
      "text/plain": [
       "   분류군 등급    국명 국가적색목록\n",
       "0  포유류  I    늑대     RE\n",
       "1  포유류  I  대륙사슴     RE\n",
       "7  포유류  I  스라소니     RE"
      ]
     },
     "metadata": {},
     "output_type": "display_data"
    },
    {
     "name": "stdout",
     "output_type": "stream",
     "text": [
      "('포유류', 'VU')\n"
     ]
    },
    {
     "data": {
      "text/html": [
       "<div>\n",
       "<style scoped>\n",
       "    .dataframe tbody tr th:only-of-type {\n",
       "        vertical-align: middle;\n",
       "    }\n",
       "\n",
       "    .dataframe tbody tr th {\n",
       "        vertical-align: top;\n",
       "    }\n",
       "\n",
       "    .dataframe thead th {\n",
       "        text-align: right;\n",
       "    }\n",
       "</style>\n",
       "<table border=\"1\" class=\"dataframe\">\n",
       "  <thead>\n",
       "    <tr style=\"text-align: right;\">\n",
       "      <th></th>\n",
       "      <th>분류군</th>\n",
       "      <th>등급</th>\n",
       "      <th>국명</th>\n",
       "      <th>국가적색목록</th>\n",
       "    </tr>\n",
       "  </thead>\n",
       "  <tbody>\n",
       "    <tr>\n",
       "      <th>3</th>\n",
       "      <td>포유류</td>\n",
       "      <td>I</td>\n",
       "      <td>붉은박쥐</td>\n",
       "      <td>VU</td>\n",
       "    </tr>\n",
       "    <tr>\n",
       "      <th>5</th>\n",
       "      <td>포유류</td>\n",
       "      <td>I</td>\n",
       "      <td>산양</td>\n",
       "      <td>VU</td>\n",
       "    </tr>\n",
       "    <tr>\n",
       "      <th>6</th>\n",
       "      <td>포유류</td>\n",
       "      <td>I</td>\n",
       "      <td>수달</td>\n",
       "      <td>VU</td>\n",
       "    </tr>\n",
       "  </tbody>\n",
       "</table>\n",
       "</div>"
      ],
      "text/plain": [
       "   분류군 등급    국명 국가적색목록\n",
       "3  포유류  I  붉은박쥐     VU\n",
       "5  포유류  I    산양     VU\n",
       "6  포유류  I    수달     VU"
      ]
     },
     "metadata": {},
     "output_type": "display_data"
    },
    {
     "name": "stdout",
     "output_type": "stream",
     "text": [
      "('해조류', 'NE')\n"
     ]
    },
    {
     "data": {
      "text/html": [
       "<div>\n",
       "<style scoped>\n",
       "    .dataframe tbody tr th:only-of-type {\n",
       "        vertical-align: middle;\n",
       "    }\n",
       "\n",
       "    .dataframe tbody tr th {\n",
       "        vertical-align: top;\n",
       "    }\n",
       "\n",
       "    .dataframe thead th {\n",
       "        text-align: right;\n",
       "    }\n",
       "</style>\n",
       "<table border=\"1\" class=\"dataframe\">\n",
       "  <thead>\n",
       "    <tr style=\"text-align: right;\">\n",
       "      <th></th>\n",
       "      <th>분류군</th>\n",
       "      <th>등급</th>\n",
       "      <th>국명</th>\n",
       "      <th>국가적색목록</th>\n",
       "    </tr>\n",
       "  </thead>\n",
       "  <tbody>\n",
       "    <tr>\n",
       "      <th>264</th>\n",
       "      <td>해조류</td>\n",
       "      <td>II</td>\n",
       "      <td>그물공말</td>\n",
       "      <td>NE</td>\n",
       "    </tr>\n",
       "    <tr>\n",
       "      <th>265</th>\n",
       "      <td>해조류</td>\n",
       "      <td>II</td>\n",
       "      <td>삼나무말</td>\n",
       "      <td>NE</td>\n",
       "    </tr>\n",
       "  </tbody>\n",
       "</table>\n",
       "</div>"
      ],
      "text/plain": [
       "     분류군  등급    국명 국가적색목록\n",
       "264  해조류  II  그물공말     NE\n",
       "265  해조류  II  삼나무말     NE"
      ]
     },
     "metadata": {},
     "output_type": "display_data"
    }
   ],
   "source": [
    "#분류군과 국가적색목록을 그룹으로 묶어 출력\n",
    "a = species.groupby(['분류군', '국가적색목록'])\n",
    "\n",
    "for n, g in a:\n",
    "    print(n)\n",
    "    display(g.head(3))"
   ]
  },
  {
   "cell_type": "markdown",
   "metadata": {},
   "source": [
    "### 4. 의미 해석 및 가치 도출"
   ]
  },
  {
   "cell_type": "markdown",
   "metadata": {},
   "source": [
    "1. 멸종위기종이 가장 많은 분류군은 식물\n",
    "2. 국가적색목록 분류 중 가장 많은 등급은 취약(VU)\n",
    "3. 위급(CR) 등급은 식물에 가장 많이 분포\n",
    "4. 멸종위기 범주의 종이 그 외 종보다 많음\n",
    "5. 멸종위기종에 관심을 가지자"
   ]
  },
  {
   "cell_type": "markdown",
   "metadata": {},
   "source": [
    "#### 감사합니다 :)"
   ]
  }
 ],
 "metadata": {
  "kernelspec": {
   "display_name": "Python 3",
   "language": "python",
   "name": "python3"
  },
  "language_info": {
   "codemirror_mode": {
    "name": "ipython",
    "version": 3
   },
   "file_extension": ".py",
   "mimetype": "text/x-python",
   "name": "python",
   "nbconvert_exporter": "python",
   "pygments_lexer": "ipython3",
   "version": "3.8.5"
  }
 },
 "nbformat": 4,
 "nbformat_minor": 4
}
